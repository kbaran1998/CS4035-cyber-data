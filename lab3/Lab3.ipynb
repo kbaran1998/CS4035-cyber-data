{
 "cells": [
  {
   "attachments": {},
   "cell_type": "markdown",
   "metadata": {},
   "source": [
    "# CS4035 - Cyber Data Analytics\n",
    "## Lab 3 "
   ]
  },
  {
   "attachments": {},
   "cell_type": "markdown",
   "metadata": {},
   "source": [
    "### Submit on brightspace (zip file with the name Group_xx.zip)\n",
    "(i) This jupyter file completed with code, plots, figures and report for each question. Additional plots and figures can be created for explanation before the end of each main question. Lab 3 contains 4 main questions + 1 bonus. Write the code or explanation below each sub question. For the explantions, include what you would normally include in the report for this lab assignment, for example data pre-processing, hypothesis tested, approach, results, etc.\n",
    "(ii) A PDF or a Word report for the assignment. Create a report from the plots, figures, tables and the write-up that you provide in this jupyter file. The report will be used as a proof for page limit. \n",
    "(iii) The libraries needed to run this file. \n",
    "\n",
    "Your peers should be able to use the readme section for instructions and be able to run this file. "
   ]
  },
  {
   "attachments": {},
   "cell_type": "markdown",
   "metadata": {},
   "source": [
    "## Group Number :"
   ]
  },
  {
   "attachments": {},
   "cell_type": "markdown",
   "metadata": {},
   "source": [
    "## Student 1"
   ]
  },
  {
   "attachments": {},
   "cell_type": "markdown",
   "metadata": {},
   "source": [
    "## Student 2"
   ]
  },
  {
   "attachments": {},
   "cell_type": "markdown",
   "metadata": {},
   "source": [
    "## Readme - Provide instructions - libraries used, location of the data file, etc. Keep it short. Remember your peers will not debug your code and should be able to reproduce the exact output you provide."
   ]
  },
  {
   "attachments": {},
   "cell_type": "markdown",
   "metadata": {},
   "source": [
    "Please assure that FlexFringe is correctly installed and the path to the FlexFringe executable is correct. Please add all the datasets to the datasets folder in the same directory as the notebook. Then, for each dataset create a subdirectory formed as \"dataset_x\" where x is the number of the dataset.\n",
    "Further details can be found in the readme file attached to the submission."
   ]
  },
  {
   "cell_type": "code",
   "execution_count": 10,
   "metadata": {
    "collapsed": false,
    "jupyter": {
     "outputs_hidden": false
    },
    "tags": []
   },
   "outputs": [],
   "source": [
    "import os\n",
    "import time\n",
    "import sympy\n",
    "import json\n",
    "import nbformat\n",
    "import pandas as pd\n",
    "import numpy as np\n",
    "import matplotlib.pyplot as plt\n",
    "from datetime import datetime\n",
    "from collections import Counter\n",
    "from itertools import combinations\n",
    "from typing import Dict, List, Set, Union, Tuple\n",
    "from rich.progress import track\n",
    "from rich.console import Console\n",
    "from rich.table import Table\n",
    "from flexfringe import FlexFringe"
   ]
  },
  {
   "cell_type": "code",
   "execution_count": 11,
   "metadata": {
    "collapsed": false,
    "jupyter": {
     "outputs_hidden": false
    },
    "tags": []
   },
   "outputs": [
    {
     "name": "stdout",
     "output_type": "stream",
     "text": [
      "Word count: 1208\n"
     ]
    }
   ],
   "source": [
    "# If this cell does not work try running ``\n",
    "nb = nbformat.read(\"Lab3.ipynb\", nbformat.NO_CONVERT)\n",
    "word_count = 0\n",
    "for cell in nb.cells:\n",
    "    if cell.cell_type == \"markdown\":\n",
    "        word_count += len(cell['source'].replace('#', '').lstrip().split(' '))\n",
    "\n",
    "print(\"Word count:\", word_count)"
   ]
  },
  {
   "cell_type": "code",
   "execution_count": 12,
   "metadata": {
    "tags": []
   },
   "outputs": [],
   "source": [
    "if not os.path.exists(os.path.join(os.getcwd(), \"flexfringe-x64-linux\")):\n",
    "    !wget https://github.com/tudelft-cda-lab/FlexFringe/releases/download/latest/flexfringe-x64-linux"
   ]
  },
  {
   "cell_type": "code",
   "execution_count": 13,
   "metadata": {
    "tags": []
   },
   "outputs": [
    {
     "data": {
      "text/plain": [
       "'/project/lab3/flexfringe-x64-linux'"
      ]
     },
     "execution_count": 13,
     "metadata": {},
     "output_type": "execute_result"
    }
   ],
   "source": [
    "############################ IMPOPORTANT #########################\n",
    "# Change this this your need, this path is if you are running your notebook in Docker.\n",
    "FLEX_FRINGE_PATH = os.path.join(os.getcwd(), \"flexfringe-x64-linux\")\n",
    "FLEX_FRINGE_PATH"
   ]
  },
  {
   "attachments": {},
   "cell_type": "markdown",
   "metadata": {},
   "source": [
    "## 1. Familiarization and discretization task – 1 A4 (5 Points)"
   ]
  },
  {
   "attachments": {},
   "cell_type": "markdown",
   "metadata": {},
   "source": [
    "### 1a. Plot visualizations - Select and visualize two features for modeling the behavior of the infected host."
   ]
  },
  {
   "attachments": {},
   "cell_type": "markdown",
   "metadata": {},
   "source": [
    "Investigating the dataset."
   ]
  },
  {
   "cell_type": "code",
   "execution_count": 14,
   "metadata": {
    "tags": []
   },
   "outputs": [
    {
     "data": {
      "text/plain": [
       "array(['flow=Background-TCP-Attempt', 'flow=Background-TCP-Established',\n",
       "       'flow=Background-Established-cmpgw-CVUT',\n",
       "       'flow=To-Background-CVUT-Proxy', 'flow=Background',\n",
       "       'flow=Background-UDP-Established', 'flow=Background-UDP-Attempt',\n",
       "       'flow=From-Background-CVUT-Proxy',\n",
       "       'flow=To-Background-UDP-CVUT-DNS-Server',\n",
       "       'flow=To-Background-Grill', 'flow=Background-Attempt-cmpgw-CVUT',\n",
       "       'flow=Background-UDP-NTP-Established-1',\n",
       "       'flow=Background-google-webmail',\n",
       "       'flow=Background-google-analytics11', 'flow=From-Normal-V51-Grill',\n",
       "       'flow=Background-google-analytics10',\n",
       "       'flow=From-Normal-V51-Stribrek',\n",
       "       'flow=Background-google-analytics6', 'flow=To-Background-Stribrek',\n",
       "       'flow=Background-google-analytics9',\n",
       "       'flow=To-Background-CVUT-WebServer',\n",
       "       'flow=Background-google-analytics15',\n",
       "       'flow=Background-google-analytics2', 'flow=From-Normal-V51-Jist',\n",
       "       'flow=Background-google-analytics8', 'flow=To-Background-Jist',\n",
       "       'flow=Background-google-analytics3',\n",
       "       'flow=Background-google-analytics14',\n",
       "       'flow=To-Background-MatLab-Server',\n",
       "       'flow=To-Normal-V51-UDP-NTP-server',\n",
       "       'flow=Background-google-analytics13',\n",
       "       'flow=Background-google-analytics12',\n",
       "       'flow=Background-ajax.google', 'flow=Background-google-analytics4',\n",
       "       'flow=Background-google-analytics1',\n",
       "       'flow=Background-google-analytics16',\n",
       "       'flow=Background-google-analytics7', 'flow=Background-google-pop',\n",
       "       'flow=Background-google-analytics5',\n",
       "       'flow=From-Normal-V51-CVUT-WebServer',\n",
       "       'flow=Background-www.fel.cvut.cz',\n",
       "       'flow=From-Botnet-V51-1-UDP-DNS',\n",
       "       'flow=From-Botnet-V51-1-TCP-HTTP-Google-Net-Established-6',\n",
       "       'flow=From-Botnet-V51-1-UDP-Attempt',\n",
       "       'flow=From-Botnet-V51-2-UDP-DNS',\n",
       "       'flow=From-Botnet-V51-2-TCP-HTTP-Google-Net-Established-6',\n",
       "       'flow=From-Botnet-V51-2-UDP-Attempt',\n",
       "       'flow=From-Normal-V51-MatLab-Server',\n",
       "       'flow=From-Normal-V51-UDP-CVUT-DNS-Server',\n",
       "       'flow=From-Botnet-V51-3-UDP-DNS',\n",
       "       'flow=From-Botnet-V51-3-TCP-HTTP-Google-Net-Established-6',\n",
       "       'flow=From-Botnet-V51-3-UDP-Attempt',\n",
       "       'flow=From-Botnet-V51-4-UDP-DNS',\n",
       "       'flow=From-Botnet-V51-4-TCP-HTTP-Google-Net-Established-6',\n",
       "       'flow=From-Botnet-V51-4-UDP-Attempt',\n",
       "       'flow=From-Botnet-V51-5-UDP-DNS',\n",
       "       'flow=From-Botnet-V51-5-TCP-HTTP-Google-Net-Established-6',\n",
       "       'flow=From-Botnet-V51-5-UDP-Attempt',\n",
       "       'flow=From-Botnet-V51-6-UDP-DNS',\n",
       "       'flow=From-Botnet-V51-6-TCP-HTTP-Google-Net-Established-6',\n",
       "       'flow=From-Botnet-V51-6-UDP-Attempt',\n",
       "       'flow=From-Botnet-V51-7-UDP-DNS',\n",
       "       'flow=From-Botnet-V51-7-TCP-HTTP-Google-Net-Established-6',\n",
       "       'flow=From-Botnet-V51-7-UDP-Attempt',\n",
       "       'flow=From-Botnet-V51-8-UDP-DNS',\n",
       "       'flow=From-Botnet-V51-8-TCP-HTTP-Google-Net-Established-6',\n",
       "       'flow=From-Botnet-V51-8-UDP-Attempt',\n",
       "       'flow=From-Botnet-V51-9-UDP-DNS',\n",
       "       'flow=From-Botnet-V51-9-TCP-HTTP-Google-Net-Established-6',\n",
       "       'flow=From-Botnet-V51-9-UDP-Attempt',\n",
       "       'flow=From-Botnet-V51-10-UDP-DNS',\n",
       "       'flow=From-Botnet-V51-10-TCP-HTTP-Google-Net-Established-6',\n",
       "       'flow=From-Botnet-V51-10-UDP-Attempt',\n",
       "       'flow=From-Botnet-V51-10-TCP-CC106-IRC-Not-Encrypted',\n",
       "       'flow=From-Botnet-V51-9-TCP-CC106-IRC-Not-Encrypted',\n",
       "       'flow=From-Botnet-V51-1-TCP-WEB-Established',\n",
       "       'flow=From-Botnet-V51-8-TCP-CC106-IRC-Not-Encrypted',\n",
       "       'flow=From-Botnet-V51-7-TCP-CC106-IRC-Not-Encrypted',\n",
       "       'flow=From-Botnet-V51-5-TCP-CC106-IRC-Not-Encrypted',\n",
       "       'flow=From-Botnet-V51-3-TCP-CC106-IRC-Not-Encrypted',\n",
       "       'flow=From-Botnet-V51-1-TCP-CC106-IRC-Not-Encrypted',\n",
       "       'flow=From-Botnet-V51-2-TCP-Established',\n",
       "       'flow=From-Botnet-V51-4-TCP-Established',\n",
       "       'flow=From-Botnet-V51-6-TCP-CC106-IRC-Not-Encrypted',\n",
       "       'flow=From-Botnet-V51-10-TCP-WEB-Established',\n",
       "       'flow=From-Botnet-V51-9-TCP-Established-HTTP-Ad-62',\n",
       "       'flow=From-Botnet-V51-8-TCP-WEB-Established',\n",
       "       'flow=From-Botnet-V51-7-TCP-WEB-Established',\n",
       "       'flow=From-Botnet-V51-5-TCP-Established-HTTP-Ad-62',\n",
       "       'flow=From-Botnet-V51-3-TCP-Established-HTTP-Ad-62',\n",
       "       'flow=From-Botnet-V51-4-TCP-Established-HTTP-Ad-62',\n",
       "       'flow=From-Botnet-V51-2-TCP-WEB-Established',\n",
       "       'flow=Normal-V51-HTTP-windowsupdate',\n",
       "       'flow=From-Botnet-V51-6-TCP-WEB-Established',\n",
       "       'flow=From-Botnet-V51-5-ICMP', 'flow=From-Botnet-V51-3-ICMP',\n",
       "       'flow=From-Botnet-V51-1-ICMP', 'flow=From-Botnet-V51-7-ICMP',\n",
       "       'flow=From-Botnet-V51-10-ICMP', 'flow=From-Botnet-V51-9-ICMP',\n",
       "       'flow=From-Botnet-V51-4-ICMP', 'flow=From-Botnet-V51-2-ICMP',\n",
       "       'flow=From-Botnet-V51-6-ICMP', 'flow=From-Botnet-V51-8-ICMP',\n",
       "       'flow=From-Botnet-V51-2-TCP-CC106-IRC-Not-Encrypted',\n",
       "       'flow=From-Botnet-V51-4-TCP-CC106-IRC-Not-Encrypted',\n",
       "       'flow=From-Botnet-V51-5-TCP-CC1-HTTP-Not-Encrypted',\n",
       "       'flow=From-Botnet-V51-8-TCP-Established',\n",
       "       'flow=From-Botnet-V51-9-TCP-CC1-HTTP-Not-Encrypted',\n",
       "       'flow=From-Botnet-V51-8-TCP-CC1-HTTP-Not-Encrypted',\n",
       "       'flow=From-Botnet-V51-1-TCP-Established'], dtype=object)"
      ]
     },
     "execution_count": 14,
     "metadata": {},
     "output_type": "execute_result"
    }
   ],
   "source": [
    "df = pd.read_csv(\"datasets/dataset_10/capture20110818.binetflow\")\n",
    "df.head()\n",
    "\n",
    "# Print unique values of labels\n",
    "df.Label.unique()"
   ]
  },
  {
   "cell_type": "code",
   "execution_count": 15,
   "metadata": {
    "collapsed": false,
    "jupyter": {
     "outputs_hidden": false
    },
    "tags": []
   },
   "outputs": [
    {
     "name": "stdout",
     "output_type": "stream",
     "text": [
      "Number of Nan values: \n",
      "StartTime         0\n",
      "Dur               0\n",
      "Proto             0\n",
      "SrcAddr           0\n",
      "Sport          6987\n",
      "Dir               0\n",
      "DstAddr           0\n",
      "Dport        104215\n",
      "State          1228\n",
      "sTos          12852\n",
      "dTos         186791\n",
      "TotPkts           0\n",
      "TotBytes          0\n",
      "SrcBytes          0\n",
      "Label             0\n",
      "dtype: int64\n",
      "####################################\n",
      "Types of features: \n",
      "StartTime :  <class 'str'>\n",
      "Dur :  <class 'numpy.float64'>\n",
      "Proto :  <class 'str'>\n",
      "SrcAddr :  <class 'str'>\n",
      "Sport :  <class 'str'>\n",
      "Dir :  <class 'str'>\n",
      "DstAddr :  <class 'str'>\n",
      "Dport :  <class 'str'>\n",
      "State :  <class 'str'>\n",
      "sTos :  <class 'numpy.float64'>\n",
      "dTos :  <class 'numpy.float64'>\n",
      "TotPkts :  <class 'numpy.int64'>\n",
      "TotBytes :  <class 'numpy.int64'>\n",
      "SrcBytes :  <class 'numpy.int64'>\n",
      "Label :  <class 'str'>\n",
      "####################################\n",
      "Number of unique values for each feature: \n",
      "StartTime :  1309789\n",
      "Dur :  515748\n",
      "Proto :  14\n",
      "SrcAddr :  151256\n",
      "Sport :  114793\n",
      "Dir :  6\n",
      "DstAddr :  72957\n",
      "Dport :  47046\n",
      "State :  332\n",
      "sTos :  6\n",
      "dTos :  5\n",
      "TotPkts :  3190\n",
      "TotBytes :  61767\n",
      "SrcBytes :  24267\n",
      "Label :  111\n"
     ]
    }
   ],
   "source": [
    "# Print the number of null values\n",
    "print(\"Number of Nan values: \")\n",
    "print(df.isnull().sum())\n",
    "print(\"####################################\")\n",
    "\n",
    "# Print types of features\n",
    "print(\"Types of features: \")\n",
    "for col in df.columns:\n",
    "    print(col, \": \", type(df[col][0]))\n",
    "print(\"####################################\")\n",
    "\n",
    "# Print the number of unique values for each feature\n",
    "print(\"Number of unique values for each feature: \")\n",
    "for col in df.columns:\n",
    "    print(col, \": \", len(df[col].unique()))"
   ]
  },
  {
   "attachments": {},
   "cell_type": "markdown",
   "metadata": {},
   "source": [
    "Preprocessing data. Filling in the missing values and converting the types."
   ]
  },
  {
   "cell_type": "code",
   "execution_count": 16,
   "metadata": {
    "collapsed": false,
    "jupyter": {
     "outputs_hidden": false
    },
    "tags": []
   },
   "outputs": [],
   "source": [
    "# Replace the Nan values of the sport and dport features with 0\n",
    "df['Sport'] = df['Sport'].fillna(\"-1\")\n",
    "df['Dport'] = df['Dport'].fillna(\"-1\")\n",
    "\n",
    "# Turn the hex values of the sport and dport features into int if it is a hex value\n",
    "df['Sport'] = df['Sport'].apply(lambda x: int(x, 16) if type(x) == str and x.startswith('0x') else x)\n",
    "df['Dport'] = df['Dport'].apply(lambda x: int(x, 16) if type(x) == str and x.startswith('0x') else x)\n",
    "\n",
    "# Change the type of the dport and sport features to int\n",
    "df['Sport'] = df['Sport'].astype(int)\n",
    "df['Dport'] = df['Dport'].astype(int)\n",
    "\n",
    "# Replace one NaN value of the State\n",
    "df['State'] = df['State'].fillna(\"None\")"
   ]
  },
  {
   "cell_type": "code",
   "execution_count": 17,
   "metadata": {
    "collapsed": false,
    "jupyter": {
     "outputs_hidden": false
    },
    "tags": []
   },
   "outputs": [
    {
     "name": "stdout",
     "output_type": "stream",
     "text": [
      "Range of values for each feature: \n",
      "Dur :  0.0  -  3600.019287\n",
      "Sport :  -1  -  65535\n",
      "Dport :  -1  -  539032744\n",
      "sTos :  0.0  -  192.0\n",
      "dTos :  0.0  -  3.0\n",
      "TotPkts :  1  -  1853001\n",
      "TotBytes :  60  -  1933022240\n",
      "SrcBytes :  0  -  1233899763\n"
     ]
    }
   ],
   "source": [
    "# Print the range of values for each feature\n",
    "print(\"Range of values for each feature: \")\n",
    "for col in df.columns:\n",
    "    if type(df[col][0]) == str:\n",
    "        continue\n",
    "    print(col, \": \", df[col].min(), \" - \", df[col].max())"
   ]
  },
  {
   "cell_type": "code",
   "execution_count": 18,
   "metadata": {
    "tags": []
   },
   "outputs": [
    {
     "name": "stdout",
     "output_type": "stream",
     "text": [
      "Unique values for each string feature: \n",
      "StartTime :  ['2011/08/18 10:21:46.633335' '2011/08/18 10:19:49.027650'\n",
      " '2011/08/18 10:22:07.160628' ... '2011/08/18 15:04:59.686325'\n",
      " '2011/08/18 15:04:59.690632' '2011/08/18 15:04:59.703972']\n",
      "Proto :  ['tcp' 'udp' 'icmp' 'pim' 'arp' 'ipx/spx' 'rtp' 'rtcp' 'igmp' 'ipv6-icmp'\n",
      " 'ipv6' 'esp' 'llc' 'udt']\n",
      "SrcAddr :  ['93.45.239.29' '62.240.166.118' '147.32.86.148' ... '197.252.19.173'\n",
      " '83.183.55.171' '177.16.175.252']\n",
      "Dir :  ['   ->' '  <?>' '   ?>' '  <->' '  who' '  <-']\n",
      "DstAddr :  ['147.32.84.118' '147.32.84.229' '66.235.132.232' ... '213.102.121.139'\n",
      " '60.234.51.66' '173.21.49.153']\n",
      "State :  ['S_RA' 'SRPA_PA' 'SR_SA' 'SRA_SA' 'SR_A' 'SRPA_FSPA' 'SRPA_SA' 'RA_'\n",
      " 'S_SRA' 'FSPA_FSRPA' 'FSA_FSA' 'FRPA_FPA' 'CON' 'PA_PA' 'A_FPA' 'FPA_FPA'\n",
      " 'INT' 'URP' 'RPA_FPA' 'FPA_FA' 'PA_FRA' 'FPA_FSPA' 'PA_A' 'A_PA' 'RA_FPA'\n",
      " 'PA_RPA' 'FRPAC_FPA' 'A_' 'S_' 'FSPA_FSPA' 'FA_A' 'RPA_PA' 'SRPA_SPA'\n",
      " 'FPA_FRA' 'R_' 'RSP' 'FA_FA' 'RED' 'SA_' 'FA_RA' 'FA_R' 'FPA_PA'\n",
      " 'SRPA_FSRPA' 'URN' 'FPA_FRPA' 'RA_FA' 'FA_' 'SPA_SPA' 'FPA_R' 'FA_FPA'\n",
      " 'FPA_RA' 'ECO' 'FRPA_RPA' 'FRA_FA' 'FA_FSA' 'FSRPA_FSPA' 'URFIL' 'PA_FPA'\n",
      " 'URH' 'FA_FRA' 'FPA_' 'FRA_' 'SPA_FSPA' 'S_SA' 'FSPA_FSA' '_FSPA'\n",
      " 'FSRPA_FSRPA' 'FRPA_' 'FS_SA' 'A_RA' 'FPA_RPA' 'SA_R' 'ECR' 'A_A' 'TXD'\n",
      " 'FSPA_SRPA' 'SPA_SRPA' 'FRPA_PA' 'PA_' 'FSRPA_SA' 'FSRPA_SPA' 'PA_RA'\n",
      " 'FRPA_FRPA' 'PA_FA' 'FSA_FSPA' 'SEC_RA' '_SPA' 'FSRA_FSA' 'SA_SA'\n",
      " 'FSPA_FSRA' 'FSA_SRA' 'FSA_FSRA' 'F_' 'URHPRO' 'NNS' 'FS_' 'SPA_FSRPA'\n",
      " 'A_R' 'SR_RA' '_SRA' 'FRPA_FA' 'RA_A' 'SRC' 'PA_R' 'SRPA_FSA' 'SPA_SRA'\n",
      " 'SA_SRA' '_FSA' 'SRPA_SRPA' 'FSPA_SPA' 'FSRPA_SRPA' 'SRA_FSA' 'SR_'\n",
      " 'FRA_FPA' 'NRS' 'SRA_RA' 'FSPA_SRA' 'SA_FSA' 'PA_PAC' 'FSPA_SA' 'SA_RA'\n",
      " 'FSPAC_FSPA' 'FSRA_SA' 'SPAC_SRPA' 'S_SPA' 'FSA_' 'FSAU_FSA' 'DCE'\n",
      " 'FSRA_FSPA' 'S_FRA' 'SRA_SPA' 'FSRPA_FSA' 'FSA_SA' 'FSRPAC_FSPA'\n",
      " 'SRA_FSPA' 'SRPA_FSPAC' 'SPAC_SPA' 'URO' '_SA' 'SA_RPA' 'SPA_FSRA'\n",
      " 'FSR_SA' 'FSRPA_FSRPAC' 'SA_SPA' 'URNPRO' 'RPA_RA' 'SPA_FSA' 'SRA_SRA'\n",
      " 'FSPAC_FSRA' 'URF' 'FSA_FPA' 'SEC_' 'SPA_SA' 'SPAC_FSPA' 'FSPA_FSPAC'\n",
      " 'PA_FSA' 'RA_S' 'PA_FSPA' 'FSPAEC_SPA' 'SRA_' 'FSPAEC_FSPA' 'FSRPA_SRA'\n",
      " 'None' 'REQ' 'PA_FRPA' 'FSRPA_FPA' 'RPA_FSRPA' 'FPA_A' 'RPA_A'\n",
      " 'FSPA_FRPA' 'PA_FSRPA' 'FPA_FSRPA' 'SR_SRA' 'SRPAC_FSRPA' 'SRPAC_FSPA'\n",
      " '_R' 'S_RPA' '_PA' 'SRPA_FSRA' '_RA' 'SA_FSRA' 'FSRPAC_SPA' 'A_FA' '_FPA'\n",
      " 'R_PA' 'FA_SA' 'SRPA_SRA' 'FPA_SRPA' 'FSA_A' 'FSPAC_FSRPA' 'SRPA_FRPA'\n",
      " 'S_R' 'SPAC_FSRPA' 'IRQ' 'SPA_' 'FSRPA_FSRA' 'UNK' 'MAS' 'TST' 'IRR'\n",
      " 'NRA' 'RTS' 'DNQ' 'RTA' 'ROB' 'MSR' 'TSR' 'SKP' 'SEC' 'PAR' 'AHA' 'MRP'\n",
      " 'DNP' 'MRQ' 'WAY' 'IAH' 'PTB' 'MHR' 'TRC' 'PHO' 'UR' 'NNA' 'URNU' 'URISO'\n",
      " 'URPRE' 'SPA_PA' 'PA_SPA' 'URHU' 'FSA_SPA' 'FSPA_FPA' 'URCUT' 'A_SPA'\n",
      " 'SRPA_FPA' 'SPA_A' 'URS' 'PA_SA' 'URHTOS' 'S_FA' 'FA_FSPA' 'FA_PA'\n",
      " 'FSA_FA' 'A_SA' 'SA_PA' 'S_A' 'SA_A' 'A_SRPA' 'RPA_FA' 'FSPA_PA' 'FSA_PA'\n",
      " 'RA_SA' 'RPA_FSPA' 'FPA_SA' 'FPA_SPA' 'SPA_FPA' 'FRPA_A' 'FPA_FSA'\n",
      " 'RPA_SPA' 'A_SRA' 'RPA_SA' 'SA_FPA' 'FRA_SPA' 'RA_PA' 'S_FSA' 'SA_FSPA'\n",
      " 'SPA_RA' 'SRA_FA' 'S_FPA' 'SA_FA' 'FRPA_FSPA' 'A_FRA' 'FA_RPA' 'SRA_FPA'\n",
      " 'SPA_RPA' 'SRA_PA' 'A_FSA' 'SA_FRA' 'S_PA' 'FRA_A' 'SA_SRPA' 'PA_SRA'\n",
      " 'PA_SRPA' 'FSPA_FA' 'FSPA_RPA' 'SRPA_RPA' 'PA_FSRA' 'FRA_PA' 'FSPAC_FA'\n",
      " '_' 'RPA_' 'FA_SRA' '_S' 'SPA_FA' 'FSA_FRA' 'FSPA_A' 'S_FSPA' 'FSRA_SRPA'\n",
      " 'RA_SPA' 'RPA_FSA' 'FSRA_FPA' 'FA_FRPA' 'SR_FPA' 'FSRA_PA' 'A_FSPA'\n",
      " 'FPA_SRA' 'SRA_A' 'RPA_RPA' 'RPA_FRPA' '_FRPA' 'FSRA_SPA' 'FSPAC_FSA'\n",
      " 'SRA_FSRA' 'FSPAC_SRPA' 'R_FPA' 'SRA_R' 'FRPA_R' 'SRPA_FSRPAC'\n",
      " 'FSRA_FSRA' 'RA_RA' 'SRC_SA' 'FSAU_SA' 'SRPAC_SPA' 'A_RPE' 'FSAU_FSRA'\n",
      " 'SA_S' 'PAC_PA' 'FRPA_SPA' 'FPA_FSRA' 'FRA_FRPA' 'RPA_SRPA' 'FAU_RA'\n",
      " 'SPA_FRPA' 'FRPA_FPAC']\n",
      "Label :  ['flow=Background-TCP-Attempt' 'flow=Background-TCP-Established'\n",
      " 'flow=Background-Established-cmpgw-CVUT' 'flow=To-Background-CVUT-Proxy'\n",
      " 'flow=Background' 'flow=Background-UDP-Established'\n",
      " 'flow=Background-UDP-Attempt' 'flow=From-Background-CVUT-Proxy'\n",
      " 'flow=To-Background-UDP-CVUT-DNS-Server' 'flow=To-Background-Grill'\n",
      " 'flow=Background-Attempt-cmpgw-CVUT'\n",
      " 'flow=Background-UDP-NTP-Established-1' 'flow=Background-google-webmail'\n",
      " 'flow=Background-google-analytics11' 'flow=From-Normal-V51-Grill'\n",
      " 'flow=Background-google-analytics10' 'flow=From-Normal-V51-Stribrek'\n",
      " 'flow=Background-google-analytics6' 'flow=To-Background-Stribrek'\n",
      " 'flow=Background-google-analytics9' 'flow=To-Background-CVUT-WebServer'\n",
      " 'flow=Background-google-analytics15' 'flow=Background-google-analytics2'\n",
      " 'flow=From-Normal-V51-Jist' 'flow=Background-google-analytics8'\n",
      " 'flow=To-Background-Jist' 'flow=Background-google-analytics3'\n",
      " 'flow=Background-google-analytics14' 'flow=To-Background-MatLab-Server'\n",
      " 'flow=To-Normal-V51-UDP-NTP-server' 'flow=Background-google-analytics13'\n",
      " 'flow=Background-google-analytics12' 'flow=Background-ajax.google'\n",
      " 'flow=Background-google-analytics4' 'flow=Background-google-analytics1'\n",
      " 'flow=Background-google-analytics16' 'flow=Background-google-analytics7'\n",
      " 'flow=Background-google-pop' 'flow=Background-google-analytics5'\n",
      " 'flow=From-Normal-V51-CVUT-WebServer' 'flow=Background-www.fel.cvut.cz'\n",
      " 'flow=From-Botnet-V51-1-UDP-DNS'\n",
      " 'flow=From-Botnet-V51-1-TCP-HTTP-Google-Net-Established-6'\n",
      " 'flow=From-Botnet-V51-1-UDP-Attempt' 'flow=From-Botnet-V51-2-UDP-DNS'\n",
      " 'flow=From-Botnet-V51-2-TCP-HTTP-Google-Net-Established-6'\n",
      " 'flow=From-Botnet-V51-2-UDP-Attempt' 'flow=From-Normal-V51-MatLab-Server'\n",
      " 'flow=From-Normal-V51-UDP-CVUT-DNS-Server'\n",
      " 'flow=From-Botnet-V51-3-UDP-DNS'\n",
      " 'flow=From-Botnet-V51-3-TCP-HTTP-Google-Net-Established-6'\n",
      " 'flow=From-Botnet-V51-3-UDP-Attempt' 'flow=From-Botnet-V51-4-UDP-DNS'\n",
      " 'flow=From-Botnet-V51-4-TCP-HTTP-Google-Net-Established-6'\n",
      " 'flow=From-Botnet-V51-4-UDP-Attempt' 'flow=From-Botnet-V51-5-UDP-DNS'\n",
      " 'flow=From-Botnet-V51-5-TCP-HTTP-Google-Net-Established-6'\n",
      " 'flow=From-Botnet-V51-5-UDP-Attempt' 'flow=From-Botnet-V51-6-UDP-DNS'\n",
      " 'flow=From-Botnet-V51-6-TCP-HTTP-Google-Net-Established-6'\n",
      " 'flow=From-Botnet-V51-6-UDP-Attempt' 'flow=From-Botnet-V51-7-UDP-DNS'\n",
      " 'flow=From-Botnet-V51-7-TCP-HTTP-Google-Net-Established-6'\n",
      " 'flow=From-Botnet-V51-7-UDP-Attempt' 'flow=From-Botnet-V51-8-UDP-DNS'\n",
      " 'flow=From-Botnet-V51-8-TCP-HTTP-Google-Net-Established-6'\n",
      " 'flow=From-Botnet-V51-8-UDP-Attempt' 'flow=From-Botnet-V51-9-UDP-DNS'\n",
      " 'flow=From-Botnet-V51-9-TCP-HTTP-Google-Net-Established-6'\n",
      " 'flow=From-Botnet-V51-9-UDP-Attempt' 'flow=From-Botnet-V51-10-UDP-DNS'\n",
      " 'flow=From-Botnet-V51-10-TCP-HTTP-Google-Net-Established-6'\n",
      " 'flow=From-Botnet-V51-10-UDP-Attempt'\n",
      " 'flow=From-Botnet-V51-10-TCP-CC106-IRC-Not-Encrypted'\n",
      " 'flow=From-Botnet-V51-9-TCP-CC106-IRC-Not-Encrypted'\n",
      " 'flow=From-Botnet-V51-1-TCP-WEB-Established'\n",
      " 'flow=From-Botnet-V51-8-TCP-CC106-IRC-Not-Encrypted'\n",
      " 'flow=From-Botnet-V51-7-TCP-CC106-IRC-Not-Encrypted'\n",
      " 'flow=From-Botnet-V51-5-TCP-CC106-IRC-Not-Encrypted'\n",
      " 'flow=From-Botnet-V51-3-TCP-CC106-IRC-Not-Encrypted'\n",
      " 'flow=From-Botnet-V51-1-TCP-CC106-IRC-Not-Encrypted'\n",
      " 'flow=From-Botnet-V51-2-TCP-Established'\n",
      " 'flow=From-Botnet-V51-4-TCP-Established'\n",
      " 'flow=From-Botnet-V51-6-TCP-CC106-IRC-Not-Encrypted'\n",
      " 'flow=From-Botnet-V51-10-TCP-WEB-Established'\n",
      " 'flow=From-Botnet-V51-9-TCP-Established-HTTP-Ad-62'\n",
      " 'flow=From-Botnet-V51-8-TCP-WEB-Established'\n",
      " 'flow=From-Botnet-V51-7-TCP-WEB-Established'\n",
      " 'flow=From-Botnet-V51-5-TCP-Established-HTTP-Ad-62'\n",
      " 'flow=From-Botnet-V51-3-TCP-Established-HTTP-Ad-62'\n",
      " 'flow=From-Botnet-V51-4-TCP-Established-HTTP-Ad-62'\n",
      " 'flow=From-Botnet-V51-2-TCP-WEB-Established'\n",
      " 'flow=Normal-V51-HTTP-windowsupdate'\n",
      " 'flow=From-Botnet-V51-6-TCP-WEB-Established'\n",
      " 'flow=From-Botnet-V51-5-ICMP' 'flow=From-Botnet-V51-3-ICMP'\n",
      " 'flow=From-Botnet-V51-1-ICMP' 'flow=From-Botnet-V51-7-ICMP'\n",
      " 'flow=From-Botnet-V51-10-ICMP' 'flow=From-Botnet-V51-9-ICMP'\n",
      " 'flow=From-Botnet-V51-4-ICMP' 'flow=From-Botnet-V51-2-ICMP'\n",
      " 'flow=From-Botnet-V51-6-ICMP' 'flow=From-Botnet-V51-8-ICMP'\n",
      " 'flow=From-Botnet-V51-2-TCP-CC106-IRC-Not-Encrypted'\n",
      " 'flow=From-Botnet-V51-4-TCP-CC106-IRC-Not-Encrypted'\n",
      " 'flow=From-Botnet-V51-5-TCP-CC1-HTTP-Not-Encrypted'\n",
      " 'flow=From-Botnet-V51-8-TCP-Established'\n",
      " 'flow=From-Botnet-V51-9-TCP-CC1-HTTP-Not-Encrypted'\n",
      " 'flow=From-Botnet-V51-8-TCP-CC1-HTTP-Not-Encrypted'\n",
      " 'flow=From-Botnet-V51-1-TCP-Established']\n"
     ]
    }
   ],
   "source": [
    "# Print unique strings of each feature\n",
    "print(\"Unique values for each string feature: \")\n",
    "for col in df.columns:\n",
    "    if type(df[col][0]) == str:\n",
    "        print(col, \": \", df[col].unique())"
   ]
  },
  {
   "cell_type": "code",
   "execution_count": 19,
   "metadata": {
    "collapsed": false,
    "jupyter": {
     "outputs_hidden": false
    },
    "tags": []
   },
   "outputs": [
    {
     "name": "stdout",
     "output_type": "stream",
     "text": [
      "Number of malicious flows:  106352\n",
      "Number of benign flows:  1203439\n"
     ]
    }
   ],
   "source": [
    "# Group the df into malicious and benign flows\n",
    "# The label of malicious flows contain the string 'Botnet'\n",
    "malicious_flows = df[df.Label.str.contains('Botnet')]\n",
    "benign_flows = df[~df.Label.str.contains('Botnet')]\n",
    "\n",
    "# Print the number of malicious and benign flows\n",
    "print(\"Number of malicious flows: \", len(malicious_flows))\n",
    "print(\"Number of benign flows: \", len(benign_flows))"
   ]
  },
  {
   "cell_type": "code",
   "execution_count": 20,
   "metadata": {
    "collapsed": false,
    "jupyter": {
     "outputs_hidden": false
    },
    "tags": []
   },
   "outputs": [
    {
     "data": {
      "text/html": [
       "<div>\n",
       "<style scoped>\n",
       "    .dataframe tbody tr th:only-of-type {\n",
       "        vertical-align: middle;\n",
       "    }\n",
       "\n",
       "    .dataframe tbody tr th {\n",
       "        vertical-align: top;\n",
       "    }\n",
       "\n",
       "    .dataframe thead th {\n",
       "        text-align: right;\n",
       "    }\n",
       "</style>\n",
       "<table border=\"1\" class=\"dataframe\">\n",
       "  <thead>\n",
       "    <tr style=\"text-align: right;\">\n",
       "      <th></th>\n",
       "      <th>StartTime</th>\n",
       "      <th>Dur</th>\n",
       "      <th>Proto</th>\n",
       "      <th>SrcAddr</th>\n",
       "      <th>Sport</th>\n",
       "      <th>Dir</th>\n",
       "      <th>DstAddr</th>\n",
       "      <th>Dport</th>\n",
       "      <th>State</th>\n",
       "      <th>sTos</th>\n",
       "      <th>dTos</th>\n",
       "      <th>TotPkts</th>\n",
       "      <th>TotBytes</th>\n",
       "      <th>SrcBytes</th>\n",
       "      <th>Label</th>\n",
       "    </tr>\n",
       "  </thead>\n",
       "  <tbody>\n",
       "    <tr>\n",
       "      <th>90622</th>\n",
       "      <td>2011/08/18 10:37:58.448307</td>\n",
       "      <td>0.000342</td>\n",
       "      <td>udp</td>\n",
       "      <td>147.32.84.165</td>\n",
       "      <td>1025</td>\n",
       "      <td>&lt;-&gt;</td>\n",
       "      <td>147.32.80.9</td>\n",
       "      <td>53</td>\n",
       "      <td>CON</td>\n",
       "      <td>0.0</td>\n",
       "      <td>0.0</td>\n",
       "      <td>2</td>\n",
       "      <td>203</td>\n",
       "      <td>64</td>\n",
       "      <td>flow=From-Botnet-V51-1-UDP-DNS</td>\n",
       "    </tr>\n",
       "    <tr>\n",
       "      <th>90808</th>\n",
       "      <td>2011/08/18 10:38:00.695278</td>\n",
       "      <td>0.010278</td>\n",
       "      <td>udp</td>\n",
       "      <td>147.32.84.165</td>\n",
       "      <td>1025</td>\n",
       "      <td>&lt;-&gt;</td>\n",
       "      <td>147.32.80.9</td>\n",
       "      <td>53</td>\n",
       "      <td>CON</td>\n",
       "      <td>0.0</td>\n",
       "      <td>0.0</td>\n",
       "      <td>2</td>\n",
       "      <td>590</td>\n",
       "      <td>87</td>\n",
       "      <td>flow=From-Botnet-V51-1-UDP-DNS</td>\n",
       "    </tr>\n",
       "    <tr>\n",
       "      <th>90809</th>\n",
       "      <td>2011/08/18 10:38:00.706560</td>\n",
       "      <td>0.043726</td>\n",
       "      <td>tcp</td>\n",
       "      <td>147.32.84.165</td>\n",
       "      <td>1027</td>\n",
       "      <td>-&gt;</td>\n",
       "      <td>74.125.232.206</td>\n",
       "      <td>80</td>\n",
       "      <td>SRPA_SPA</td>\n",
       "      <td>0.0</td>\n",
       "      <td>0.0</td>\n",
       "      <td>7</td>\n",
       "      <td>882</td>\n",
       "      <td>629</td>\n",
       "      <td>flow=From-Botnet-V51-1-TCP-HTTP-Google-Net-Est...</td>\n",
       "    </tr>\n",
       "    <tr>\n",
       "      <th>90965</th>\n",
       "      <td>2011/08/18 10:38:03.255934</td>\n",
       "      <td>0.010256</td>\n",
       "      <td>udp</td>\n",
       "      <td>147.32.84.165</td>\n",
       "      <td>1025</td>\n",
       "      <td>&lt;-&gt;</td>\n",
       "      <td>147.32.80.9</td>\n",
       "      <td>53</td>\n",
       "      <td>CON</td>\n",
       "      <td>0.0</td>\n",
       "      <td>0.0</td>\n",
       "      <td>2</td>\n",
       "      <td>479</td>\n",
       "      <td>76</td>\n",
       "      <td>flow=From-Botnet-V51-1-UDP-DNS</td>\n",
       "    </tr>\n",
       "    <tr>\n",
       "      <th>90968</th>\n",
       "      <td>2011/08/18 10:38:03.267222</td>\n",
       "      <td>581.516663</td>\n",
       "      <td>udp</td>\n",
       "      <td>147.32.84.165</td>\n",
       "      <td>123</td>\n",
       "      <td>-&gt;</td>\n",
       "      <td>65.55.56.40</td>\n",
       "      <td>123</td>\n",
       "      <td>INT</td>\n",
       "      <td>0.0</td>\n",
       "      <td>NaN</td>\n",
       "      <td>4</td>\n",
       "      <td>360</td>\n",
       "      <td>360</td>\n",
       "      <td>flow=From-Botnet-V51-1-UDP-Attempt</td>\n",
       "    </tr>\n",
       "  </tbody>\n",
       "</table>\n",
       "</div>"
      ],
      "text/plain": [
       "                        StartTime         Dur Proto        SrcAddr  Sport  \\\n",
       "90622  2011/08/18 10:37:58.448307    0.000342   udp  147.32.84.165   1025   \n",
       "90808  2011/08/18 10:38:00.695278    0.010278   udp  147.32.84.165   1025   \n",
       "90809  2011/08/18 10:38:00.706560    0.043726   tcp  147.32.84.165   1027   \n",
       "90965  2011/08/18 10:38:03.255934    0.010256   udp  147.32.84.165   1025   \n",
       "90968  2011/08/18 10:38:03.267222  581.516663   udp  147.32.84.165    123   \n",
       "\n",
       "         Dir         DstAddr  Dport     State  sTos  dTos  TotPkts  TotBytes  \\\n",
       "90622    <->     147.32.80.9     53       CON   0.0   0.0        2       203   \n",
       "90808    <->     147.32.80.9     53       CON   0.0   0.0        2       590   \n",
       "90809     ->  74.125.232.206     80  SRPA_SPA   0.0   0.0        7       882   \n",
       "90965    <->     147.32.80.9     53       CON   0.0   0.0        2       479   \n",
       "90968     ->     65.55.56.40    123       INT   0.0   NaN        4       360   \n",
       "\n",
       "       SrcBytes                                              Label  \n",
       "90622        64                     flow=From-Botnet-V51-1-UDP-DNS  \n",
       "90808        87                     flow=From-Botnet-V51-1-UDP-DNS  \n",
       "90809       629  flow=From-Botnet-V51-1-TCP-HTTP-Google-Net-Est...  \n",
       "90965        76                     flow=From-Botnet-V51-1-UDP-DNS  \n",
       "90968       360                 flow=From-Botnet-V51-1-UDP-Attempt  "
      ]
     },
     "metadata": {},
     "output_type": "display_data"
    },
    {
     "data": {
      "text/html": [
       "<div>\n",
       "<style scoped>\n",
       "    .dataframe tbody tr th:only-of-type {\n",
       "        vertical-align: middle;\n",
       "    }\n",
       "\n",
       "    .dataframe tbody tr th {\n",
       "        vertical-align: top;\n",
       "    }\n",
       "\n",
       "    .dataframe thead th {\n",
       "        text-align: right;\n",
       "    }\n",
       "</style>\n",
       "<table border=\"1\" class=\"dataframe\">\n",
       "  <thead>\n",
       "    <tr style=\"text-align: right;\">\n",
       "      <th></th>\n",
       "      <th>StartTime</th>\n",
       "      <th>Dur</th>\n",
       "      <th>Proto</th>\n",
       "      <th>SrcAddr</th>\n",
       "      <th>Sport</th>\n",
       "      <th>Dir</th>\n",
       "      <th>DstAddr</th>\n",
       "      <th>Dport</th>\n",
       "      <th>State</th>\n",
       "      <th>sTos</th>\n",
       "      <th>dTos</th>\n",
       "      <th>TotPkts</th>\n",
       "      <th>TotBytes</th>\n",
       "      <th>SrcBytes</th>\n",
       "      <th>Label</th>\n",
       "    </tr>\n",
       "  </thead>\n",
       "  <tbody>\n",
       "    <tr>\n",
       "      <th>0</th>\n",
       "      <td>2011/08/18 10:21:46.633335</td>\n",
       "      <td>1.060248</td>\n",
       "      <td>tcp</td>\n",
       "      <td>93.45.239.29</td>\n",
       "      <td>1611</td>\n",
       "      <td>-&gt;</td>\n",
       "      <td>147.32.84.118</td>\n",
       "      <td>6881</td>\n",
       "      <td>S_RA</td>\n",
       "      <td>0.0</td>\n",
       "      <td>0.0</td>\n",
       "      <td>4</td>\n",
       "      <td>252</td>\n",
       "      <td>132</td>\n",
       "      <td>flow=Background-TCP-Attempt</td>\n",
       "    </tr>\n",
       "    <tr>\n",
       "      <th>1</th>\n",
       "      <td>2011/08/18 10:19:49.027650</td>\n",
       "      <td>279.349152</td>\n",
       "      <td>tcp</td>\n",
       "      <td>62.240.166.118</td>\n",
       "      <td>1031</td>\n",
       "      <td>&lt;?&gt;</td>\n",
       "      <td>147.32.84.229</td>\n",
       "      <td>13363</td>\n",
       "      <td>SRPA_PA</td>\n",
       "      <td>0.0</td>\n",
       "      <td>0.0</td>\n",
       "      <td>15</td>\n",
       "      <td>1318</td>\n",
       "      <td>955</td>\n",
       "      <td>flow=Background-TCP-Attempt</td>\n",
       "    </tr>\n",
       "    <tr>\n",
       "      <th>2</th>\n",
       "      <td>2011/08/18 10:22:07.160628</td>\n",
       "      <td>166.390015</td>\n",
       "      <td>tcp</td>\n",
       "      <td>147.32.86.148</td>\n",
       "      <td>58067</td>\n",
       "      <td>-&gt;</td>\n",
       "      <td>66.235.132.232</td>\n",
       "      <td>80</td>\n",
       "      <td>SR_SA</td>\n",
       "      <td>0.0</td>\n",
       "      <td>0.0</td>\n",
       "      <td>3</td>\n",
       "      <td>212</td>\n",
       "      <td>134</td>\n",
       "      <td>flow=Background-TCP-Established</td>\n",
       "    </tr>\n",
       "    <tr>\n",
       "      <th>3</th>\n",
       "      <td>2011/08/18 10:26:02.052163</td>\n",
       "      <td>1.187083</td>\n",
       "      <td>tcp</td>\n",
       "      <td>147.32.3.51</td>\n",
       "      <td>3130</td>\n",
       "      <td>-&gt;</td>\n",
       "      <td>147.32.84.46</td>\n",
       "      <td>10010</td>\n",
       "      <td>S_RA</td>\n",
       "      <td>0.0</td>\n",
       "      <td>0.0</td>\n",
       "      <td>4</td>\n",
       "      <td>244</td>\n",
       "      <td>124</td>\n",
       "      <td>flow=Background-TCP-Attempt</td>\n",
       "    </tr>\n",
       "    <tr>\n",
       "      <th>4</th>\n",
       "      <td>2011/08/18 10:26:52.226748</td>\n",
       "      <td>0.980571</td>\n",
       "      <td>tcp</td>\n",
       "      <td>88.212.37.169</td>\n",
       "      <td>3134</td>\n",
       "      <td>-&gt;</td>\n",
       "      <td>147.32.84.118</td>\n",
       "      <td>6881</td>\n",
       "      <td>S_RA</td>\n",
       "      <td>0.0</td>\n",
       "      <td>0.0</td>\n",
       "      <td>4</td>\n",
       "      <td>244</td>\n",
       "      <td>124</td>\n",
       "      <td>flow=Background-TCP-Attempt</td>\n",
       "    </tr>\n",
       "  </tbody>\n",
       "</table>\n",
       "</div>"
      ],
      "text/plain": [
       "                    StartTime         Dur Proto         SrcAddr  Sport    Dir  \\\n",
       "0  2011/08/18 10:21:46.633335    1.060248   tcp    93.45.239.29   1611     ->   \n",
       "1  2011/08/18 10:19:49.027650  279.349152   tcp  62.240.166.118   1031    <?>   \n",
       "2  2011/08/18 10:22:07.160628  166.390015   tcp   147.32.86.148  58067     ->   \n",
       "3  2011/08/18 10:26:02.052163    1.187083   tcp     147.32.3.51   3130     ->   \n",
       "4  2011/08/18 10:26:52.226748    0.980571   tcp   88.212.37.169   3134     ->   \n",
       "\n",
       "          DstAddr  Dport    State  sTos  dTos  TotPkts  TotBytes  SrcBytes  \\\n",
       "0   147.32.84.118   6881     S_RA   0.0   0.0        4       252       132   \n",
       "1   147.32.84.229  13363  SRPA_PA   0.0   0.0       15      1318       955   \n",
       "2  66.235.132.232     80    SR_SA   0.0   0.0        3       212       134   \n",
       "3    147.32.84.46  10010     S_RA   0.0   0.0        4       244       124   \n",
       "4   147.32.84.118   6881     S_RA   0.0   0.0        4       244       124   \n",
       "\n",
       "                             Label  \n",
       "0      flow=Background-TCP-Attempt  \n",
       "1      flow=Background-TCP-Attempt  \n",
       "2  flow=Background-TCP-Established  \n",
       "3      flow=Background-TCP-Attempt  \n",
       "4      flow=Background-TCP-Attempt  "
      ]
     },
     "metadata": {},
     "output_type": "display_data"
    }
   ],
   "source": [
    "display(malicious_flows.head())\n",
    "display(benign_flows.head())"
   ]
  },
  {
   "cell_type": "code",
   "execution_count": 21,
   "metadata": {
    "collapsed": false,
    "jupyter": {
     "outputs_hidden": false
    },
    "tags": []
   },
   "outputs": [
    {
     "name": "stdout",
     "output_type": "stream",
     "text": [
      "Number of Nan values in malicious flows: \n",
      "StartTime         0\n",
      "Dur               0\n",
      "Proto             0\n",
      "SrcAddr           0\n",
      "Sport             0\n",
      "Dir               0\n",
      "DstAddr           0\n",
      "Dport             0\n",
      "State             0\n",
      "sTos              0\n",
      "dTos         106116\n",
      "TotPkts           0\n",
      "TotBytes          0\n",
      "SrcBytes          0\n",
      "Label             0\n",
      "dtype: int64\n",
      "Number of Nan values in benign flows: \n",
      "StartTime        0\n",
      "Dur              0\n",
      "Proto            0\n",
      "SrcAddr          0\n",
      "Sport            0\n",
      "Dir              0\n",
      "DstAddr          0\n",
      "Dport            0\n",
      "State            0\n",
      "sTos         12852\n",
      "dTos         80675\n",
      "TotPkts          0\n",
      "TotBytes         0\n",
      "SrcBytes         0\n",
      "Label            0\n",
      "dtype: int64\n"
     ]
    }
   ],
   "source": [
    "# Find Nan values\n",
    "print(\"Number of Nan values in malicious flows: \")\n",
    "print(malicious_flows.isnull().sum())\n",
    "print(\"Number of Nan values in benign flows: \")\n",
    "print(benign_flows.isnull().sum())"
   ]
  },
  {
   "cell_type": "code",
   "execution_count": 22,
   "metadata": {
    "collapsed": false,
    "jupyter": {
     "outputs_hidden": false
    },
    "tags": []
   },
   "outputs": [
    {
     "name": "stdout",
     "output_type": "stream",
     "text": [
      "Float values of state in malicious flows: \n",
      "Empty DataFrame\n",
      "Columns: [StartTime, Dur, Proto, SrcAddr, Sport, Dir, DstAddr, Dport, State, sTos, dTos, TotPkts, TotBytes, SrcBytes, Label]\n",
      "Index: []\n"
     ]
    }
   ],
   "source": [
    "# Print out the float values of state\n",
    "print(\"Float values of state in malicious flows: \")\n",
    "print(malicious_flows[malicious_flows['State'].apply(lambda x: type(x) == float)])"
   ]
  },
  {
   "cell_type": "code",
   "execution_count": 23,
   "metadata": {
    "collapsed": false,
    "jupyter": {
     "outputs_hidden": false
    },
    "tags": []
   },
   "outputs": [
    {
     "name": "stderr",
     "output_type": "stream",
     "text": [
      "/tmp/ipykernel_31/3458801520.py:2: SettingWithCopyWarning: \n",
      "A value is trying to be set on a copy of a slice from a DataFrame.\n",
      "Try using .loc[row_indexer,col_indexer] = value instead\n",
      "\n",
      "See the caveats in the documentation: https://pandas.pydata.org/pandas-docs/stable/user_guide/indexing.html#returning-a-view-versus-a-copy\n",
      "  malicious_flows['State'] = malicious_flows['State'].apply(lambda x: \"None\" if type(x) == float else x)\n"
     ]
    }
   ],
   "source": [
    "# Convert floats to None in state\n",
    "malicious_flows['State'] = malicious_flows['State'].apply(lambda x: \"None\" if type(x) == float else x)"
   ]
  },
  {
   "attachments": {},
   "cell_type": "markdown",
   "metadata": {},
   "source": [
    "Visualizing two features that distribution varies between malicious and benign hosts - Proto and Dir"
   ]
  },
  {
   "cell_type": "code",
   "execution_count": 24,
   "metadata": {
    "collapsed": false,
    "jupyter": {
     "outputs_hidden": false
    },
    "tags": []
   },
   "outputs": [
    {
     "data": {
      "text/plain": [
       "<matplotlib.legend.Legend at 0x7fbf050f8340>"
      ]
     },
     "execution_count": 24,
     "metadata": {},
     "output_type": "execute_result"
    },
    {
     "data": {
      "image/png": "[encoded data removed]",
      "text/plain": [
       "<Figure size 1500x500 with 2 Axes>"
      ]
     },
     "metadata": {},
     "output_type": "display_data"
    }
   ],
   "source": [
    "# Visualize the distribution of the features\n",
    "\n",
    "# Select two features\n",
    "feature1 = 'Proto'\n",
    "feature2 = 'Dir'\n",
    "\n",
    "# Plot the distribution of the features normalized\n",
    "fig, ax = plt.subplots(1, 2, figsize=(15, 5))\n",
    "# ax[0].hist(malicious_flows[feature1], bins=50, alpha=0.5, label='malicious flows', density=True)\n",
    "# ax[0].hist(benign_flows[feature1], bins=50, alpha=0.5, label='benign flows', density=True)\n",
    "ax[0].bar(malicious_flows[feature1].unique(), malicious_flows[feature1].value_counts(normalize=True), alpha=0.5,\n",
    "          label='malicious flows')\n",
    "ax[0].bar(benign_flows[feature1].unique(), benign_flows[feature1].value_counts(normalize=True), alpha=0.5,\n",
    "          label='benign flows')\n",
    "ax[1].bar(malicious_flows[feature2].unique(), malicious_flows[feature2].value_counts(normalize=True), alpha=0.5,\n",
    "          label='malicious flows')\n",
    "ax[1].bar(benign_flows[feature2].unique(), benign_flows[feature2].value_counts(normalize=True), alpha=0.5,\n",
    "          label='benign flows')\n",
    "ax[0].set_yscale(\"log\")\n",
    "ax[1].set_yscale(\"log\")\n",
    "ax[0].legend()\n",
    "ax[1].legend()"
   ]
  },
  {
   "attachments": {},
   "cell_type": "markdown",
   "metadata": {},
   "source": [
    "### 1b. Discretize selected features"
   ]
  },
  {
   "attachments": {},
   "cell_type": "markdown",
   "metadata": {},
   "source": [
    "Using attribute mappings to discretize the selected features."
   ]
  },
  {
   "cell_type": "code",
   "execution_count": 25,
   "metadata": {
    "tags": []
   },
   "outputs": [],
   "source": [
    "def netflow_discretize(data_df: pd.DataFrame, feature_maps: Dict[str, Dict]):\n",
    "    \"\"\"Netflow encoding using attribute mappings.\n",
    "\n",
    "    Attributes:\n",
    "        data_df (pd.DataFrame): data with features used in discretization\n",
    "        feature_maps (Dict[str, Dict]): map of attributes to their encoders\n",
    "    \"\"\"\n",
    "    attr_count = np.prod([len(feature_maps[attr].keys()) for attr in feature_maps])\n",
    "\n",
    "    def map_values(row):\n",
    "        return [feature_maps[col].get(val, val) for col, val in row.items()]\n",
    "\n",
    "    # Vectorized feature transformation\n",
    "    transformed_data = data_df.apply(map_values, axis=1, result_type='broadcast')\n",
    "\n",
    "    space_sizes = attr_count / np.cumprod([len(feature_maps[col].keys()) for col in data_df.columns])\n",
    "\n",
    "    # The calculation is performed along the rows (axis=1)\n",
    "    codes = (transformed_data * space_sizes).sum(axis=1)\n",
    "\n",
    "    data_df['code'] = codes\n",
    "    return data_df"
   ]
  },
  {
   "attachments": {},
   "cell_type": "markdown",
   "metadata": {},
   "source": [
    "Botnet host with the most flows is investigated."
   ]
  },
  {
   "cell_type": "code",
   "execution_count": 26,
   "metadata": {
    "tags": []
   },
   "outputs": [
    {
     "data": {
      "text/plain": [
       "'147.32.84.205'"
      ]
     },
     "execution_count": 26,
     "metadata": {},
     "output_type": "execute_result"
    }
   ],
   "source": [
    "most_evil_host = malicious_flows[\"SrcAddr\"].value_counts().index[0]\n",
    "most_evil_host"
   ]
  },
  {
   "attachments": {},
   "cell_type": "markdown",
   "metadata": {},
   "source": [
    "Features are mapped to integers based on the number of rows they occur in the data."
   ]
  },
  {
   "cell_type": "code",
   "execution_count": 27,
   "metadata": {
    "collapsed": false,
    "jupyter": {
     "outputs_hidden": false
    }
   },
   "outputs": [
    {
     "name": "stdout",
     "output_type": "stream",
     "text": [
      "Feature1 sorted:  ['udp', 'tcp', 'icmp', 'igmp', 'rtp', 'rtcp', 'arp', 'ipv6-icmp', 'esp', 'ipx/spx', 'ipv6', 'pim', 'udt', 'llc']\n",
      "Feature2 sorted:  ['  <->', '   ->', '  <?>', '  <-', '   ?>', '  who']\n",
      "Feature1 mapping:  {'udp': 0, 'tcp': 1, 'icmp': 2, 'igmp': 3, 'rtp': 4, 'rtcp': 5, 'arp': 6, 'ipv6-icmp': 7, 'esp': 8, 'ipx/spx': 9, 'ipv6': 10, 'pim': 11, 'udt': 12, 'llc': 13}\n",
      "Feature2 mapping:  {'  <->': 0, '   ->': 1, '  <?>': 2, '  <-': 3, '   ?>': 4, '  who': 5}\n"
     ]
    }
   ],
   "source": [
    "# Sort array of unique values of feature1 based on the number of rows it occurs in df\n",
    "feature1_sorted = list(df[feature1].value_counts().index)\n",
    "feature2_sorted = list(df[feature2].value_counts().index)\n",
    "\n",
    "print(\"Feature1 sorted: \", feature1_sorted)\n",
    "print(\"Feature2 sorted: \", feature2_sorted)\n",
    "\n",
    "feature1_mapping = dict(zip(feature1_sorted, range(len(feature1_sorted))))\n",
    "feature2_mapping = dict(zip(feature2_sorted, range(len(feature2_sorted))))\n",
    "\n",
    "print(\"Feature1 mapping: \", feature1_mapping)\n",
    "print(\"Feature2 mapping: \", feature2_mapping)"
   ]
  },
  {
   "cell_type": "code",
   "execution_count": 28,
   "metadata": {
    "tags": []
   },
   "outputs": [],
   "source": [
    "feat_map = {feature1: feature1_mapping, feature2: feature2_mapping}\n",
    "\n",
    "host_df = df[df[\"SrcAddr\"] == most_evil_host][[feature1, feature2]]"
   ]
  },
  {
   "cell_type": "code",
   "execution_count": 29,
   "metadata": {
    "tags": []
   },
   "outputs": [
    {
     "data": {
      "text/html": [
       "<div>\n",
       "<style scoped>\n",
       "    .dataframe tbody tr th:only-of-type {\n",
       "        vertical-align: middle;\n",
       "    }\n",
       "\n",
       "    .dataframe tbody tr th {\n",
       "        vertical-align: top;\n",
       "    }\n",
       "\n",
       "    .dataframe thead th {\n",
       "        text-align: right;\n",
       "    }\n",
       "</style>\n",
       "<table border=\"1\" class=\"dataframe\">\n",
       "  <thead>\n",
       "    <tr style=\"text-align: right;\">\n",
       "      <th></th>\n",
       "      <th>Proto</th>\n",
       "      <th>Dir</th>\n",
       "      <th>code</th>\n",
       "    </tr>\n",
       "  </thead>\n",
       "  <tbody>\n",
       "    <tr>\n",
       "      <th>172713</th>\n",
       "      <td>udp</td>\n",
       "      <td>&lt;-&gt;</td>\n",
       "      <td>0.0</td>\n",
       "    </tr>\n",
       "    <tr>\n",
       "      <th>172838</th>\n",
       "      <td>udp</td>\n",
       "      <td>&lt;-&gt;</td>\n",
       "      <td>0.0</td>\n",
       "    </tr>\n",
       "    <tr>\n",
       "      <th>172839</th>\n",
       "      <td>tcp</td>\n",
       "      <td>-&gt;</td>\n",
       "      <td>7.0</td>\n",
       "    </tr>\n",
       "    <tr>\n",
       "      <th>172971</th>\n",
       "      <td>udp</td>\n",
       "      <td>&lt;-&gt;</td>\n",
       "      <td>0.0</td>\n",
       "    </tr>\n",
       "    <tr>\n",
       "      <th>172972</th>\n",
       "      <td>udp</td>\n",
       "      <td>-&gt;</td>\n",
       "      <td>1.0</td>\n",
       "    </tr>\n",
       "    <tr>\n",
       "      <th>209871</th>\n",
       "      <td>udp</td>\n",
       "      <td>&lt;-&gt;</td>\n",
       "      <td>0.0</td>\n",
       "    </tr>\n",
       "    <tr>\n",
       "      <th>209873</th>\n",
       "      <td>tcp</td>\n",
       "      <td>-&gt;</td>\n",
       "      <td>7.0</td>\n",
       "    </tr>\n",
       "    <tr>\n",
       "      <th>276431</th>\n",
       "      <td>udp</td>\n",
       "      <td>&lt;-&gt;</td>\n",
       "      <td>0.0</td>\n",
       "    </tr>\n",
       "    <tr>\n",
       "      <th>276714</th>\n",
       "      <td>udp</td>\n",
       "      <td>&lt;-&gt;</td>\n",
       "      <td>0.0</td>\n",
       "    </tr>\n",
       "    <tr>\n",
       "      <th>276715</th>\n",
       "      <td>tcp</td>\n",
       "      <td>-&gt;</td>\n",
       "      <td>7.0</td>\n",
       "    </tr>\n",
       "    <tr>\n",
       "      <th>384681</th>\n",
       "      <td>udp</td>\n",
       "      <td>-&gt;</td>\n",
       "      <td>1.0</td>\n",
       "    </tr>\n",
       "    <tr>\n",
       "      <th>431482</th>\n",
       "      <td>udp</td>\n",
       "      <td>-&gt;</td>\n",
       "      <td>1.0</td>\n",
       "    </tr>\n",
       "    <tr>\n",
       "      <th>435428</th>\n",
       "      <td>udp</td>\n",
       "      <td>-&gt;</td>\n",
       "      <td>1.0</td>\n",
       "    </tr>\n",
       "    <tr>\n",
       "      <th>436625</th>\n",
       "      <td>tcp</td>\n",
       "      <td>-&gt;</td>\n",
       "      <td>7.0</td>\n",
       "    </tr>\n",
       "    <tr>\n",
       "      <th>436740</th>\n",
       "      <td>udp</td>\n",
       "      <td>-&gt;</td>\n",
       "      <td>1.0</td>\n",
       "    </tr>\n",
       "    <tr>\n",
       "      <th>441590</th>\n",
       "      <td>udp</td>\n",
       "      <td>-&gt;</td>\n",
       "      <td>1.0</td>\n",
       "    </tr>\n",
       "    <tr>\n",
       "      <th>456582</th>\n",
       "      <td>udp</td>\n",
       "      <td>-&gt;</td>\n",
       "      <td>1.0</td>\n",
       "    </tr>\n",
       "    <tr>\n",
       "      <th>480707</th>\n",
       "      <td>icmp</td>\n",
       "      <td>-&gt;</td>\n",
       "      <td>13.0</td>\n",
       "    </tr>\n",
       "    <tr>\n",
       "      <th>480724</th>\n",
       "      <td>icmp</td>\n",
       "      <td>-&gt;</td>\n",
       "      <td>13.0</td>\n",
       "    </tr>\n",
       "    <tr>\n",
       "      <th>480728</th>\n",
       "      <td>icmp</td>\n",
       "      <td>-&gt;</td>\n",
       "      <td>13.0</td>\n",
       "    </tr>\n",
       "    <tr>\n",
       "      <th>480744</th>\n",
       "      <td>icmp</td>\n",
       "      <td>-&gt;</td>\n",
       "      <td>13.0</td>\n",
       "    </tr>\n",
       "    <tr>\n",
       "      <th>480749</th>\n",
       "      <td>icmp</td>\n",
       "      <td>-&gt;</td>\n",
       "      <td>13.0</td>\n",
       "    </tr>\n",
       "    <tr>\n",
       "      <th>480759</th>\n",
       "      <td>icmp</td>\n",
       "      <td>-&gt;</td>\n",
       "      <td>13.0</td>\n",
       "    </tr>\n",
       "    <tr>\n",
       "      <th>480767</th>\n",
       "      <td>icmp</td>\n",
       "      <td>-&gt;</td>\n",
       "      <td>13.0</td>\n",
       "    </tr>\n",
       "    <tr>\n",
       "      <th>480769</th>\n",
       "      <td>icmp</td>\n",
       "      <td>-&gt;</td>\n",
       "      <td>13.0</td>\n",
       "    </tr>\n",
       "    <tr>\n",
       "      <th>480774</th>\n",
       "      <td>icmp</td>\n",
       "      <td>-&gt;</td>\n",
       "      <td>13.0</td>\n",
       "    </tr>\n",
       "    <tr>\n",
       "      <th>480776</th>\n",
       "      <td>icmp</td>\n",
       "      <td>-&gt;</td>\n",
       "      <td>13.0</td>\n",
       "    </tr>\n",
       "    <tr>\n",
       "      <th>480778</th>\n",
       "      <td>icmp</td>\n",
       "      <td>-&gt;</td>\n",
       "      <td>13.0</td>\n",
       "    </tr>\n",
       "    <tr>\n",
       "      <th>480785</th>\n",
       "      <td>icmp</td>\n",
       "      <td>-&gt;</td>\n",
       "      <td>13.0</td>\n",
       "    </tr>\n",
       "    <tr>\n",
       "      <th>480801</th>\n",
       "      <td>icmp</td>\n",
       "      <td>-&gt;</td>\n",
       "      <td>13.0</td>\n",
       "    </tr>\n",
       "  </tbody>\n",
       "</table>\n",
       "</div>"
      ],
      "text/plain": [
       "       Proto    Dir  code\n",
       "172713   udp    <->   0.0\n",
       "172838   udp    <->   0.0\n",
       "172839   tcp     ->   7.0\n",
       "172971   udp    <->   0.0\n",
       "172972   udp     ->   1.0\n",
       "209871   udp    <->   0.0\n",
       "209873   tcp     ->   7.0\n",
       "276431   udp    <->   0.0\n",
       "276714   udp    <->   0.0\n",
       "276715   tcp     ->   7.0\n",
       "384681   udp     ->   1.0\n",
       "431482   udp     ->   1.0\n",
       "435428   udp     ->   1.0\n",
       "436625   tcp     ->   7.0\n",
       "436740   udp     ->   1.0\n",
       "441590   udp     ->   1.0\n",
       "456582   udp     ->   1.0\n",
       "480707  icmp     ->  13.0\n",
       "480724  icmp     ->  13.0\n",
       "480728  icmp     ->  13.0\n",
       "480744  icmp     ->  13.0\n",
       "480749  icmp     ->  13.0\n",
       "480759  icmp     ->  13.0\n",
       "480767  icmp     ->  13.0\n",
       "480769  icmp     ->  13.0\n",
       "480774  icmp     ->  13.0\n",
       "480776  icmp     ->  13.0\n",
       "480778  icmp     ->  13.0\n",
       "480785  icmp     ->  13.0\n",
       "480801  icmp     ->  13.0"
      ]
     },
     "execution_count": 29,
     "metadata": {},
     "output_type": "execute_result"
    }
   ],
   "source": [
    "# Discretize the selected features for the chosen host\n",
    "discretized_malicious_df = netflow_discretize(host_df.copy(), feat_map)\n",
    "discretized_malicious_df.head(30)"
   ]
  },
  {
   "cell_type": "code",
   "execution_count": 30,
   "metadata": {
    "tags": []
   },
   "outputs": [
    {
     "data": {
      "text/html": [
       "<div>\n",
       "<style scoped>\n",
       "    .dataframe tbody tr th:only-of-type {\n",
       "        vertical-align: middle;\n",
       "    }\n",
       "\n",
       "    .dataframe tbody tr th {\n",
       "        vertical-align: top;\n",
       "    }\n",
       "\n",
       "    .dataframe thead th {\n",
       "        text-align: right;\n",
       "    }\n",
       "</style>\n",
       "<table border=\"1\" class=\"dataframe\">\n",
       "  <thead>\n",
       "    <tr style=\"text-align: right;\">\n",
       "      <th></th>\n",
       "      <th>Proto</th>\n",
       "      <th>Dir</th>\n",
       "      <th>code</th>\n",
       "    </tr>\n",
       "  </thead>\n",
       "  <tbody>\n",
       "    <tr>\n",
       "      <th>0</th>\n",
       "      <td>tcp</td>\n",
       "      <td>-&gt;</td>\n",
       "      <td>7.0</td>\n",
       "    </tr>\n",
       "    <tr>\n",
       "      <th>1</th>\n",
       "      <td>tcp</td>\n",
       "      <td>&lt;?&gt;</td>\n",
       "      <td>8.0</td>\n",
       "    </tr>\n",
       "    <tr>\n",
       "      <th>2</th>\n",
       "      <td>tcp</td>\n",
       "      <td>-&gt;</td>\n",
       "      <td>7.0</td>\n",
       "    </tr>\n",
       "    <tr>\n",
       "      <th>3</th>\n",
       "      <td>tcp</td>\n",
       "      <td>-&gt;</td>\n",
       "      <td>7.0</td>\n",
       "    </tr>\n",
       "    <tr>\n",
       "      <th>4</th>\n",
       "      <td>tcp</td>\n",
       "      <td>-&gt;</td>\n",
       "      <td>7.0</td>\n",
       "    </tr>\n",
       "    <tr>\n",
       "      <th>...</th>\n",
       "      <td>...</td>\n",
       "      <td>...</td>\n",
       "      <td>...</td>\n",
       "    </tr>\n",
       "    <tr>\n",
       "      <th>1309786</th>\n",
       "      <td>tcp</td>\n",
       "      <td>-&gt;</td>\n",
       "      <td>7.0</td>\n",
       "    </tr>\n",
       "    <tr>\n",
       "      <th>1309787</th>\n",
       "      <td>udp</td>\n",
       "      <td>&lt;-&gt;</td>\n",
       "      <td>0.0</td>\n",
       "    </tr>\n",
       "    <tr>\n",
       "      <th>1309788</th>\n",
       "      <td>udp</td>\n",
       "      <td>&lt;-&gt;</td>\n",
       "      <td>0.0</td>\n",
       "    </tr>\n",
       "    <tr>\n",
       "      <th>1309789</th>\n",
       "      <td>udp</td>\n",
       "      <td>-&gt;</td>\n",
       "      <td>1.0</td>\n",
       "    </tr>\n",
       "    <tr>\n",
       "      <th>1309790</th>\n",
       "      <td>tcp</td>\n",
       "      <td>-&gt;</td>\n",
       "      <td>7.0</td>\n",
       "    </tr>\n",
       "  </tbody>\n",
       "</table>\n",
       "<p>1203439 rows × 3 columns</p>\n",
       "</div>"
      ],
      "text/plain": [
       "        Proto    Dir  code\n",
       "0         tcp     ->   7.0\n",
       "1         tcp    <?>   8.0\n",
       "2         tcp     ->   7.0\n",
       "3         tcp     ->   7.0\n",
       "4         tcp     ->   7.0\n",
       "...       ...    ...   ...\n",
       "1309786   tcp     ->   7.0\n",
       "1309787   udp    <->   0.0\n",
       "1309788   udp    <->   0.0\n",
       "1309789   udp     ->   1.0\n",
       "1309790   tcp     ->   7.0\n",
       "\n",
       "[1203439 rows x 3 columns]"
      ]
     },
     "execution_count": 30,
     "metadata": {},
     "output_type": "execute_result"
    }
   ],
   "source": [
    "# Discretize the selected features for the benign hosts\n",
    "benign_hosts_df = benign_flows[[feature1, feature2]]\n",
    "discretized_benign_df = netflow_discretize(benign_hosts_df.copy(), feat_map)\n",
    "discretized_benign_df"
   ]
  },
  {
   "cell_type": "code",
   "execution_count": 31,
   "metadata": {
    "collapsed": false,
    "jupyter": {
     "outputs_hidden": false
    }
   },
   "outputs": [
    {
     "data": {
      "text/html": [
       "<div>\n",
       "<style scoped>\n",
       "    .dataframe tbody tr th:only-of-type {\n",
       "        vertical-align: middle;\n",
       "    }\n",
       "\n",
       "    .dataframe tbody tr th {\n",
       "        vertical-align: top;\n",
       "    }\n",
       "\n",
       "    .dataframe thead th {\n",
       "        text-align: right;\n",
       "    }\n",
       "</style>\n",
       "<table border=\"1\" class=\"dataframe\">\n",
       "  <thead>\n",
       "    <tr style=\"text-align: right;\">\n",
       "      <th></th>\n",
       "      <th>Proto</th>\n",
       "      <th>Dir</th>\n",
       "      <th>code</th>\n",
       "    </tr>\n",
       "  </thead>\n",
       "  <tbody>\n",
       "    <tr>\n",
       "      <th>0</th>\n",
       "      <td>tcp</td>\n",
       "      <td>-&gt;</td>\n",
       "      <td>7.0</td>\n",
       "    </tr>\n",
       "    <tr>\n",
       "      <th>1</th>\n",
       "      <td>tcp</td>\n",
       "      <td>&lt;?&gt;</td>\n",
       "      <td>8.0</td>\n",
       "    </tr>\n",
       "    <tr>\n",
       "      <th>2</th>\n",
       "      <td>tcp</td>\n",
       "      <td>-&gt;</td>\n",
       "      <td>7.0</td>\n",
       "    </tr>\n",
       "    <tr>\n",
       "      <th>3</th>\n",
       "      <td>tcp</td>\n",
       "      <td>-&gt;</td>\n",
       "      <td>7.0</td>\n",
       "    </tr>\n",
       "    <tr>\n",
       "      <th>4</th>\n",
       "      <td>tcp</td>\n",
       "      <td>-&gt;</td>\n",
       "      <td>7.0</td>\n",
       "    </tr>\n",
       "    <tr>\n",
       "      <th>...</th>\n",
       "      <td>...</td>\n",
       "      <td>...</td>\n",
       "      <td>...</td>\n",
       "    </tr>\n",
       "    <tr>\n",
       "      <th>1309786</th>\n",
       "      <td>tcp</td>\n",
       "      <td>-&gt;</td>\n",
       "      <td>7.0</td>\n",
       "    </tr>\n",
       "    <tr>\n",
       "      <th>1309787</th>\n",
       "      <td>udp</td>\n",
       "      <td>&lt;-&gt;</td>\n",
       "      <td>0.0</td>\n",
       "    </tr>\n",
       "    <tr>\n",
       "      <th>1309788</th>\n",
       "      <td>udp</td>\n",
       "      <td>&lt;-&gt;</td>\n",
       "      <td>0.0</td>\n",
       "    </tr>\n",
       "    <tr>\n",
       "      <th>1309789</th>\n",
       "      <td>udp</td>\n",
       "      <td>-&gt;</td>\n",
       "      <td>1.0</td>\n",
       "    </tr>\n",
       "    <tr>\n",
       "      <th>1309790</th>\n",
       "      <td>tcp</td>\n",
       "      <td>-&gt;</td>\n",
       "      <td>7.0</td>\n",
       "    </tr>\n",
       "  </tbody>\n",
       "</table>\n",
       "<p>1309791 rows × 3 columns</p>\n",
       "</div>"
      ],
      "text/plain": [
       "        Proto    Dir  code\n",
       "0         tcp     ->   7.0\n",
       "1         tcp    <?>   8.0\n",
       "2         tcp     ->   7.0\n",
       "3         tcp     ->   7.0\n",
       "4         tcp     ->   7.0\n",
       "...       ...    ...   ...\n",
       "1309786   tcp     ->   7.0\n",
       "1309787   udp    <->   0.0\n",
       "1309788   udp    <->   0.0\n",
       "1309789   udp     ->   1.0\n",
       "1309790   tcp     ->   7.0\n",
       "\n",
       "[1309791 rows x 3 columns]"
      ]
     },
     "execution_count": 31,
     "metadata": {},
     "output_type": "execute_result"
    }
   ],
   "source": [
    "# Discretize the selected features for all hosts\n",
    "all_hosts_df = df[[feature1, feature2]]\n",
    "discretized_all_df = netflow_discretize(all_hosts_df.copy(), feat_map)\n",
    "discretized_all_df"
   ]
  },
  {
   "cell_type": "code",
   "execution_count": 32,
   "metadata": {
    "collapsed": false,
    "jupyter": {
     "outputs_hidden": false
    }
   },
   "outputs": [
    {
     "data": {
      "text/plain": [
       "Text(0.5, 1.0, 'Distribution of the code for the chosen host and benign hosts')"
      ]
     },
     "execution_count": 32,
     "metadata": {},
     "output_type": "execute_result"
    },
    {
     "data": {
      "image/png": "[encoded data removed]",
      "text/plain": [
       "<Figure size 640x480 with 1 Axes>"
      ]
     },
     "metadata": {},
     "output_type": "display_data"
    }
   ],
   "source": [
    "# Plot the distribution of the flow codes for the chosen host and benign hosts\n",
    "fig, ax = plt.subplots()\n",
    "ax.boxplot([discretized_malicious_df['code'], discretized_benign_df['code']])\n",
    "ax.set_xticklabels(['malicious', 'benign'])\n",
    "plt.title(\"Distribution of the code for the chosen host and benign hosts\")"
   ]
  },
  {
   "cell_type": "code",
   "execution_count": 33,
   "metadata": {
    "collapsed": false,
    "jupyter": {
     "outputs_hidden": false
    }
   },
   "outputs": [
    {
     "data": {
      "text/plain": [
       "Text(0.5, 1.0, 'Distribution of the code for the chosen host and all hosts')"
      ]
     },
     "execution_count": 33,
     "metadata": {},
     "output_type": "execute_result"
    },
    {
     "data": {
      "image/png": "[encoded data removed]",
      "text/plain": [
       "<Figure size 640x480 with 1 Axes>"
      ]
     },
     "metadata": {},
     "output_type": "display_data"
    }
   ],
   "source": [
    "# Plot the distribution of the flow codes for the chosen host and benign hosts\n",
    "fig, ax = plt.subplots()\n",
    "ax.boxplot([discretized_malicious_df['code'], discretized_all_df['code']])\n",
    "ax.set_xticklabels(['malicious', 'all'])\n",
    "plt.title(\"Distribution of the code for the chosen host and all hosts\")"
   ]
  },
  {
   "attachments": {},
   "cell_type": "markdown",
   "metadata": {},
   "source": [
    "### 1c. Answers and explanation"
   ]
  },
  {
   "attachments": {},
   "cell_type": "markdown",
   "metadata": {},
   "source": [
    "From the initial analysis of the processed data, we deduced that Proto and Dir features show the largest difference in distribution between malicious and non-malicious hosts. Having discretized the flows of a selected malicious host and all other host, it is clearly visible that the distribution of the flow codes is different. While the distribution of flows of non-malicious hosts is heavily centered around 0, while the codes of the malicious host are larger with most of them being equal to 13. Therefore, it seems that the attacks of the selected host usually have one specific direction (->) and follow one protocol (icmp)."
   ]
  },
  {
   "attachments": {},
   "cell_type": "markdown",
   "metadata": {},
   "source": [
    "## 2. Sketching task – 1/2 A4 (Individual, 10 Points)\n",
    "\n",
    "## Student 1"
   ]
  },
  {
   "attachments": {},
   "cell_type": "markdown",
   "metadata": {},
   "source": [
    "### 2a. COUNT-MIN sketch\n"
   ]
  },
  {
   "attachments": {},
   "cell_type": "markdown",
   "metadata": {},
   "source": [
    "Some further pre-processing."
   ]
  },
  {
   "cell_type": "code",
   "execution_count": 34,
   "metadata": {
    "collapsed": false,
    "jupyter": {
     "outputs_hidden": false
    }
   },
   "outputs": [],
   "source": [
    "# Convert StartTime to datetime format\n",
    "date_format = \"%Y/%m/%d %H:%M:%S.%f\"\n",
    "\n",
    "df['StartTime'] = df['StartTime'].apply(lambda x: datetime.strptime(x, date_format))"
   ]
  },
  {
   "cell_type": "code",
   "execution_count": 35,
   "metadata": {
    "collapsed": false,
    "jupyter": {
     "outputs_hidden": false
    }
   },
   "outputs": [],
   "source": [
    "discretized_all_df['StartTime'] = df['StartTime'].copy()"
   ]
  },
  {
   "attachments": {},
   "cell_type": "markdown",
   "metadata": {},
   "source": [
    "Count-Min sketch implementation and helper functions."
   ]
  },
  {
   "cell_type": "code",
   "execution_count": 36,
   "metadata": {},
   "outputs": [],
   "source": [
    "HASH_PRIME = 786433\n",
    "\n",
    "\n",
    "class HashFunc:\n",
    "    \"\"\"Hash function for the Count-Min sketch.\"\"\"\n",
    "\n",
    "    def __init__(self, a, b, p, m):\n",
    "        self.a = a\n",
    "        self.b = b\n",
    "        self.p = p\n",
    "        self.m = m\n",
    "\n",
    "    def __call__(self, x):\n",
    "        return int(((self.a * x + self.b) % self.p) % self.m)\n",
    "\n",
    "\n",
    "def cm_sketch(trigrams, height, width):\n",
    "    \"\"\"Count-Min sketch implementation.\"\"\"\n",
    "\n",
    "    # Create a matrix of zeros\n",
    "    sketch = np.zeros((height, width), dtype=np.int32)\n",
    "\n",
    "    # Create hash functions\n",
    "    hash_funcs = [HashFunc(np.random.randint(1, HASH_PRIME), np.random.randint(1, HASH_PRIME), HASH_PRIME, width) for\n",
    "                  _ in range(height)]\n",
    "\n",
    "    # Vectorize hash functions to make the code run faster\n",
    "    v_hash_funcs = [np.vectorize(hash_func) for hash_func in hash_funcs]\n",
    "\n",
    "    # Update the sketch\n",
    "    for i, v_hash_func in enumerate(v_hash_funcs):\n",
    "        indices = v_hash_func(trigrams)\n",
    "        np.add.at(sketch[i], indices, 1)\n",
    "\n",
    "    return sketch, hash_funcs\n",
    "\n",
    "\n",
    "def cm_sketch_query(sketch, hash_funcs, trigram):\n",
    "    \"\"\"Find the minimum value for a given trigram in the sketch.\"\"\"\n",
    "\n",
    "    # Get the minimum value from the sketch\n",
    "    return np.min([sketch[i, hash_func(trigram)] for i, hash_func in enumerate(hash_funcs)])\n",
    "\n",
    "\n",
    "def cm_sketch_query_all(sketch, hash_funcs, trigrams):\n",
    "    \"\"\"Find the minimum value for all existing trigram in the sketch.\"\"\"\n",
    "\n",
    "    # Create a dictionary of trigram: count\n",
    "    return {trigram: cm_sketch_query(sketch, hash_funcs, trigram) for trigram in trigrams}\n",
    "\n",
    "\n",
    "def create_trigrams_from_netflows(netflows):\n",
    "    \"\"\"Create trigrams from netflows. Encode the trigrams as integers.\"\"\"\n",
    "\n",
    "    # Sort the netflows according to time\n",
    "    sorted_netflows = netflows.sort_values(by=['StartTime'])\n",
    "\n",
    "    # Convert the codes to numpy array to make the process faster\n",
    "    codes = sorted_netflows['code'].to_numpy()\n",
    "\n",
    "    # Create trigrams\n",
    "    # trigrams = [10000 * codes[i] + 100 * codes[i + 1] + codes[i + 2] for i in range(len(codes) - 2)]\n",
    "    trigrams = [encode_trigram((codes[i], codes[i + 1], codes[i + 2])) for i in range(len(codes) - 2)]\n",
    "\n",
    "    return trigrams\n",
    "\n",
    "\n",
    "def translate_encoded_trigram(trigram):\n",
    "    \"\"\"Translate the integer-encoded trigram back to the original values.\"\"\"\n",
    "\n",
    "    return (trigram // 10000, (trigram % 10000) // 100, trigram % 100)\n",
    "\n",
    "\n",
    "def encode_trigram(trigram):\n",
    "    \"\"\"Encode the trigram as an integer.\"\"\"\n",
    "    # Find the maximum number of digits in the trigram\n",
    "    max_digits = max([len(str(trigram[i])) for i in range(3)])\n",
    "\n",
    "    return 10 ** (max_digits * 2) * trigram[0] + 10 ** max_digits * trigram[1] + trigram[2]"
   ]
  },
  {
   "cell_type": "code",
   "execution_count": 37,
   "metadata": {
    "collapsed": false,
    "jupyter": {
     "outputs_hidden": false
    }
   },
   "outputs": [],
   "source": [
    "def run_cm_sketch(trigrams, height, width):\n",
    "    \"\"\"Run the full algorithm, that is run the Count-Min sketch, query it, and return counts of the trigrams.\"\"\"\n",
    "    # Create the sketch\n",
    "    sketch, hash_funcs = cm_sketch(trigrams, height, width)\n",
    "    # Print type of elements in sketch ndarray\n",
    "    print(\"Type of elements in sketch ndarray: \", sketch.dtype)\n",
    "    # Query the sketch\n",
    "    trigram_count_dict = cm_sketch_query_all(sketch, hash_funcs, np.unique(trigrams, axis=0))\n",
    "    # Sort the trigram count dictionary\n",
    "    trigram_count_dict = dict(sorted(trigram_count_dict.items(), key=lambda item: item[1], reverse=True))\n",
    "    # Translate the encoded trigrams back to the original values\n",
    "    trigram_count_dict_decoded = dict(\n",
    "        [(translate_encoded_trigram(trigram), count) for trigram, count in trigram_count_dict.items()])\n",
    "    # Print out the largest elements\n",
    "    # print(\"Most often occurring trigrams: \")\n",
    "    for i in range(10):\n",
    "        print(list(trigram_count_dict_decoded.keys())[i], list(trigram_count_dict_decoded.values())[i])\n",
    "    return trigram_count_dict_decoded"
   ]
  },
  {
   "cell_type": "code",
   "execution_count": 38,
   "metadata": {
    "collapsed": false,
    "jupyter": {
     "outputs_hidden": false
    }
   },
   "outputs": [],
   "source": [
    "trigrams = create_trigrams_from_netflows(discretized_all_df.copy())"
   ]
  },
  {
   "cell_type": "code",
   "execution_count": 39,
   "metadata": {
    "collapsed": false,
    "jupyter": {
     "outputs_hidden": false
    }
   },
   "outputs": [
    {
     "name": "stdout",
     "output_type": "stream",
     "text": [
      "<class 'numpy.float64'>\n"
     ]
    }
   ],
   "source": [
    "# Check type of trigrams\n",
    "print(type(trigrams[0]))"
   ]
  },
  {
   "attachments": {},
   "cell_type": "markdown",
   "metadata": {},
   "source": [
    "Running the CM sketch for different width x height combinations."
   ]
  },
  {
   "cell_type": "code",
   "execution_count": 40,
   "metadata": {
    "collapsed": false,
    "jupyter": {
     "outputs_hidden": false
    }
   },
   "outputs": [
    {
     "name": "stdout",
     "output_type": "stream",
     "text": [
      "Width: 100, Height: 1\n",
      "Type of elements in sketch ndarray:  int32\n",
      "(0.0, 0.0, 0.0) 491220\n",
      "(1.0, 0.0, 12.0) 491220\n",
      "(7.0, 0.0, 19.0) 491220\n",
      "(24.0, 0.0, 30.0) 491220\n",
      "(43.0, 0.0, 0.0) 491220\n",
      "(10008.0, 0.0, 15.0) 491220\n",
      "(10013.0, 0.0, 10.0) 491220\n",
      "(70012.0, 0.0, 30.0) 491220\n",
      "(70031.0, 0.0, 0.0) 491220\n",
      "(80001.0, 0.0, 10.0) 491220\n",
      "Time: 2.7556729316711426\n",
      "Space: 0.390625 KB\n",
      "Width: 100, Height: 10\n",
      "Type of elements in sketch ndarray:  int32\n",
      "(0.0, 0.0, 0.0) 490907\n",
      "(0.0, 0.0, 7.0) 100441\n",
      "(700.0, 0.0, 0.0) 97855\n",
      "(0.0, 70.0, 0.0) 84758\n",
      "(700.0, 70.0, 7.0) 82619\n",
      "(130013.0, 0.0, 13.0) 79985\n",
      "(0.0, 70.0, 7.0) 52690\n",
      "(700.0, 70.0, 0.0) 51766\n",
      "(700.0, 0.0, 7.0) 38665\n",
      "(0.0, 0.0, 1.0) 13965\n",
      "Time: 16.409767389297485\n",
      "Space: 3.90625 KB\n",
      "Width: 100, Height: 100\n",
      "Type of elements in sketch ndarray:  int32\n",
      "(0.0, 0.0, 0.0) 490832\n",
      "(0.0, 0.0, 7.0) 100272\n",
      "(700.0, 0.0, 0.0) 97587\n",
      "(0.0, 70.0, 0.0) 84754\n",
      "(700.0, 70.0, 7.0) 81920\n",
      "(130013.0, 0.0, 13.0) 79977\n",
      "(0.0, 70.0, 7.0) 52605\n",
      "(700.0, 70.0, 0.0) 51746\n",
      "(700.0, 0.0, 7.0) 38552\n",
      "(0.0, 0.0, 1.0) 13791\n",
      "Time: 158.08106541633606\n",
      "Space: 39.0625 KB\n",
      "Width: 1000, Height: 1\n",
      "Type of elements in sketch ndarray:  int32\n",
      "(0.0, 0.0, 0.0) 490817\n",
      "(0.0, 0.0, 7.0) 101583\n",
      "(700.0, 80.0, 0.0) 101583\n",
      "(150015.0, 0.0, 15.0) 101583\n",
      "(700.0, 0.0, 0.0) 97678\n",
      "(80010.0, 0.0, 0.0) 97678\n",
      "(0.0, 70.0, 0.0) 84745\n",
      "(550013.0, 0.0, 8.0) 84745\n",
      "(700.0, 70.0, 7.0) 81843\n",
      "(190000.0, 0.0, 10.0) 81843\n",
      "Time: 2.749415397644043\n",
      "Space: 3.90625 KB\n",
      "Width: 1000, Height: 10\n",
      "Type of elements in sketch ndarray:  int32\n",
      "(0.0, 0.0, 0.0) 490817\n",
      "(0.0, 0.0, 7.0) 100267\n",
      "(700.0, 0.0, 0.0) 97581\n",
      "(0.0, 70.0, 0.0) 84744\n",
      "(700.0, 70.0, 7.0) 81837\n",
      "(130013.0, 0.0, 13.0) 79955\n",
      "(0.0, 70.0, 7.0) 52579\n",
      "(700.0, 70.0, 0.0) 51668\n",
      "(700.0, 0.0, 7.0) 38540\n",
      "(0.0, 0.0, 1.0) 13715\n",
      "Time: 16.8981876373291\n",
      "Space: 39.0625 KB\n",
      "Width: 1000, Height: 100\n",
      "Type of elements in sketch ndarray:  int32\n",
      "(0.0, 0.0, 0.0) 490817\n",
      "(0.0, 0.0, 7.0) 100267\n",
      "(700.0, 0.0, 0.0) 97581\n",
      "(0.0, 70.0, 0.0) 84744\n",
      "(700.0, 70.0, 7.0) 81837\n",
      "(130013.0, 0.0, 13.0) 79955\n",
      "(0.0, 70.0, 7.0) 52578\n",
      "(700.0, 70.0, 0.0) 51668\n",
      "(700.0, 0.0, 7.0) 38540\n",
      "(0.0, 0.0, 1.0) 13715\n",
      "Time: 161.65799689292908\n",
      "Space: 390.625 KB\n",
      "Width: 10000, Height: 1\n",
      "Type of elements in sketch ndarray:  int32\n",
      "(0.0, 0.0, 0.0) 490817\n",
      "(0.0, 0.0, 7.0) 100267\n",
      "(700.0, 0.0, 0.0) 97581\n",
      "(0.0, 70.0, 0.0) 84744\n",
      "(700.0, 70.0, 7.0) 81847\n",
      "(80001.0, 0.0, 15.0) 81847\n",
      "(130013.0, 0.0, 13.0) 79955\n",
      "(0.0, 70.0, 7.0) 52578\n",
      "(700.0, 70.0, 0.0) 51669\n",
      "(130055.0, 0.0, 13.0) 51669\n",
      "Time: 2.655211925506592\n",
      "Space: 39.0625 KB\n",
      "Width: 10000, Height: 10\n",
      "Type of elements in sketch ndarray:  int32\n",
      "(0.0, 0.0, 0.0) 490817\n",
      "(0.0, 0.0, 7.0) 100267\n",
      "(700.0, 0.0, 0.0) 97581\n",
      "(0.0, 70.0, 0.0) 84744\n",
      "(700.0, 70.0, 7.0) 81837\n",
      "(130013.0, 0.0, 13.0) 79955\n",
      "(0.0, 70.0, 7.0) 52578\n",
      "(700.0, 70.0, 0.0) 51668\n",
      "(700.0, 0.0, 7.0) 38540\n",
      "(0.0, 0.0, 1.0) 13715\n",
      "Time: 17.13183069229126\n",
      "Space: 390.625 KB\n",
      "Width: 10000, Height: 100\n",
      "Type of elements in sketch ndarray:  int32\n",
      "(0.0, 0.0, 0.0) 490817\n",
      "(0.0, 0.0, 7.0) 100267\n",
      "(700.0, 0.0, 0.0) 97581\n",
      "(0.0, 70.0, 0.0) 84744\n",
      "(700.0, 70.0, 7.0) 81837\n",
      "(130013.0, 0.0, 13.0) 79955\n",
      "(0.0, 70.0, 7.0) 52578\n",
      "(700.0, 70.0, 0.0) 51668\n",
      "(700.0, 0.0, 7.0) 38540\n",
      "(0.0, 0.0, 1.0) 13715\n",
      "Time: 160.80442476272583\n",
      "Space: 3906.25 KB\n"
     ]
    }
   ],
   "source": [
    "# Create dictionary for storing the results\n",
    "results = {}\n",
    "# Try different values for width and height, measure time and space usage\n",
    "for width in [100, 1000, 10000]:\n",
    "    for height in [1, 10, 100]:\n",
    "        print(f\"Width: {width}, Height: {height}\")\n",
    "        start_time = time.time()\n",
    "        trigram_count_dict_decoded = run_cm_sketch(trigrams, height, width)\n",
    "        print(f\"Time: {time.time() - start_time}\")\n",
    "        print(f\"Space: {width * height * 4 / 1024} KB\")\n",
    "        results[(width, height)] = (time.time() - start_time, width * height * 4 / 1024, trigram_count_dict_decoded)\n",
    "# run_cm_sketch(trigrams, 1000, 10000)"
   ]
  },
  {
   "attachments": {},
   "cell_type": "markdown",
   "metadata": {},
   "source": [
    "Plotting time usage of CM sketch for width x height combinations."
   ]
  },
  {
   "cell_type": "code",
   "execution_count": 41,
   "metadata": {
    "collapsed": false,
    "jupyter": {
     "outputs_hidden": false
    }
   },
   "outputs": [
    {
     "data": {
      "text/plain": [
       "Text(0, 0.5, 'Time (s)')"
      ]
     },
     "execution_count": 41,
     "metadata": {},
     "output_type": "execute_result"
    },
    {
     "data": {
      "image/png": "[encoded data removed]",
      "text/plain": [
       "<Figure size 1000x1000 with 1 Axes>"
      ]
     },
     "metadata": {},
     "output_type": "display_data"
    }
   ],
   "source": [
    "# Plot the results\n",
    "plt.figure(figsize=(10, 10))\n",
    "plt.bar([f\"{width}x{height}\" for width, height in results.keys()], [time for time, space, counts in results.values()],\n",
    "        color='blue')\n",
    "plt.title(\"Time usage of CM sketch for width x height combinations\")\n",
    "plt.xlabel(\"Width x Height\")\n",
    "plt.ylabel(\"Time (s)\")\n"
   ]
  },
  {
   "attachments": {},
   "cell_type": "markdown",
   "metadata": {},
   "source": [
    "Plotting space usage of CM sketch for width x height combinations."
   ]
  },
  {
   "cell_type": "code",
   "execution_count": 42,
   "metadata": {
    "collapsed": false,
    "jupyter": {
     "outputs_hidden": false
    }
   },
   "outputs": [
    {
     "data": {
      "text/plain": [
       "Text(0, 0.5, 'Space (KB)')"
      ]
     },
     "execution_count": 42,
     "metadata": {},
     "output_type": "execute_result"
    },
    {
     "data": {
      "image/png": "[encoded data removed]",
      "text/plain": [
       "<Figure size 1000x1000 with 1 Axes>"
      ]
     },
     "metadata": {},
     "output_type": "display_data"
    }
   ],
   "source": [
    "# Plot the results in log space\n",
    "\n",
    "plt.figure(figsize=(10, 10))\n",
    "plt.bar([f\"{width}x{height}\" for width, height in results.keys()], [space for time, space, counts in results.values()],\n",
    "        color='blue', log=True)\n",
    "plt.title(\"Space usage of CM sketch for width x height combinations\")\n",
    "plt.xlabel(\"Width x Height\")\n",
    "plt.ylabel(\"Space (KB)\")\n"
   ]
  },
  {
   "attachments": {},
   "cell_type": "markdown",
   "metadata": {},
   "source": [
    "Plotting unique counts of CM sketch for width x height combinations to assess the accuracy of the results."
   ]
  },
  {
   "cell_type": "code",
   "execution_count": 43,
   "metadata": {
    "collapsed": false,
    "jupyter": {
     "outputs_hidden": false
    }
   },
   "outputs": [
    {
     "data": {
      "text/plain": [
       "Text(0, 0.5, 'Number of unique counts')"
      ]
     },
     "execution_count": 43,
     "metadata": {},
     "output_type": "execute_result"
    },
    {
     "data": {
      "image/png": "[encoded data removed]",
      "text/plain": [
       "<Figure size 1000x1000 with 1 Axes>"
      ]
     },
     "metadata": {},
     "output_type": "display_data"
    }
   ],
   "source": [
    "plt.figure(figsize=(10, 10))\n",
    "plt.bar([f\"{width}x{height}\" for width, height in results.keys()],\n",
    "        [len(np.unique(list(counts.values()))) for time, space, counts in results.values()],\n",
    "        color='blue')\n",
    "plt.title(\"Unique counts in CM sketch for width x height combinations\")\n",
    "plt.xlabel(\"Width x Height\")\n",
    "plt.ylabel(\"Number of unique counts\")"
   ]
  },
  {
   "cell_type": "code",
   "execution_count": 44,
   "metadata": {
    "collapsed": false,
    "jupyter": {
     "outputs_hidden": false
    }
   },
   "outputs": [
    {
     "data": {
      "text/plain": [
       "Text(0.5, 1.0, 'Histogram of trigram counts for width=100, height=10')"
      ]
     },
     "execution_count": 44,
     "metadata": {},
     "output_type": "execute_result"
    },
    {
     "data": {
      "image/png": "[encoded data removed]",
      "text/plain": [
       "<Figure size 640x480 with 1 Axes>"
      ]
     },
     "metadata": {},
     "output_type": "display_data"
    }
   ],
   "source": [
    "plt.hist(results[(100, 10)][2].values(), density=True, range=(0, 3500), bins=100)\n",
    "plt.title(\"Histogram of trigram counts for width=100, height=10\")"
   ]
  },
  {
   "cell_type": "code",
   "execution_count": 45,
   "metadata": {
    "collapsed": false,
    "jupyter": {
     "outputs_hidden": false
    }
   },
   "outputs": [
    {
     "data": {
      "text/plain": [
       "Text(0.5, 1.0, 'Histogram of trigram counts for width=10000, height=100')"
      ]
     },
     "execution_count": 45,
     "metadata": {},
     "output_type": "execute_result"
    },
    {
     "data": {
      "image/png": "[encoded data removed]",
      "text/plain": [
       "<Figure size 640x480 with 1 Axes>"
      ]
     },
     "metadata": {},
     "output_type": "display_data"
    }
   ],
   "source": [
    "plt.hist(results[(10000, 100)][2].values(), density=True, range=(0, 3500), bins=100)\n",
    "plt.title(\"Histogram of trigram counts for width=10000, height=100\")"
   ]
  },
  {
   "cell_type": "code",
   "execution_count": 46,
   "metadata": {
    "collapsed": false,
    "jupyter": {
     "outputs_hidden": false
    }
   },
   "outputs": [
    {
     "data": {
      "text/plain": [
       "Text(0.5, 1.0, 'Histogram of trigram counts for width=10000, height=1')"
      ]
     },
     "execution_count": 46,
     "metadata": {},
     "output_type": "execute_result"
    },
    {
     "data": {
      "image/png": "[encoded data removed]",
      "text/plain": [
       "<Figure size 640x480 with 1 Axes>"
      ]
     },
     "metadata": {},
     "output_type": "display_data"
    }
   ],
   "source": [
    "plt.hist(results[(10000, 1)][2].values(), density=True, range=(0, 3500), bins=100)\n",
    "plt.title(\"Histogram of trigram counts for width=10000, height=1\")"
   ]
  },
  {
   "attachments": {},
   "cell_type": "markdown",
   "metadata": {},
   "source": [
    "### 2b. Analysis and answers to the questions"
   ]
  },
  {
   "attachments": {},
   "cell_type": "markdown",
   "metadata": {},
   "source": [
    "Most commonly occurring trigrams, according to the most precise sketch (width=10000, height=100):"
   ]
  },
  {
   "cell_type": "code",
   "execution_count": 47,
   "metadata": {
    "collapsed": false,
    "jupyter": {
     "outputs_hidden": false
    }
   },
   "outputs": [
    {
     "name": "stdout",
     "output_type": "stream",
     "text": [
      "Most often occurring trigrams and their frequencies: \n",
      "(0.0, 0.0, 0.0) 490817\n",
      "(0.0, 0.0, 7.0) 100267\n",
      "(700.0, 0.0, 0.0) 97581\n",
      "(0.0, 70.0, 0.0) 84744\n",
      "(700.0, 70.0, 7.0) 81837\n",
      "(130013.0, 0.0, 13.0) 79955\n",
      "(0.0, 70.0, 7.0) 52578\n",
      "(700.0, 70.0, 0.0) 51668\n",
      "(700.0, 0.0, 7.0) 38540\n",
      "(0.0, 0.0, 1.0) 13715\n"
     ]
    }
   ],
   "source": [
    "# Print out the largest elements\n",
    "print(\"Most often occurring trigrams and their frequencies: \")\n",
    "for i in range(10):\n",
    "    print(list(results[(10000, 100)][2].keys())[i], list(results[(10000, 100)][2].values())[i])"
   ]
  },
  {
   "attachments": {},
   "cell_type": "markdown",
   "metadata": {},
   "source": [
    "The most occurring trigrams look correct as lower codes suggest that these are the most commonly occurring flows (values of features were labeled according to their number of occurrences in data).\n",
    "From the comparison of different widths and heights of the sketch, we can see that the height of the sketch (the number of hash functions) most heavily influences the runtime. On the other hand, the space is fully dependent on the product of width and height. When it comes to the quality of the results, both number of unique counts and the histogram of the trigram counts suggest that sketches of sizes 1000x100, 10000x1, 10000x10, and 100000x100 all give practically identical distribution of counts, thus we can assume that these give use the most precise results. However, the runtime and space complexity of the sketch with width=10000 and height=1 is significantly lower than the ones of the other sketches of similar performance, which is why we can conclude that this is the best sketch for this task. This means that, in the case of examined dataset, a sketch with a large width and a small height is the best choice.\n",
    "We can also conclude that the CM sketch is a good choice for the sort of tasks that require fast and memory-efficient counting of occurrences of elements in a dataset or a data stream. Still, it is important to note that our results are just an approximation, albeit a very good one, and that the accuracy of the results depends on the size of the sketch."
   ]
  },
  {
   "attachments": {},
   "cell_type": "markdown",
   "metadata": {},
   "source": [
    "## 3. Min-wise locality sensitive hashing task – 1/2 A4 (Individual, 10 Points)\n",
    "## Student 2"
   ]
  },
  {
   "attachments": {},
   "cell_type": "markdown",
   "metadata": {},
   "source": [
    "### 3a. Implementation"
   ]
  },
  {
   "attachments": {},
   "cell_type": "markdown",
   "metadata": {},
   "source": [
    "### 3a. Implementation"
   ]
  },
  {
   "attachments": {},
   "cell_type": "markdown",
   "metadata": {},
   "source": [
    "#### Discretising Connection i.e. SrcAddr and DstAddr"
   ]
  },
  {
   "cell_type": "code",
   "execution_count": 48,
   "metadata": {
    "collapsed": false,
    "jupyter": {
     "outputs_hidden": false
    }
   },
   "outputs": [],
   "source": [
    "# Build discretizations\n",
    "def discretize_in_one(data_df: pd.DataFrame, feature_maps: Dict[str, Dict], out_column: str = \"code\") -> pd.DataFrame:\n",
    "    \"\"\"Netflow encoding using attribute mappings.\n",
    "\n",
    "    Args:\n",
    "        data_df (pd.DataFrame): Data with features used in discretization.\n",
    "        feature_maps (Dict[str, Dict]): Map of attributes to their value maps.\n",
    "        out_column (str, optional): Name of the output column. Defaults to 'code'.\n",
    "\n",
    "    Returns:\n",
    "        pd.DataFrame: Dataframe with the discretized data, including the output column.\n",
    "    \"\"\"\n",
    "    attr_count = np.prod([len(feature_maps[attr].keys()) for attr in feature_maps])\n",
    "\n",
    "    def map_values(row):\n",
    "        return [feature_maps[col].get(val, val) for col, val in row.items()]\n",
    "\n",
    "    # Vectorized feature transformation\n",
    "    transformed_data = data_df.apply(map_values, axis=1, result_type='broadcast')\n",
    "\n",
    "    space_sizes = attr_count / np.cumprod([len(feature_maps[col].keys()) for col in data_df.columns])\n",
    "\n",
    "    # The calculation is performed along the rows (axis=1)\n",
    "    codes = (transformed_data * space_sizes).sum(axis=1)\n",
    "\n",
    "    data_df[out_column] = codes\n",
    "    return data_df\n",
    "\n",
    "\n",
    "def discretization_df(data_df: pd.DataFrame, columns:List[str], out_column:str) -> pd.DataFrame:\n",
    "    \"\"\"Custom discretisation of data.\n",
    "\n",
    "    Args:\n",
    "            data_df (pd.DataFrame): data frame to discretize and output\n",
    "            columns (List[str]): columns to discretize\n",
    "            out_column (str): name of the output column.\n",
    "\n",
    "    Returns:\n",
    "        pd.DataFrame: DataFrame with inputed dataframe and discrtisation of columns (columns to discretize are removed)\n",
    "    \"\"\"\n",
    "    feat_maps_dict = dict()\n",
    "    for feature in columns:\n",
    "        feature_sorted = list(data_df[feature].value_counts().index)\n",
    "        feature_mapping = dict(zip(feature_sorted, range(len(feature_sorted))))\n",
    "        feat_maps_dict[feature] = feature_mapping\n",
    "    data_disc_df = discretize_in_one(data_df[columns].copy(), feat_maps_dict, out_column=out_column)\n",
    "    data_disc_df.drop(columns, axis=1, inplace=True)\n",
    "    new_data = data_df.copy()\n",
    "    new_data.drop(columns, axis=1, inplace=True)\n",
    "    return pd.concat([new_data, data_disc_df], axis=1)"
   ]
  },
  {
   "cell_type": "code",
   "execution_count": 49,
   "metadata": {
    "collapsed": false,
    "jupyter": {
     "outputs_hidden": false
    }
   },
   "outputs": [
    {
     "data": {
      "text/html": [
       "<div>\n",
       "<style scoped>\n",
       "    .dataframe tbody tr th:only-of-type {\n",
       "        vertical-align: middle;\n",
       "    }\n",
       "\n",
       "    .dataframe tbody tr th {\n",
       "        vertical-align: top;\n",
       "    }\n",
       "\n",
       "    .dataframe thead th {\n",
       "        text-align: right;\n",
       "    }\n",
       "</style>\n",
       "<table border=\"1\" class=\"dataframe\">\n",
       "  <thead>\n",
       "    <tr style=\"text-align: right;\">\n",
       "      <th></th>\n",
       "      <th>StartTime</th>\n",
       "      <th>Dur</th>\n",
       "      <th>Proto</th>\n",
       "      <th>Sport</th>\n",
       "      <th>Dir</th>\n",
       "      <th>Dport</th>\n",
       "      <th>State</th>\n",
       "      <th>sTos</th>\n",
       "      <th>dTos</th>\n",
       "      <th>TotPkts</th>\n",
       "      <th>TotBytes</th>\n",
       "      <th>SrcBytes</th>\n",
       "      <th>Label</th>\n",
       "      <th>Connection</th>\n",
       "    </tr>\n",
       "  </thead>\n",
       "  <tbody>\n",
       "    <tr>\n",
       "      <th>0</th>\n",
       "      <td>2011-08-18 10:21:46.633335</td>\n",
       "      <td>1.060248</td>\n",
       "      <td>tcp</td>\n",
       "      <td>1611</td>\n",
       "      <td>-&gt;</td>\n",
       "      <td>6881</td>\n",
       "      <td>S_RA</td>\n",
       "      <td>0.0</td>\n",
       "      <td>0.0</td>\n",
       "      <td>4</td>\n",
       "      <td>252</td>\n",
       "      <td>132</td>\n",
       "      <td>flow=Background-TCP-Attempt</td>\n",
       "      <td>1.264928e+09</td>\n",
       "    </tr>\n",
       "    <tr>\n",
       "      <th>1</th>\n",
       "      <td>2011-08-18 10:19:49.027650</td>\n",
       "      <td>279.349152</td>\n",
       "      <td>tcp</td>\n",
       "      <td>1031</td>\n",
       "      <td>&lt;?&gt;</td>\n",
       "      <td>13363</td>\n",
       "      <td>SRPA_PA</td>\n",
       "      <td>0.0</td>\n",
       "      <td>0.0</td>\n",
       "      <td>15</td>\n",
       "      <td>1318</td>\n",
       "      <td>955</td>\n",
       "      <td>flow=Background-TCP-Attempt</td>\n",
       "      <td>1.334384e+08</td>\n",
       "    </tr>\n",
       "    <tr>\n",
       "      <th>2</th>\n",
       "      <td>2011-08-18 10:22:07.160628</td>\n",
       "      <td>166.390015</td>\n",
       "      <td>tcp</td>\n",
       "      <td>58067</td>\n",
       "      <td>-&gt;</td>\n",
       "      <td>80</td>\n",
       "      <td>SR_SA</td>\n",
       "      <td>0.0</td>\n",
       "      <td>0.0</td>\n",
       "      <td>3</td>\n",
       "      <td>212</td>\n",
       "      <td>134</td>\n",
       "      <td>flow=Background-TCP-Established</td>\n",
       "      <td>5.546957e+06</td>\n",
       "    </tr>\n",
       "    <tr>\n",
       "      <th>3</th>\n",
       "      <td>2011-08-18 10:26:02.052163</td>\n",
       "      <td>1.187083</td>\n",
       "      <td>tcp</td>\n",
       "      <td>3130</td>\n",
       "      <td>-&gt;</td>\n",
       "      <td>10010</td>\n",
       "      <td>S_RA</td>\n",
       "      <td>0.0</td>\n",
       "      <td>0.0</td>\n",
       "      <td>4</td>\n",
       "      <td>244</td>\n",
       "      <td>124</td>\n",
       "      <td>flow=Background-TCP-Attempt</td>\n",
       "      <td>9.630532e+06</td>\n",
       "    </tr>\n",
       "    <tr>\n",
       "      <th>4</th>\n",
       "      <td>2011-08-18 10:26:52.226748</td>\n",
       "      <td>0.980571</td>\n",
       "      <td>tcp</td>\n",
       "      <td>3134</td>\n",
       "      <td>-&gt;</td>\n",
       "      <td>6881</td>\n",
       "      <td>S_RA</td>\n",
       "      <td>0.0</td>\n",
       "      <td>0.0</td>\n",
       "      <td>4</td>\n",
       "      <td>244</td>\n",
       "      <td>124</td>\n",
       "      <td>flow=Background-TCP-Attempt</td>\n",
       "      <td>1.800579e+08</td>\n",
       "    </tr>\n",
       "    <tr>\n",
       "      <th>...</th>\n",
       "      <td>...</td>\n",
       "      <td>...</td>\n",
       "      <td>...</td>\n",
       "      <td>...</td>\n",
       "      <td>...</td>\n",
       "      <td>...</td>\n",
       "      <td>...</td>\n",
       "      <td>...</td>\n",
       "      <td>...</td>\n",
       "      <td>...</td>\n",
       "      <td>...</td>\n",
       "      <td>...</td>\n",
       "      <td>...</td>\n",
       "      <td>...</td>\n",
       "    </tr>\n",
       "    <tr>\n",
       "      <th>1309786</th>\n",
       "      <td>2011-08-18 15:04:59.579762</td>\n",
       "      <td>0.000158</td>\n",
       "      <td>tcp</td>\n",
       "      <td>25463</td>\n",
       "      <td>-&gt;</td>\n",
       "      <td>80</td>\n",
       "      <td>S_SA</td>\n",
       "      <td>0.0</td>\n",
       "      <td>0.0</td>\n",
       "      <td>2</td>\n",
       "      <td>152</td>\n",
       "      <td>78</td>\n",
       "      <td>flow=Background-TCP-Established</td>\n",
       "      <td>1.648835e+07</td>\n",
       "    </tr>\n",
       "    <tr>\n",
       "      <th>1309787</th>\n",
       "      <td>2011-08-18 15:04:59.626719</td>\n",
       "      <td>0.000688</td>\n",
       "      <td>udp</td>\n",
       "      <td>64126</td>\n",
       "      <td>&lt;-&gt;</td>\n",
       "      <td>13363</td>\n",
       "      <td>CON</td>\n",
       "      <td>0.0</td>\n",
       "      <td>0.0</td>\n",
       "      <td>2</td>\n",
       "      <td>306</td>\n",
       "      <td>244</td>\n",
       "      <td>flow=Background-UDP-Established</td>\n",
       "      <td>3.588755e+08</td>\n",
       "    </tr>\n",
       "    <tr>\n",
       "      <th>1309788</th>\n",
       "      <td>2011-08-18 15:04:59.686325</td>\n",
       "      <td>0.000689</td>\n",
       "      <td>udp</td>\n",
       "      <td>44432</td>\n",
       "      <td>&lt;-&gt;</td>\n",
       "      <td>13363</td>\n",
       "      <td>CON</td>\n",
       "      <td>0.0</td>\n",
       "      <td>0.0</td>\n",
       "      <td>2</td>\n",
       "      <td>144</td>\n",
       "      <td>83</td>\n",
       "      <td>flow=Background-UDP-Established</td>\n",
       "      <td>1.251577e+09</td>\n",
       "    </tr>\n",
       "    <tr>\n",
       "      <th>1309789</th>\n",
       "      <td>2011-08-18 15:04:59.690632</td>\n",
       "      <td>0.000000</td>\n",
       "      <td>udp</td>\n",
       "      <td>16978</td>\n",
       "      <td>-&gt;</td>\n",
       "      <td>13363</td>\n",
       "      <td>INT</td>\n",
       "      <td>0.0</td>\n",
       "      <td>NaN</td>\n",
       "      <td>1</td>\n",
       "      <td>172</td>\n",
       "      <td>172</td>\n",
       "      <td>flow=Background-UDP-Attempt</td>\n",
       "      <td>3.308527e+09</td>\n",
       "    </tr>\n",
       "    <tr>\n",
       "      <th>1309790</th>\n",
       "      <td>2011-08-18 15:04:59.703972</td>\n",
       "      <td>0.001252</td>\n",
       "      <td>tcp</td>\n",
       "      <td>52836</td>\n",
       "      <td>-&gt;</td>\n",
       "      <td>1935</td>\n",
       "      <td>SA_SA</td>\n",
       "      <td>0.0</td>\n",
       "      <td>0.0</td>\n",
       "      <td>3</td>\n",
       "      <td>192</td>\n",
       "      <td>126</td>\n",
       "      <td>flow=Background-TCP-Established</td>\n",
       "      <td>5.836610e+05</td>\n",
       "    </tr>\n",
       "  </tbody>\n",
       "</table>\n",
       "<p>1309791 rows × 14 columns</p>\n",
       "</div>"
      ],
      "text/plain": [
       "                         StartTime         Dur Proto  Sport    Dir  Dport  \\\n",
       "0       2011-08-18 10:21:46.633335    1.060248   tcp   1611     ->   6881   \n",
       "1       2011-08-18 10:19:49.027650  279.349152   tcp   1031    <?>  13363   \n",
       "2       2011-08-18 10:22:07.160628  166.390015   tcp  58067     ->     80   \n",
       "3       2011-08-18 10:26:02.052163    1.187083   tcp   3130     ->  10010   \n",
       "4       2011-08-18 10:26:52.226748    0.980571   tcp   3134     ->   6881   \n",
       "...                            ...         ...   ...    ...    ...    ...   \n",
       "1309786 2011-08-18 15:04:59.579762    0.000158   tcp  25463     ->     80   \n",
       "1309787 2011-08-18 15:04:59.626719    0.000688   udp  64126    <->  13363   \n",
       "1309788 2011-08-18 15:04:59.686325    0.000689   udp  44432    <->  13363   \n",
       "1309789 2011-08-18 15:04:59.690632    0.000000   udp  16978     ->  13363   \n",
       "1309790 2011-08-18 15:04:59.703972    0.001252   tcp  52836     ->   1935   \n",
       "\n",
       "           State  sTos  dTos  TotPkts  TotBytes  SrcBytes  \\\n",
       "0           S_RA   0.0   0.0        4       252       132   \n",
       "1        SRPA_PA   0.0   0.0       15      1318       955   \n",
       "2          SR_SA   0.0   0.0        3       212       134   \n",
       "3           S_RA   0.0   0.0        4       244       124   \n",
       "4           S_RA   0.0   0.0        4       244       124   \n",
       "...          ...   ...   ...      ...       ...       ...   \n",
       "1309786     S_SA   0.0   0.0        2       152        78   \n",
       "1309787      CON   0.0   0.0        2       306       244   \n",
       "1309788      CON   0.0   0.0        2       144        83   \n",
       "1309789      INT   0.0   NaN        1       172       172   \n",
       "1309790    SA_SA   0.0   0.0        3       192       126   \n",
       "\n",
       "                                   Label    Connection  \n",
       "0            flow=Background-TCP-Attempt  1.264928e+09  \n",
       "1            flow=Background-TCP-Attempt  1.334384e+08  \n",
       "2        flow=Background-TCP-Established  5.546957e+06  \n",
       "3            flow=Background-TCP-Attempt  9.630532e+06  \n",
       "4            flow=Background-TCP-Attempt  1.800579e+08  \n",
       "...                                  ...           ...  \n",
       "1309786  flow=Background-TCP-Established  1.648835e+07  \n",
       "1309787  flow=Background-UDP-Established  3.588755e+08  \n",
       "1309788  flow=Background-UDP-Established  1.251577e+09  \n",
       "1309789      flow=Background-UDP-Attempt  3.308527e+09  \n",
       "1309790  flow=Background-TCP-Established  5.836610e+05  \n",
       "\n",
       "[1309791 rows x 14 columns]"
      ]
     },
     "execution_count": 49,
     "metadata": {},
     "output_type": "execute_result"
    }
   ],
   "source": [
    "connection_disc_df = discretization_df(df, [\"SrcAddr\", \"DstAddr\"], \"Connection\")\n",
    "connection_disc_df"
   ]
  },
  {
   "attachments": {},
   "cell_type": "markdown",
   "metadata": {},
   "source": [
    "#### Building 3-grams"
   ]
  },
  {
   "cell_type": "code",
   "execution_count": 50,
   "metadata": {
    "collapsed": false,
    "jupyter": {
     "outputs_hidden": false
    }
   },
   "outputs": [],
   "source": [
    "def build_3_grams(data: np.ndarray, window_step: int = 1, with_count: bool = True) -> Union[Counter, Set[str]]:\n",
    "    \"\"\"Creates 3-grams from a list of items.\n",
    "\n",
    "    Args:\n",
    "        data (np.ndarray): numpy array of data to create 3-grams from\n",
    "        window_step (int, optional): number of steps to take to next window. Defaults to 1.\n",
    "        with_count (bool, optional): determines if the counter will be used. Defaults to True.\n",
    "    Returns:\n",
    "        Union[Counter, Set[str]]: Output of the Counter attribute or set of 3grams\n",
    "    \"\"\"\n",
    "    ngrams = [] if with_count else set()\n",
    "    for i in range(0, data.shape[0] - 2, window_step):\n",
    "        window = data[i:i+3]\n",
    "        window_str = np.array2string(window)\n",
    "        if with_count:\n",
    "            ngrams.append(window_str)\n",
    "        else:\n",
    "            ngrams.add(window_str)\n",
    "\n",
    "    if with_count:\n",
    "        ngram_counter = Counter(ngrams)\n",
    "        return ngram_counter\n",
    "    return set(ngrams)\n",
    "\n",
    "\n",
    "def build_3gram_df(data:np.ndarray, data_window_size, data_window_step, three_gram_step:int=1) -> pd.DataFrame:\n",
    "    \"\"\"Builds a pandas DataFrame containing the counts of 3-grams within sliding windows of data.\n",
    "\n",
    "    Args:\n",
    "        data (np.ndarray): Numpy array of data to extract 3-grams from.\n",
    "        data_window_size (int): Size of the sliding window used on the data.\n",
    "        data_window_step (int): Number of steps to take to the next sliding window.\n",
    "        three_gram_step (int, optional): Number of steps to take to the next 3-gram. Defaults to 1.\n",
    "\n",
    "    Returns:\n",
    "        pd.DataFrame: DataFrame containing the counts of 3-grams within sliding windows of data.\n",
    "    \"\"\"\n",
    "    ngrams_names = build_3_grams(data, window_step=three_gram_step, with_count=False)\n",
    "    ngram_df_data = {key: [] for key in ngrams_names}\n",
    "    data_length = data.shape[0]\n",
    "\n",
    "    for i in range(0, data_length - data_window_size + 1, data_window_step):\n",
    "        window = data[i:i+data_window_size]\n",
    "        ngram_counter = build_3_grams(window, window_step=three_gram_step, with_count=True)\n",
    "        for n_gram in ngrams_names:\n",
    "            ngram_df_data[n_gram].append(min(ngram_counter.get(n_gram, 0), 1))\n",
    "\n",
    "    return pd.DataFrame(ngram_df_data)"
   ]
  },
  {
   "cell_type": "code",
   "execution_count": 51,
   "metadata": {
    "tags": []
   },
   "outputs": [
    {
     "data": {
      "text/html": [
       "<div>\n",
       "<style scoped>\n",
       "    .dataframe tbody tr th:only-of-type {\n",
       "        vertical-align: middle;\n",
       "    }\n",
       "\n",
       "    .dataframe tbody tr th {\n",
       "        vertical-align: top;\n",
       "    }\n",
       "\n",
       "    .dataframe thead th {\n",
       "        text-align: right;\n",
       "    }\n",
       "</style>\n",
       "<table border=\"1\" class=\"dataframe\">\n",
       "  <thead>\n",
       "    <tr style=\"text-align: right;\">\n",
       "      <th></th>\n",
       "      <th>[9.20082616e+09 7.29570000e+04 2.16949000e+05]</th>\n",
       "      <th>[3866721. 3866721. 3866999.]</th>\n",
       "      <th>[1.16052700e+09 7.06237500e+07 8.12237577e+09]</th>\n",
       "      <th>[186604. 186602. 186580.]</th>\n",
       "      <th>[7.29570000e+04 7.29570000e+04 2.23343264e+09]</th>\n",
       "      <th>[3.06110000e+05 8.56515190e+07 3.48274831e+09]</th>\n",
       "      <th>[1.0724696e+07 3.0401182e+08 5.6913880e+06]</th>\n",
       "      <th>[5.47181300e+06 4.19502810e+07 9.40838881e+09]</th>\n",
       "      <th>[194036. 146284. 146199.]</th>\n",
       "      <th>[9.21352066e+09 0.00000000e+00 0.00000000e+00]</th>\n",
       "      <th>...</th>\n",
       "      <th>[3.03024000e+05 1.03425302e+10 0.00000000e+00]</th>\n",
       "      <th>[2918280.  437742.  437756.]</th>\n",
       "      <th>[10001045.  3064611.    72957.]</th>\n",
       "      <th>[5.61768900e+06 6.85797500e+06 1.31833299e+09]</th>\n",
       "      <th>[3.64785000e+05 3.64785000e+05 9.47303075e+09]</th>\n",
       "      <th>[3.54264601e+09 0.00000000e+00 0.00000000e+00]</th>\n",
       "      <th>[1.94107950e+07 1.62803546e+09 1.70099246e+09]</th>\n",
       "      <th>[2.68547422e+09 9.89030000e+04 1.18044427e+08]</th>\n",
       "      <th>[  72957.   72957. 2407684.]</th>\n",
       "      <th>[  292249.  2773142. 86599960.]</th>\n",
       "    </tr>\n",
       "  </thead>\n",
       "  <tbody>\n",
       "    <tr>\n",
       "      <th>0</th>\n",
       "      <td>0</td>\n",
       "      <td>0</td>\n",
       "      <td>0</td>\n",
       "      <td>1</td>\n",
       "      <td>0</td>\n",
       "      <td>0</td>\n",
       "      <td>0</td>\n",
       "      <td>0</td>\n",
       "      <td>0</td>\n",
       "      <td>0</td>\n",
       "      <td>...</td>\n",
       "      <td>0</td>\n",
       "      <td>0</td>\n",
       "      <td>0</td>\n",
       "      <td>0</td>\n",
       "      <td>0</td>\n",
       "      <td>0</td>\n",
       "      <td>0</td>\n",
       "      <td>0</td>\n",
       "      <td>0</td>\n",
       "      <td>0</td>\n",
       "    </tr>\n",
       "    <tr>\n",
       "      <th>1</th>\n",
       "      <td>0</td>\n",
       "      <td>1</td>\n",
       "      <td>0</td>\n",
       "      <td>0</td>\n",
       "      <td>0</td>\n",
       "      <td>0</td>\n",
       "      <td>0</td>\n",
       "      <td>0</td>\n",
       "      <td>0</td>\n",
       "      <td>0</td>\n",
       "      <td>...</td>\n",
       "      <td>0</td>\n",
       "      <td>0</td>\n",
       "      <td>0</td>\n",
       "      <td>0</td>\n",
       "      <td>0</td>\n",
       "      <td>0</td>\n",
       "      <td>0</td>\n",
       "      <td>0</td>\n",
       "      <td>0</td>\n",
       "      <td>0</td>\n",
       "    </tr>\n",
       "    <tr>\n",
       "      <th>2</th>\n",
       "      <td>0</td>\n",
       "      <td>0</td>\n",
       "      <td>0</td>\n",
       "      <td>0</td>\n",
       "      <td>0</td>\n",
       "      <td>0</td>\n",
       "      <td>0</td>\n",
       "      <td>0</td>\n",
       "      <td>0</td>\n",
       "      <td>0</td>\n",
       "      <td>...</td>\n",
       "      <td>0</td>\n",
       "      <td>0</td>\n",
       "      <td>0</td>\n",
       "      <td>0</td>\n",
       "      <td>0</td>\n",
       "      <td>0</td>\n",
       "      <td>0</td>\n",
       "      <td>0</td>\n",
       "      <td>0</td>\n",
       "      <td>0</td>\n",
       "    </tr>\n",
       "    <tr>\n",
       "      <th>3</th>\n",
       "      <td>0</td>\n",
       "      <td>0</td>\n",
       "      <td>0</td>\n",
       "      <td>0</td>\n",
       "      <td>0</td>\n",
       "      <td>0</td>\n",
       "      <td>0</td>\n",
       "      <td>0</td>\n",
       "      <td>0</td>\n",
       "      <td>0</td>\n",
       "      <td>...</td>\n",
       "      <td>0</td>\n",
       "      <td>0</td>\n",
       "      <td>0</td>\n",
       "      <td>0</td>\n",
       "      <td>0</td>\n",
       "      <td>0</td>\n",
       "      <td>0</td>\n",
       "      <td>0</td>\n",
       "      <td>0</td>\n",
       "      <td>0</td>\n",
       "    </tr>\n",
       "    <tr>\n",
       "      <th>4</th>\n",
       "      <td>0</td>\n",
       "      <td>0</td>\n",
       "      <td>0</td>\n",
       "      <td>0</td>\n",
       "      <td>0</td>\n",
       "      <td>0</td>\n",
       "      <td>0</td>\n",
       "      <td>0</td>\n",
       "      <td>0</td>\n",
       "      <td>0</td>\n",
       "      <td>...</td>\n",
       "      <td>0</td>\n",
       "      <td>1</td>\n",
       "      <td>0</td>\n",
       "      <td>0</td>\n",
       "      <td>0</td>\n",
       "      <td>0</td>\n",
       "      <td>0</td>\n",
       "      <td>0</td>\n",
       "      <td>0</td>\n",
       "      <td>0</td>\n",
       "    </tr>\n",
       "    <tr>\n",
       "      <th>5</th>\n",
       "      <td>0</td>\n",
       "      <td>0</td>\n",
       "      <td>1</td>\n",
       "      <td>0</td>\n",
       "      <td>0</td>\n",
       "      <td>0</td>\n",
       "      <td>0</td>\n",
       "      <td>0</td>\n",
       "      <td>0</td>\n",
       "      <td>0</td>\n",
       "      <td>...</td>\n",
       "      <td>0</td>\n",
       "      <td>0</td>\n",
       "      <td>0</td>\n",
       "      <td>0</td>\n",
       "      <td>0</td>\n",
       "      <td>0</td>\n",
       "      <td>0</td>\n",
       "      <td>0</td>\n",
       "      <td>0</td>\n",
       "      <td>0</td>\n",
       "    </tr>\n",
       "    <tr>\n",
       "      <th>6</th>\n",
       "      <td>0</td>\n",
       "      <td>0</td>\n",
       "      <td>0</td>\n",
       "      <td>0</td>\n",
       "      <td>0</td>\n",
       "      <td>1</td>\n",
       "      <td>0</td>\n",
       "      <td>0</td>\n",
       "      <td>0</td>\n",
       "      <td>0</td>\n",
       "      <td>...</td>\n",
       "      <td>0</td>\n",
       "      <td>1</td>\n",
       "      <td>0</td>\n",
       "      <td>0</td>\n",
       "      <td>0</td>\n",
       "      <td>0</td>\n",
       "      <td>0</td>\n",
       "      <td>0</td>\n",
       "      <td>0</td>\n",
       "      <td>0</td>\n",
       "    </tr>\n",
       "    <tr>\n",
       "      <th>7</th>\n",
       "      <td>0</td>\n",
       "      <td>0</td>\n",
       "      <td>0</td>\n",
       "      <td>0</td>\n",
       "      <td>1</td>\n",
       "      <td>0</td>\n",
       "      <td>0</td>\n",
       "      <td>0</td>\n",
       "      <td>0</td>\n",
       "      <td>0</td>\n",
       "      <td>...</td>\n",
       "      <td>1</td>\n",
       "      <td>0</td>\n",
       "      <td>0</td>\n",
       "      <td>0</td>\n",
       "      <td>0</td>\n",
       "      <td>0</td>\n",
       "      <td>0</td>\n",
       "      <td>0</td>\n",
       "      <td>0</td>\n",
       "      <td>0</td>\n",
       "    </tr>\n",
       "    <tr>\n",
       "      <th>8</th>\n",
       "      <td>0</td>\n",
       "      <td>0</td>\n",
       "      <td>0</td>\n",
       "      <td>0</td>\n",
       "      <td>0</td>\n",
       "      <td>0</td>\n",
       "      <td>0</td>\n",
       "      <td>0</td>\n",
       "      <td>0</td>\n",
       "      <td>0</td>\n",
       "      <td>...</td>\n",
       "      <td>0</td>\n",
       "      <td>0</td>\n",
       "      <td>0</td>\n",
       "      <td>0</td>\n",
       "      <td>0</td>\n",
       "      <td>0</td>\n",
       "      <td>0</td>\n",
       "      <td>0</td>\n",
       "      <td>0</td>\n",
       "      <td>0</td>\n",
       "    </tr>\n",
       "    <tr>\n",
       "      <th>9</th>\n",
       "      <td>0</td>\n",
       "      <td>0</td>\n",
       "      <td>0</td>\n",
       "      <td>0</td>\n",
       "      <td>0</td>\n",
       "      <td>0</td>\n",
       "      <td>0</td>\n",
       "      <td>0</td>\n",
       "      <td>0</td>\n",
       "      <td>0</td>\n",
       "      <td>...</td>\n",
       "      <td>0</td>\n",
       "      <td>0</td>\n",
       "      <td>0</td>\n",
       "      <td>0</td>\n",
       "      <td>0</td>\n",
       "      <td>0</td>\n",
       "      <td>0</td>\n",
       "      <td>0</td>\n",
       "      <td>0</td>\n",
       "      <td>0</td>\n",
       "    </tr>\n",
       "    <tr>\n",
       "      <th>10</th>\n",
       "      <td>0</td>\n",
       "      <td>0</td>\n",
       "      <td>0</td>\n",
       "      <td>0</td>\n",
       "      <td>0</td>\n",
       "      <td>0</td>\n",
       "      <td>0</td>\n",
       "      <td>0</td>\n",
       "      <td>0</td>\n",
       "      <td>0</td>\n",
       "      <td>...</td>\n",
       "      <td>0</td>\n",
       "      <td>0</td>\n",
       "      <td>0</td>\n",
       "      <td>0</td>\n",
       "      <td>0</td>\n",
       "      <td>0</td>\n",
       "      <td>0</td>\n",
       "      <td>0</td>\n",
       "      <td>0</td>\n",
       "      <td>0</td>\n",
       "    </tr>\n",
       "    <tr>\n",
       "      <th>11</th>\n",
       "      <td>0</td>\n",
       "      <td>0</td>\n",
       "      <td>0</td>\n",
       "      <td>0</td>\n",
       "      <td>0</td>\n",
       "      <td>0</td>\n",
       "      <td>0</td>\n",
       "      <td>1</td>\n",
       "      <td>0</td>\n",
       "      <td>0</td>\n",
       "      <td>...</td>\n",
       "      <td>0</td>\n",
       "      <td>0</td>\n",
       "      <td>0</td>\n",
       "      <td>0</td>\n",
       "      <td>0</td>\n",
       "      <td>0</td>\n",
       "      <td>0</td>\n",
       "      <td>1</td>\n",
       "      <td>0</td>\n",
       "      <td>0</td>\n",
       "    </tr>\n",
       "    <tr>\n",
       "      <th>12</th>\n",
       "      <td>1</td>\n",
       "      <td>0</td>\n",
       "      <td>0</td>\n",
       "      <td>0</td>\n",
       "      <td>0</td>\n",
       "      <td>0</td>\n",
       "      <td>0</td>\n",
       "      <td>0</td>\n",
       "      <td>0</td>\n",
       "      <td>1</td>\n",
       "      <td>...</td>\n",
       "      <td>0</td>\n",
       "      <td>0</td>\n",
       "      <td>0</td>\n",
       "      <td>0</td>\n",
       "      <td>1</td>\n",
       "      <td>0</td>\n",
       "      <td>0</td>\n",
       "      <td>0</td>\n",
       "      <td>0</td>\n",
       "      <td>0</td>\n",
       "    </tr>\n",
       "    <tr>\n",
       "      <th>13</th>\n",
       "      <td>0</td>\n",
       "      <td>0</td>\n",
       "      <td>0</td>\n",
       "      <td>0</td>\n",
       "      <td>0</td>\n",
       "      <td>0</td>\n",
       "      <td>1</td>\n",
       "      <td>0</td>\n",
       "      <td>0</td>\n",
       "      <td>0</td>\n",
       "      <td>...</td>\n",
       "      <td>0</td>\n",
       "      <td>0</td>\n",
       "      <td>0</td>\n",
       "      <td>0</td>\n",
       "      <td>0</td>\n",
       "      <td>0</td>\n",
       "      <td>0</td>\n",
       "      <td>0</td>\n",
       "      <td>0</td>\n",
       "      <td>0</td>\n",
       "    </tr>\n",
       "    <tr>\n",
       "      <th>14</th>\n",
       "      <td>0</td>\n",
       "      <td>0</td>\n",
       "      <td>0</td>\n",
       "      <td>0</td>\n",
       "      <td>0</td>\n",
       "      <td>0</td>\n",
       "      <td>0</td>\n",
       "      <td>0</td>\n",
       "      <td>0</td>\n",
       "      <td>0</td>\n",
       "      <td>...</td>\n",
       "      <td>0</td>\n",
       "      <td>0</td>\n",
       "      <td>0</td>\n",
       "      <td>0</td>\n",
       "      <td>0</td>\n",
       "      <td>0</td>\n",
       "      <td>0</td>\n",
       "      <td>0</td>\n",
       "      <td>1</td>\n",
       "      <td>0</td>\n",
       "    </tr>\n",
       "    <tr>\n",
       "      <th>15</th>\n",
       "      <td>0</td>\n",
       "      <td>0</td>\n",
       "      <td>0</td>\n",
       "      <td>0</td>\n",
       "      <td>0</td>\n",
       "      <td>0</td>\n",
       "      <td>0</td>\n",
       "      <td>0</td>\n",
       "      <td>0</td>\n",
       "      <td>0</td>\n",
       "      <td>...</td>\n",
       "      <td>0</td>\n",
       "      <td>0</td>\n",
       "      <td>1</td>\n",
       "      <td>0</td>\n",
       "      <td>0</td>\n",
       "      <td>1</td>\n",
       "      <td>0</td>\n",
       "      <td>0</td>\n",
       "      <td>0</td>\n",
       "      <td>0</td>\n",
       "    </tr>\n",
       "    <tr>\n",
       "      <th>16</th>\n",
       "      <td>0</td>\n",
       "      <td>0</td>\n",
       "      <td>0</td>\n",
       "      <td>0</td>\n",
       "      <td>0</td>\n",
       "      <td>0</td>\n",
       "      <td>0</td>\n",
       "      <td>0</td>\n",
       "      <td>0</td>\n",
       "      <td>0</td>\n",
       "      <td>...</td>\n",
       "      <td>0</td>\n",
       "      <td>0</td>\n",
       "      <td>0</td>\n",
       "      <td>0</td>\n",
       "      <td>0</td>\n",
       "      <td>0</td>\n",
       "      <td>1</td>\n",
       "      <td>0</td>\n",
       "      <td>0</td>\n",
       "      <td>0</td>\n",
       "    </tr>\n",
       "    <tr>\n",
       "      <th>17</th>\n",
       "      <td>0</td>\n",
       "      <td>0</td>\n",
       "      <td>0</td>\n",
       "      <td>0</td>\n",
       "      <td>0</td>\n",
       "      <td>0</td>\n",
       "      <td>0</td>\n",
       "      <td>0</td>\n",
       "      <td>0</td>\n",
       "      <td>0</td>\n",
       "      <td>...</td>\n",
       "      <td>0</td>\n",
       "      <td>0</td>\n",
       "      <td>0</td>\n",
       "      <td>0</td>\n",
       "      <td>0</td>\n",
       "      <td>0</td>\n",
       "      <td>0</td>\n",
       "      <td>0</td>\n",
       "      <td>0</td>\n",
       "      <td>0</td>\n",
       "    </tr>\n",
       "    <tr>\n",
       "      <th>18</th>\n",
       "      <td>0</td>\n",
       "      <td>0</td>\n",
       "      <td>0</td>\n",
       "      <td>0</td>\n",
       "      <td>0</td>\n",
       "      <td>0</td>\n",
       "      <td>0</td>\n",
       "      <td>0</td>\n",
       "      <td>0</td>\n",
       "      <td>0</td>\n",
       "      <td>...</td>\n",
       "      <td>0</td>\n",
       "      <td>0</td>\n",
       "      <td>0</td>\n",
       "      <td>0</td>\n",
       "      <td>0</td>\n",
       "      <td>0</td>\n",
       "      <td>0</td>\n",
       "      <td>0</td>\n",
       "      <td>0</td>\n",
       "      <td>0</td>\n",
       "    </tr>\n",
       "    <tr>\n",
       "      <th>19</th>\n",
       "      <td>0</td>\n",
       "      <td>0</td>\n",
       "      <td>0</td>\n",
       "      <td>0</td>\n",
       "      <td>0</td>\n",
       "      <td>0</td>\n",
       "      <td>0</td>\n",
       "      <td>0</td>\n",
       "      <td>0</td>\n",
       "      <td>0</td>\n",
       "      <td>...</td>\n",
       "      <td>0</td>\n",
       "      <td>0</td>\n",
       "      <td>0</td>\n",
       "      <td>0</td>\n",
       "      <td>0</td>\n",
       "      <td>0</td>\n",
       "      <td>0</td>\n",
       "      <td>0</td>\n",
       "      <td>0</td>\n",
       "      <td>0</td>\n",
       "    </tr>\n",
       "    <tr>\n",
       "      <th>20</th>\n",
       "      <td>0</td>\n",
       "      <td>0</td>\n",
       "      <td>0</td>\n",
       "      <td>0</td>\n",
       "      <td>0</td>\n",
       "      <td>0</td>\n",
       "      <td>0</td>\n",
       "      <td>0</td>\n",
       "      <td>1</td>\n",
       "      <td>0</td>\n",
       "      <td>...</td>\n",
       "      <td>0</td>\n",
       "      <td>0</td>\n",
       "      <td>0</td>\n",
       "      <td>0</td>\n",
       "      <td>0</td>\n",
       "      <td>0</td>\n",
       "      <td>0</td>\n",
       "      <td>0</td>\n",
       "      <td>0</td>\n",
       "      <td>0</td>\n",
       "    </tr>\n",
       "    <tr>\n",
       "      <th>21</th>\n",
       "      <td>0</td>\n",
       "      <td>0</td>\n",
       "      <td>0</td>\n",
       "      <td>0</td>\n",
       "      <td>0</td>\n",
       "      <td>0</td>\n",
       "      <td>0</td>\n",
       "      <td>0</td>\n",
       "      <td>0</td>\n",
       "      <td>0</td>\n",
       "      <td>...</td>\n",
       "      <td>0</td>\n",
       "      <td>0</td>\n",
       "      <td>0</td>\n",
       "      <td>0</td>\n",
       "      <td>0</td>\n",
       "      <td>0</td>\n",
       "      <td>0</td>\n",
       "      <td>0</td>\n",
       "      <td>0</td>\n",
       "      <td>1</td>\n",
       "    </tr>\n",
       "    <tr>\n",
       "      <th>22</th>\n",
       "      <td>0</td>\n",
       "      <td>0</td>\n",
       "      <td>0</td>\n",
       "      <td>0</td>\n",
       "      <td>0</td>\n",
       "      <td>0</td>\n",
       "      <td>0</td>\n",
       "      <td>0</td>\n",
       "      <td>0</td>\n",
       "      <td>0</td>\n",
       "      <td>...</td>\n",
       "      <td>0</td>\n",
       "      <td>0</td>\n",
       "      <td>0</td>\n",
       "      <td>1</td>\n",
       "      <td>0</td>\n",
       "      <td>0</td>\n",
       "      <td>0</td>\n",
       "      <td>0</td>\n",
       "      <td>0</td>\n",
       "      <td>0</td>\n",
       "    </tr>\n",
       "    <tr>\n",
       "      <th>23</th>\n",
       "      <td>0</td>\n",
       "      <td>0</td>\n",
       "      <td>0</td>\n",
       "      <td>0</td>\n",
       "      <td>0</td>\n",
       "      <td>0</td>\n",
       "      <td>0</td>\n",
       "      <td>0</td>\n",
       "      <td>0</td>\n",
       "      <td>0</td>\n",
       "      <td>...</td>\n",
       "      <td>0</td>\n",
       "      <td>0</td>\n",
       "      <td>0</td>\n",
       "      <td>0</td>\n",
       "      <td>0</td>\n",
       "      <td>0</td>\n",
       "      <td>0</td>\n",
       "      <td>0</td>\n",
       "      <td>0</td>\n",
       "      <td>0</td>\n",
       "    </tr>\n",
       "    <tr>\n",
       "      <th>24</th>\n",
       "      <td>0</td>\n",
       "      <td>0</td>\n",
       "      <td>0</td>\n",
       "      <td>0</td>\n",
       "      <td>0</td>\n",
       "      <td>0</td>\n",
       "      <td>0</td>\n",
       "      <td>0</td>\n",
       "      <td>0</td>\n",
       "      <td>0</td>\n",
       "      <td>...</td>\n",
       "      <td>0</td>\n",
       "      <td>0</td>\n",
       "      <td>0</td>\n",
       "      <td>0</td>\n",
       "      <td>0</td>\n",
       "      <td>0</td>\n",
       "      <td>0</td>\n",
       "      <td>0</td>\n",
       "      <td>0</td>\n",
       "      <td>0</td>\n",
       "    </tr>\n",
       "    <tr>\n",
       "      <th>25</th>\n",
       "      <td>0</td>\n",
       "      <td>0</td>\n",
       "      <td>0</td>\n",
       "      <td>0</td>\n",
       "      <td>0</td>\n",
       "      <td>0</td>\n",
       "      <td>0</td>\n",
       "      <td>0</td>\n",
       "      <td>0</td>\n",
       "      <td>0</td>\n",
       "      <td>...</td>\n",
       "      <td>0</td>\n",
       "      <td>0</td>\n",
       "      <td>0</td>\n",
       "      <td>0</td>\n",
       "      <td>0</td>\n",
       "      <td>0</td>\n",
       "      <td>0</td>\n",
       "      <td>0</td>\n",
       "      <td>0</td>\n",
       "      <td>0</td>\n",
       "    </tr>\n",
       "  </tbody>\n",
       "</table>\n",
       "<p>26 rows × 834156 columns</p>\n",
       "</div>"
      ],
      "text/plain": [
       "    [9.20082616e+09 7.29570000e+04 2.16949000e+05]  \\\n",
       "0                                                0   \n",
       "1                                                0   \n",
       "2                                                0   \n",
       "3                                                0   \n",
       "4                                                0   \n",
       "5                                                0   \n",
       "6                                                0   \n",
       "7                                                0   \n",
       "8                                                0   \n",
       "9                                                0   \n",
       "10                                               0   \n",
       "11                                               0   \n",
       "12                                               1   \n",
       "13                                               0   \n",
       "14                                               0   \n",
       "15                                               0   \n",
       "16                                               0   \n",
       "17                                               0   \n",
       "18                                               0   \n",
       "19                                               0   \n",
       "20                                               0   \n",
       "21                                               0   \n",
       "22                                               0   \n",
       "23                                               0   \n",
       "24                                               0   \n",
       "25                                               0   \n",
       "\n",
       "    [3866721. 3866721. 3866999.]  \\\n",
       "0                              0   \n",
       "1                              1   \n",
       "2                              0   \n",
       "3                              0   \n",
       "4                              0   \n",
       "5                              0   \n",
       "6                              0   \n",
       "7                              0   \n",
       "8                              0   \n",
       "9                              0   \n",
       "10                             0   \n",
       "11                             0   \n",
       "12                             0   \n",
       "13                             0   \n",
       "14                             0   \n",
       "15                             0   \n",
       "16                             0   \n",
       "17                             0   \n",
       "18                             0   \n",
       "19                             0   \n",
       "20                             0   \n",
       "21                             0   \n",
       "22                             0   \n",
       "23                             0   \n",
       "24                             0   \n",
       "25                             0   \n",
       "\n",
       "    [1.16052700e+09 7.06237500e+07 8.12237577e+09]  [186604. 186602. 186580.]  \\\n",
       "0                                                0                          1   \n",
       "1                                                0                          0   \n",
       "2                                                0                          0   \n",
       "3                                                0                          0   \n",
       "4                                                0                          0   \n",
       "5                                                1                          0   \n",
       "6                                                0                          0   \n",
       "7                                                0                          0   \n",
       "8                                                0                          0   \n",
       "9                                                0                          0   \n",
       "10                                               0                          0   \n",
       "11                                               0                          0   \n",
       "12                                               0                          0   \n",
       "13                                               0                          0   \n",
       "14                                               0                          0   \n",
       "15                                               0                          0   \n",
       "16                                               0                          0   \n",
       "17                                               0                          0   \n",
       "18                                               0                          0   \n",
       "19                                               0                          0   \n",
       "20                                               0                          0   \n",
       "21                                               0                          0   \n",
       "22                                               0                          0   \n",
       "23                                               0                          0   \n",
       "24                                               0                          0   \n",
       "25                                               0                          0   \n",
       "\n",
       "    [7.29570000e+04 7.29570000e+04 2.23343264e+09]  \\\n",
       "0                                                0   \n",
       "1                                                0   \n",
       "2                                                0   \n",
       "3                                                0   \n",
       "4                                                0   \n",
       "5                                                0   \n",
       "6                                                0   \n",
       "7                                                1   \n",
       "8                                                0   \n",
       "9                                                0   \n",
       "10                                               0   \n",
       "11                                               0   \n",
       "12                                               0   \n",
       "13                                               0   \n",
       "14                                               0   \n",
       "15                                               0   \n",
       "16                                               0   \n",
       "17                                               0   \n",
       "18                                               0   \n",
       "19                                               0   \n",
       "20                                               0   \n",
       "21                                               0   \n",
       "22                                               0   \n",
       "23                                               0   \n",
       "24                                               0   \n",
       "25                                               0   \n",
       "\n",
       "    [3.06110000e+05 8.56515190e+07 3.48274831e+09]  \\\n",
       "0                                                0   \n",
       "1                                                0   \n",
       "2                                                0   \n",
       "3                                                0   \n",
       "4                                                0   \n",
       "5                                                0   \n",
       "6                                                1   \n",
       "7                                                0   \n",
       "8                                                0   \n",
       "9                                                0   \n",
       "10                                               0   \n",
       "11                                               0   \n",
       "12                                               0   \n",
       "13                                               0   \n",
       "14                                               0   \n",
       "15                                               0   \n",
       "16                                               0   \n",
       "17                                               0   \n",
       "18                                               0   \n",
       "19                                               0   \n",
       "20                                               0   \n",
       "21                                               0   \n",
       "22                                               0   \n",
       "23                                               0   \n",
       "24                                               0   \n",
       "25                                               0   \n",
       "\n",
       "    [1.0724696e+07 3.0401182e+08 5.6913880e+06]  \\\n",
       "0                                             0   \n",
       "1                                             0   \n",
       "2                                             0   \n",
       "3                                             0   \n",
       "4                                             0   \n",
       "5                                             0   \n",
       "6                                             0   \n",
       "7                                             0   \n",
       "8                                             0   \n",
       "9                                             0   \n",
       "10                                            0   \n",
       "11                                            0   \n",
       "12                                            0   \n",
       "13                                            1   \n",
       "14                                            0   \n",
       "15                                            0   \n",
       "16                                            0   \n",
       "17                                            0   \n",
       "18                                            0   \n",
       "19                                            0   \n",
       "20                                            0   \n",
       "21                                            0   \n",
       "22                                            0   \n",
       "23                                            0   \n",
       "24                                            0   \n",
       "25                                            0   \n",
       "\n",
       "    [5.47181300e+06 4.19502810e+07 9.40838881e+09]  [194036. 146284. 146199.]  \\\n",
       "0                                                0                          0   \n",
       "1                                                0                          0   \n",
       "2                                                0                          0   \n",
       "3                                                0                          0   \n",
       "4                                                0                          0   \n",
       "5                                                0                          0   \n",
       "6                                                0                          0   \n",
       "7                                                0                          0   \n",
       "8                                                0                          0   \n",
       "9                                                0                          0   \n",
       "10                                               0                          0   \n",
       "11                                               1                          0   \n",
       "12                                               0                          0   \n",
       "13                                               0                          0   \n",
       "14                                               0                          0   \n",
       "15                                               0                          0   \n",
       "16                                               0                          0   \n",
       "17                                               0                          0   \n",
       "18                                               0                          0   \n",
       "19                                               0                          0   \n",
       "20                                               0                          1   \n",
       "21                                               0                          0   \n",
       "22                                               0                          0   \n",
       "23                                               0                          0   \n",
       "24                                               0                          0   \n",
       "25                                               0                          0   \n",
       "\n",
       "    [9.21352066e+09 0.00000000e+00 0.00000000e+00]  ...  \\\n",
       "0                                                0  ...   \n",
       "1                                                0  ...   \n",
       "2                                                0  ...   \n",
       "3                                                0  ...   \n",
       "4                                                0  ...   \n",
       "5                                                0  ...   \n",
       "6                                                0  ...   \n",
       "7                                                0  ...   \n",
       "8                                                0  ...   \n",
       "9                                                0  ...   \n",
       "10                                               0  ...   \n",
       "11                                               0  ...   \n",
       "12                                               1  ...   \n",
       "13                                               0  ...   \n",
       "14                                               0  ...   \n",
       "15                                               0  ...   \n",
       "16                                               0  ...   \n",
       "17                                               0  ...   \n",
       "18                                               0  ...   \n",
       "19                                               0  ...   \n",
       "20                                               0  ...   \n",
       "21                                               0  ...   \n",
       "22                                               0  ...   \n",
       "23                                               0  ...   \n",
       "24                                               0  ...   \n",
       "25                                               0  ...   \n",
       "\n",
       "    [3.03024000e+05 1.03425302e+10 0.00000000e+00]  \\\n",
       "0                                                0   \n",
       "1                                                0   \n",
       "2                                                0   \n",
       "3                                                0   \n",
       "4                                                0   \n",
       "5                                                0   \n",
       "6                                                0   \n",
       "7                                                1   \n",
       "8                                                0   \n",
       "9                                                0   \n",
       "10                                               0   \n",
       "11                                               0   \n",
       "12                                               0   \n",
       "13                                               0   \n",
       "14                                               0   \n",
       "15                                               0   \n",
       "16                                               0   \n",
       "17                                               0   \n",
       "18                                               0   \n",
       "19                                               0   \n",
       "20                                               0   \n",
       "21                                               0   \n",
       "22                                               0   \n",
       "23                                               0   \n",
       "24                                               0   \n",
       "25                                               0   \n",
       "\n",
       "    [2918280.  437742.  437756.]  [10001045.  3064611.    72957.]  \\\n",
       "0                              0                                0   \n",
       "1                              0                                0   \n",
       "2                              0                                0   \n",
       "3                              0                                0   \n",
       "4                              1                                0   \n",
       "5                              0                                0   \n",
       "6                              1                                0   \n",
       "7                              0                                0   \n",
       "8                              0                                0   \n",
       "9                              0                                0   \n",
       "10                             0                                0   \n",
       "11                             0                                0   \n",
       "12                             0                                0   \n",
       "13                             0                                0   \n",
       "14                             0                                0   \n",
       "15                             0                                1   \n",
       "16                             0                                0   \n",
       "17                             0                                0   \n",
       "18                             0                                0   \n",
       "19                             0                                0   \n",
       "20                             0                                0   \n",
       "21                             0                                0   \n",
       "22                             0                                0   \n",
       "23                             0                                0   \n",
       "24                             0                                0   \n",
       "25                             0                                0   \n",
       "\n",
       "    [5.61768900e+06 6.85797500e+06 1.31833299e+09]  \\\n",
       "0                                                0   \n",
       "1                                                0   \n",
       "2                                                0   \n",
       "3                                                0   \n",
       "4                                                0   \n",
       "5                                                0   \n",
       "6                                                0   \n",
       "7                                                0   \n",
       "8                                                0   \n",
       "9                                                0   \n",
       "10                                               0   \n",
       "11                                               0   \n",
       "12                                               0   \n",
       "13                                               0   \n",
       "14                                               0   \n",
       "15                                               0   \n",
       "16                                               0   \n",
       "17                                               0   \n",
       "18                                               0   \n",
       "19                                               0   \n",
       "20                                               0   \n",
       "21                                               0   \n",
       "22                                               1   \n",
       "23                                               0   \n",
       "24                                               0   \n",
       "25                                               0   \n",
       "\n",
       "    [3.64785000e+05 3.64785000e+05 9.47303075e+09]  \\\n",
       "0                                                0   \n",
       "1                                                0   \n",
       "2                                                0   \n",
       "3                                                0   \n",
       "4                                                0   \n",
       "5                                                0   \n",
       "6                                                0   \n",
       "7                                                0   \n",
       "8                                                0   \n",
       "9                                                0   \n",
       "10                                               0   \n",
       "11                                               0   \n",
       "12                                               1   \n",
       "13                                               0   \n",
       "14                                               0   \n",
       "15                                               0   \n",
       "16                                               0   \n",
       "17                                               0   \n",
       "18                                               0   \n",
       "19                                               0   \n",
       "20                                               0   \n",
       "21                                               0   \n",
       "22                                               0   \n",
       "23                                               0   \n",
       "24                                               0   \n",
       "25                                               0   \n",
       "\n",
       "    [3.54264601e+09 0.00000000e+00 0.00000000e+00]  \\\n",
       "0                                                0   \n",
       "1                                                0   \n",
       "2                                                0   \n",
       "3                                                0   \n",
       "4                                                0   \n",
       "5                                                0   \n",
       "6                                                0   \n",
       "7                                                0   \n",
       "8                                                0   \n",
       "9                                                0   \n",
       "10                                               0   \n",
       "11                                               0   \n",
       "12                                               0   \n",
       "13                                               0   \n",
       "14                                               0   \n",
       "15                                               1   \n",
       "16                                               0   \n",
       "17                                               0   \n",
       "18                                               0   \n",
       "19                                               0   \n",
       "20                                               0   \n",
       "21                                               0   \n",
       "22                                               0   \n",
       "23                                               0   \n",
       "24                                               0   \n",
       "25                                               0   \n",
       "\n",
       "    [1.94107950e+07 1.62803546e+09 1.70099246e+09]  \\\n",
       "0                                                0   \n",
       "1                                                0   \n",
       "2                                                0   \n",
       "3                                                0   \n",
       "4                                                0   \n",
       "5                                                0   \n",
       "6                                                0   \n",
       "7                                                0   \n",
       "8                                                0   \n",
       "9                                                0   \n",
       "10                                               0   \n",
       "11                                               0   \n",
       "12                                               0   \n",
       "13                                               0   \n",
       "14                                               0   \n",
       "15                                               0   \n",
       "16                                               1   \n",
       "17                                               0   \n",
       "18                                               0   \n",
       "19                                               0   \n",
       "20                                               0   \n",
       "21                                               0   \n",
       "22                                               0   \n",
       "23                                               0   \n",
       "24                                               0   \n",
       "25                                               0   \n",
       "\n",
       "    [2.68547422e+09 9.89030000e+04 1.18044427e+08]  \\\n",
       "0                                                0   \n",
       "1                                                0   \n",
       "2                                                0   \n",
       "3                                                0   \n",
       "4                                                0   \n",
       "5                                                0   \n",
       "6                                                0   \n",
       "7                                                0   \n",
       "8                                                0   \n",
       "9                                                0   \n",
       "10                                               0   \n",
       "11                                               1   \n",
       "12                                               0   \n",
       "13                                               0   \n",
       "14                                               0   \n",
       "15                                               0   \n",
       "16                                               0   \n",
       "17                                               0   \n",
       "18                                               0   \n",
       "19                                               0   \n",
       "20                                               0   \n",
       "21                                               0   \n",
       "22                                               0   \n",
       "23                                               0   \n",
       "24                                               0   \n",
       "25                                               0   \n",
       "\n",
       "    [  72957.   72957. 2407684.]  [  292249.  2773142. 86599960.]  \n",
       "0                              0                                0  \n",
       "1                              0                                0  \n",
       "2                              0                                0  \n",
       "3                              0                                0  \n",
       "4                              0                                0  \n",
       "5                              0                                0  \n",
       "6                              0                                0  \n",
       "7                              0                                0  \n",
       "8                              0                                0  \n",
       "9                              0                                0  \n",
       "10                             0                                0  \n",
       "11                             0                                0  \n",
       "12                             0                                0  \n",
       "13                             0                                0  \n",
       "14                             1                                0  \n",
       "15                             0                                0  \n",
       "16                             0                                0  \n",
       "17                             0                                0  \n",
       "18                             0                                0  \n",
       "19                             0                                0  \n",
       "20                             0                                0  \n",
       "21                             0                                1  \n",
       "22                             0                                0  \n",
       "23                             0                                0  \n",
       "24                             0                                0  \n",
       "25                             0                                0  \n",
       "\n",
       "[26 rows x 834156 columns]"
      ]
     },
     "execution_count": 51,
     "metadata": {},
     "output_type": "execute_result"
    }
   ],
   "source": [
    "connections_np_arr = connection_disc_df[\"Connection\"].to_numpy()\n",
    "three_gram_connection_train_data = build_3gram_df(connections_np_arr, 50000, 50000)\n",
    "three_gram_connection_train_data"
   ]
  },
  {
   "attachments": {},
   "cell_type": "markdown",
   "metadata": {},
   "source": [
    "#### Performing the LSH"
   ]
  },
  {
   "cell_type": "code",
   "execution_count": 52,
   "metadata": {
    "collapsed": false,
    "jupyter": {
     "outputs_hidden": false
    }
   },
   "outputs": [],
   "source": [
    "def get_primes_list(n: int, max_value: int, min_value: int) -> np.ndarray:\n",
    "    \"\"\"Generate a list of prime numbers of .\n",
    "\n",
    "    Args:\n",
    "        n (int): Number of hash functions to generate.\n",
    "        max_value (int): Maximum value for the hash functions.\n",
    "        min_value (int, optional): Minumum value for the hash functions.\n",
    "\n",
    "    Returns:\n",
    "        np.ndarray: List of prime numbers.\n",
    "    \"\"\"\n",
    "    primes = np.array([sympy.randprime(min_value, max_value + 1) for _ in range(n)])\n",
    "    return np.fromiter(primes, dtype=int, count=n)\n",
    "\n",
    "\n",
    "def generate_hash_functions(n: int, max_value: int, min_value: int=2) -> np.ndarray:\n",
    "    \"\"\"Generate n hash functions that map integers from 0 to max_value using prime numbers.\n",
    "\n",
    "    Args:\n",
    "        n (int): Number of hash functions to generate.\n",
    "        max_value (int): Maximum value for the hash functions.\n",
    "        min_value (int, optional): Minumum value for the hash functions. Defaults to 2.\n",
    "\n",
    "    Returns:\n",
    "        np.ndarray: List of hash functions represented as pairs of prime numbers.\n",
    "    \"\"\"\n",
    "    a = get_primes_list(n, max_value, min_value)\n",
    "    b = get_primes_list(n, max_value, min_value)\n",
    "    np.random.shuffle(a)\n",
    "    np.random.shuffle(b)\n",
    "    hash_functions = np.column_stack((a, b))\n",
    "    return hash_functions"
   ]
  },
  {
   "cell_type": "code",
   "execution_count": 53,
   "metadata": {
    "collapsed": false,
    "jupyter": {
     "outputs_hidden": false
    }
   },
   "outputs": [
    {
     "data": {
      "text/plain": [
       "array([[2333, 6653],\n",
       "       [6197,  829],\n",
       "       [7393, 4583],\n",
       "       [6967, 4861],\n",
       "       [1163, 1597]])"
      ]
     },
     "execution_count": 53,
     "metadata": {},
     "output_type": "execute_result"
    }
   ],
   "source": [
    "generate_hash_functions(5, 10000, min_value=2)"
   ]
  },
  {
   "cell_type": "code",
   "execution_count": 54,
   "metadata": {
    "collapsed": false,
    "jupyter": {
     "outputs_hidden": false
    }
   },
   "outputs": [],
   "source": [
    "def min_hash(ngram_set: np.ndarray, hash_functions: np.ndarray) -> np.ndarray:\n",
    "    \"\"\"Compute the min-hash signature for a given n-gram set.\n",
    "\n",
    "    Args:\n",
    "        ngram_set (np.ndarray): an ngram vector\n",
    "        hash_functions (np.ndarray): array of components for a hash function\n",
    "\n",
    "    Returns:\n",
    "        np.ndarray: List of min-hash values.\n",
    "    \"\"\"\n",
    "    signature = np.full(hash_functions.shape[0], np.inf)\n",
    "    for ngram in ngram_set:\n",
    "        hash_values = (hash_functions[:, 0] * hash(ngram) + hash_functions[:, 1]) % len(ngram_set)\n",
    "        signature = np.minimum(signature, hash_values)\n",
    "    return signature"
   ]
  },
  {
   "cell_type": "code",
   "execution_count": 55,
   "metadata": {
    "collapsed": false,
    "jupyter": {
     "outputs_hidden": false
    }
   },
   "outputs": [
    {
     "data": {
      "text/plain": [
       "array([3., 1.])"
      ]
     },
     "execution_count": 55,
     "metadata": {},
     "output_type": "execute_result"
    }
   ],
   "source": [
    "min_hash(np.array([0,1,4,1,6,4,2,53,5,43]), np.array([[5,3],[2,7]]))"
   ]
  },
  {
   "cell_type": "code",
   "execution_count": 56,
   "metadata": {
    "collapsed": false,
    "jupyter": {
     "outputs_hidden": false
    }
   },
   "outputs": [],
   "source": [
    "def jaccard(a: Union[Set, List, np.ndarray], b: Union[Set, List, np.ndarray]) -> float:\n",
    "    \"\"\"Calaulates Jaccard distance between two collections.\n",
    "\n",
    "    Args:\n",
    "        a (Union[Set, List, np.ndarray]): a set or list\n",
    "        b (Union[Set, List, np.ndarray]): a set or list\n",
    "\n",
    "    Returns:\n",
    "        float: List of min-hash values.\n",
    "    \"\"\"\n",
    "    if not isinstance(a, set):\n",
    "        a_set = set(list(a))\n",
    "    else:\n",
    "        a_set = a\n",
    "    if not isinstance(b, set):\n",
    "        b_set = set(list(a))\n",
    "    else:\n",
    "        b_set = b\n",
    "    return 1.0 - len(a_set.intersection(b_set)) / len(a_set.union(b_set))"
   ]
  },
  {
   "cell_type": "code",
   "execution_count": 57,
   "metadata": {
    "collapsed": false,
    "jupyter": {
     "outputs_hidden": false
    }
   },
   "outputs": [],
   "source": [
    "def minwise_lsh(ngram_profiles: np.ndarray, hashes_num:int=5, max_value:int=100) -> Dict[Tuple[int, int], float]:\n",
    "    \"\"\"Perform min-wise LSH on a list of N-gram profiles.\n",
    "\n",
    "    Args:\n",
    "        ngram_profiles (np.ndarray): list of n_gram profiles\n",
    "        hashes_num (int): number of hashes/bins to use. Defaults to 5.\n",
    "        max_value (int): the maximum hash value to use for functions. Defaults to 100.\n",
    "    Returns:\n",
    "        Dict[Tuple[int, int], float]: Distionary of dinstances between points.\n",
    "    \"\"\"\n",
    "    num_profiles = len(ngram_profiles)\n",
    "    hash_functions = generate_hash_functions(hashes_num, max_value)\n",
    "\n",
    "    signatures = np.zeros((num_profiles, hashes_num))\n",
    "    for i, profile in enumerate(ngram_profiles):\n",
    "        signature = min_hash(profile, hash_functions)\n",
    "        signatures[i] = signature\n",
    "\n",
    "    buckets = [[] for _ in range(hashes_num)]\n",
    "    for profile_idx, signature in enumerate(signatures):\n",
    "        for hash_idx, hash_value in enumerate(signature):\n",
    "            buckets[hash_idx].append((profile_idx, hash_value))\n",
    "\n",
    "    jaccard_distances = {}\n",
    "    for bucket in track(buckets, description=\"Calculating buckets...\"):\n",
    "        pairs = combinations(bucket, 2)\n",
    "        for pair in pairs:\n",
    "            (profile_idx1, hash_value1), (profile_idx2, hash_value2) = pair\n",
    "            if hash_value1 == hash_value2:\n",
    "                key = tuple(sorted((profile_idx1, profile_idx2)))\n",
    "                jaccard_dist = jaccard(ngram_profiles[profile_idx1], ngram_profiles[profile_idx2])\n",
    "                jaccard_distances[key] = jaccard_dist\n",
    "\n",
    "    return jaccard_distances"
   ]
  },
  {
   "cell_type": "code",
   "execution_count": 58,
   "metadata": {
    "collapsed": false,
    "jupyter": {
     "outputs_hidden": false
    }
   },
   "outputs": [
    {
     "data": {
      "text/plain": [
       "(26, 834156)"
      ]
     },
     "execution_count": 58,
     "metadata": {},
     "output_type": "execute_result"
    }
   ],
   "source": [
    "three_gram_np = three_gram_connection_train_data.to_numpy()\n",
    "three_gram_np.shape"
   ]
  },
  {
   "cell_type": "code",
   "execution_count": 59,
   "metadata": {
    "collapsed": false,
    "jupyter": {
     "outputs_hidden": false
    }
   },
   "outputs": [
    {
     "data": {
      "application/vnd.jupyter.widget-view+json": {
       "model_id": "4567c0828c52426187709b9dc38831fd",
       "version_major": 2,
       "version_minor": 0
      },
      "text/plain": [
       "Output()"
      ]
     },
     "metadata": {},
     "output_type": "display_data"
    },
    {
     "data": {
      "text/html": [
       "<pre style=\"white-space:pre;overflow-x:auto;line-height:normal;font-family:Menlo,'DejaVu Sans Mono',consolas,'Courier New',monospace\"></pre>\n"
      ],
      "text/plain": []
     },
     "metadata": {},
     "output_type": "display_data"
    },
    {
     "data": {
      "text/html": [
       "<pre style=\"white-space:pre;overflow-x:auto;line-height:normal;font-family:Menlo,'DejaVu Sans Mono',consolas,'Courier New',monospace\">\n",
       "</pre>\n"
      ],
      "text/plain": [
       "\n"
      ]
     },
     "metadata": {},
     "output_type": "display_data"
    },
    {
     "data": {
      "text/plain": [
       "{0: 1,\n",
       " 1: 0,\n",
       " 2: 0,\n",
       " 3: 0,\n",
       " 4: 0,\n",
       " 5: 0,\n",
       " 6: 0,\n",
       " 7: 0,\n",
       " 8: 0,\n",
       " 9: 0,\n",
       " 10: 0,\n",
       " 11: 0,\n",
       " 12: 0,\n",
       " 13: 0,\n",
       " 14: 0,\n",
       " 15: 0,\n",
       " 16: 0,\n",
       " 17: 0,\n",
       " 18: 0,\n",
       " 19: 0,\n",
       " 20: 0,\n",
       " 21: 0,\n",
       " 22: 0,\n",
       " 23: 0,\n",
       " 24: 0,\n",
       " 25: 0}"
      ]
     },
     "execution_count": 59,
     "metadata": {},
     "output_type": "execute_result"
    }
   ],
   "source": [
    "# Compute true nearest neighbors\n",
    "true_nearest_neighbors = {}\n",
    "for i in track(range(len(three_gram_np)), description=\"Computing ground truth...\"):\n",
    "    distances = [(j, jaccard(three_gram_np[i], p)) for j, p in enumerate(three_gram_np) if j != i]\n",
    "    true_nearest_neighbors[i] = min(distances, key=lambda x: x[1])[0]\n",
    "true_nearest_neighbors"
   ]
  },
  {
   "cell_type": "code",
   "execution_count": 60,
   "metadata": {
    "collapsed": false,
    "jupyter": {
     "outputs_hidden": false
    }
   },
   "outputs": [
    {
     "data": {
      "application/vnd.jupyter.widget-view+json": {
       "model_id": "a1d3e390a14b49c68e71907326e81a1c",
       "version_major": 2,
       "version_minor": 0
      },
      "text/plain": [
       "Output()"
      ]
     },
     "metadata": {},
     "output_type": "display_data"
    },
    {
     "data": {
      "text/html": [
       "<pre style=\"white-space:pre;overflow-x:auto;line-height:normal;font-family:Menlo,'DejaVu Sans Mono',consolas,'Courier New',monospace\"></pre>\n"
      ],
      "text/plain": []
     },
     "metadata": {},
     "output_type": "display_data"
    },
    {
     "data": {
      "text/html": [
       "<pre style=\"white-space:pre;overflow-x:auto;line-height:normal;font-family:Menlo,'DejaVu Sans Mono',consolas,'Courier New',monospace\">\n",
       "</pre>\n"
      ],
      "text/plain": [
       "\n"
      ]
     },
     "metadata": {},
     "output_type": "display_data"
    },
    {
     "data": {
      "application/vnd.jupyter.widget-view+json": {
       "model_id": "17fb565fb5604c0892c364238fe6b856",
       "version_major": 2,
       "version_minor": 0
      },
      "text/plain": [
       "Output()"
      ]
     },
     "metadata": {},
     "output_type": "display_data"
    },
    {
     "data": {
      "text/html": [
       "<pre style=\"white-space:pre;overflow-x:auto;line-height:normal;font-family:Menlo,'DejaVu Sans Mono',consolas,'Courier New',monospace\"></pre>\n"
      ],
      "text/plain": []
     },
     "metadata": {},
     "output_type": "display_data"
    },
    {
     "data": {
      "text/html": [
       "<pre style=\"white-space:pre;overflow-x:auto;line-height:normal;font-family:Menlo,'DejaVu Sans Mono',consolas,'Courier New',monospace\">\n",
       "</pre>\n"
      ],
      "text/plain": [
       "\n"
      ]
     },
     "metadata": {},
     "output_type": "display_data"
    },
    {
     "data": {
      "application/vnd.jupyter.widget-view+json": {
       "model_id": "6bfa4d4814a44f9795d7a44dab2c545c",
       "version_major": 2,
       "version_minor": 0
      },
      "text/plain": [
       "Output()"
      ]
     },
     "metadata": {},
     "output_type": "display_data"
    },
    {
     "data": {
      "text/html": [
       "<pre style=\"white-space:pre;overflow-x:auto;line-height:normal;font-family:Menlo,'DejaVu Sans Mono',consolas,'Courier New',monospace\"></pre>\n"
      ],
      "text/plain": []
     },
     "metadata": {},
     "output_type": "display_data"
    },
    {
     "data": {
      "text/html": [
       "<pre style=\"white-space:pre;overflow-x:auto;line-height:normal;font-family:Menlo,'DejaVu Sans Mono',consolas,'Courier New',monospace\">\n",
       "</pre>\n"
      ],
      "text/plain": [
       "\n"
      ]
     },
     "metadata": {},
     "output_type": "display_data"
    },
    {
     "data": {
      "application/vnd.jupyter.widget-view+json": {
       "model_id": "44f71a3ff2b94930b921dd80fef8f642",
       "version_major": 2,
       "version_minor": 0
      },
      "text/plain": [
       "Output()"
      ]
     },
     "metadata": {},
     "output_type": "display_data"
    },
    {
     "data": {
      "text/html": [
       "<pre style=\"white-space:pre;overflow-x:auto;line-height:normal;font-family:Menlo,'DejaVu Sans Mono',consolas,'Courier New',monospace\"></pre>\n"
      ],
      "text/plain": []
     },
     "metadata": {},
     "output_type": "display_data"
    },
    {
     "data": {
      "text/html": [
       "<pre style=\"white-space:pre;overflow-x:auto;line-height:normal;font-family:Menlo,'DejaVu Sans Mono',consolas,'Courier New',monospace\">\n",
       "</pre>\n"
      ],
      "text/plain": [
       "\n"
      ]
     },
     "metadata": {},
     "output_type": "display_data"
    },
    {
     "data": {
      "application/vnd.jupyter.widget-view+json": {
       "model_id": "e6a2931681b64a54bb4fb6b32e754b0f",
       "version_major": 2,
       "version_minor": 0
      },
      "text/plain": [
       "Output()"
      ]
     },
     "metadata": {},
     "output_type": "display_data"
    },
    {
     "data": {
      "text/html": [
       "<pre style=\"white-space:pre;overflow-x:auto;line-height:normal;font-family:Menlo,'DejaVu Sans Mono',consolas,'Courier New',monospace\"></pre>\n"
      ],
      "text/plain": []
     },
     "metadata": {},
     "output_type": "display_data"
    },
    {
     "data": {
      "text/html": [
       "<pre style=\"white-space:pre;overflow-x:auto;line-height:normal;font-family:Menlo,'DejaVu Sans Mono',consolas,'Courier New',monospace\">\n",
       "</pre>\n"
      ],
      "text/plain": [
       "\n"
      ]
     },
     "metadata": {},
     "output_type": "display_data"
    }
   ],
   "source": [
    "# bins experiments\n",
    "bins_num_list = [2, 5, 10, 15, 20]\n",
    "res_tuples = []\n",
    "\n",
    "for bins_num in bins_num_list:\n",
    "    start_time = time.time()\n",
    "    distances = minwise_lsh(three_gram_np, hashes_num=bins_num)\n",
    "    end_time = time.time()\n",
    "\n",
    "    correct_count = sum(1 for i, jaccard_dist in distances.items() if true_nearest_neighbors[i[1]] == min(distances, key=lambda x: distances[x])[0])\n",
    "    accuracy = correct_count / len(distances)\n",
    "    runtime = end_time - start_time\n",
    "    space_requirements = len(three_gram_np) * len(three_gram_np[0]) * bins_num * 2\n",
    "    res = (f\"{bins_num}\", f\"{accuracy:.3f}\", f\"{runtime:.3f}\", f\"{space_requirements}\")\n",
    "    res_tuples.append(res)"
   ]
  },
  {
   "cell_type": "code",
   "execution_count": 73,
   "metadata": {
    "collapsed": false,
    "jupyter": {
     "outputs_hidden": false
    }
   },
   "outputs": [
    {
     "data": {
      "text/html": [
       "<pre style=\"white-space:pre;overflow-x:auto;line-height:normal;font-family:Menlo,'DejaVu Sans Mono',consolas,'Courier New',monospace\"><span style=\"font-style: italic\">                    LSH bin experiments results                     </span>\n",
       "┏━━━━━━━━━━┳━━━━━━━━━━┳━━━━━━━━━━┳━━━━━━━━━━━━━━━━━━━━━━━━━━━━━━━━━┓\n",
       "┃<span style=\"font-weight: bold\"> Bins No. </span>┃<span style=\"font-weight: bold\"> Accuracy </span>┃<span style=\"font-weight: bold\"> Runtime  </span>┃<span style=\"font-weight: bold\"> Space Complexity (elements No.) </span>┃\n",
       "┡━━━━━━━━━━╇━━━━━━━━━━╇━━━━━━━━━━╇━━━━━━━━━━━━━━━━━━━━━━━━━━━━━━━━━┩\n",
       "│<span style=\"color: #008080; text-decoration-color: #008080\"> 2        </span>│<span style=\"color: #800080; text-decoration-color: #800080\"> 1.000    </span>│<span style=\"color: #008000; text-decoration-color: #008000\"> 204.352  </span>│<span style=\"color: #ff33ff; text-decoration-color: #ff33ff\">            86752224             </span>│\n",
       "│<span style=\"color: #008080; text-decoration-color: #008080\"> 5        </span>│<span style=\"color: #800080; text-decoration-color: #800080\"> 1.000    </span>│<span style=\"color: #008000; text-decoration-color: #008000\"> 352.372  </span>│<span style=\"color: #ff33ff; text-decoration-color: #ff33ff\">            216880560            </span>│\n",
       "│<span style=\"color: #008080; text-decoration-color: #008080\"> 10       </span>│<span style=\"color: #800080; text-decoration-color: #800080\"> 1.000    </span>│<span style=\"color: #008000; text-decoration-color: #008000\"> 607.000  </span>│<span style=\"color: #ff33ff; text-decoration-color: #ff33ff\">            433761120            </span>│\n",
       "│<span style=\"color: #008080; text-decoration-color: #008080\"> 15       </span>│<span style=\"color: #800080; text-decoration-color: #800080\"> 1.000    </span>│<span style=\"color: #008000; text-decoration-color: #008000\"> 862.952  </span>│<span style=\"color: #ff33ff; text-decoration-color: #ff33ff\">            650641680            </span>│\n",
       "│<span style=\"color: #008080; text-decoration-color: #008080\"> 20       </span>│<span style=\"color: #800080; text-decoration-color: #800080\"> 1.000    </span>│<span style=\"color: #008000; text-decoration-color: #008000\"> 1143.012 </span>│<span style=\"color: #ff33ff; text-decoration-color: #ff33ff\">            867522240            </span>│\n",
       "└──────────┴──────────┴──────────┴─────────────────────────────────┘\n",
       "</pre>\n"
      ],
      "text/plain": [
       "\u001b[3m                    LSH bin experiments results                     \u001b[0m\n",
       "┏━━━━━━━━━━┳━━━━━━━━━━┳━━━━━━━━━━┳━━━━━━━━━━━━━━━━━━━━━━━━━━━━━━━━━┓\n",
       "┃\u001b[1m \u001b[0m\u001b[1mBins No.\u001b[0m\u001b[1m \u001b[0m┃\u001b[1m \u001b[0m\u001b[1mAccuracy\u001b[0m\u001b[1m \u001b[0m┃\u001b[1m \u001b[0m\u001b[1mRuntime \u001b[0m\u001b[1m \u001b[0m┃\u001b[1m \u001b[0m\u001b[1mSpace Complexity (elements No.)\u001b[0m\u001b[1m \u001b[0m┃\n",
       "┡━━━━━━━━━━╇━━━━━━━━━━╇━━━━━━━━━━╇━━━━━━━━━━━━━━━━━━━━━━━━━━━━━━━━━┩\n",
       "│\u001b[36m \u001b[0m\u001b[36m2       \u001b[0m\u001b[36m \u001b[0m│\u001b[35m \u001b[0m\u001b[35m1.000   \u001b[0m\u001b[35m \u001b[0m│\u001b[32m \u001b[0m\u001b[32m204.352 \u001b[0m\u001b[32m \u001b[0m│\u001b[38;2;255;51;255m \u001b[0m\u001b[38;2;255;51;255m           86752224            \u001b[0m\u001b[38;2;255;51;255m \u001b[0m│\n",
       "│\u001b[36m \u001b[0m\u001b[36m5       \u001b[0m\u001b[36m \u001b[0m│\u001b[35m \u001b[0m\u001b[35m1.000   \u001b[0m\u001b[35m \u001b[0m│\u001b[32m \u001b[0m\u001b[32m352.372 \u001b[0m\u001b[32m \u001b[0m│\u001b[38;2;255;51;255m \u001b[0m\u001b[38;2;255;51;255m           216880560           \u001b[0m\u001b[38;2;255;51;255m \u001b[0m│\n",
       "│\u001b[36m \u001b[0m\u001b[36m10      \u001b[0m\u001b[36m \u001b[0m│\u001b[35m \u001b[0m\u001b[35m1.000   \u001b[0m\u001b[35m \u001b[0m│\u001b[32m \u001b[0m\u001b[32m607.000 \u001b[0m\u001b[32m \u001b[0m│\u001b[38;2;255;51;255m \u001b[0m\u001b[38;2;255;51;255m           433761120           \u001b[0m\u001b[38;2;255;51;255m \u001b[0m│\n",
       "│\u001b[36m \u001b[0m\u001b[36m15      \u001b[0m\u001b[36m \u001b[0m│\u001b[35m \u001b[0m\u001b[35m1.000   \u001b[0m\u001b[35m \u001b[0m│\u001b[32m \u001b[0m\u001b[32m862.952 \u001b[0m\u001b[32m \u001b[0m│\u001b[38;2;255;51;255m \u001b[0m\u001b[38;2;255;51;255m           650641680           \u001b[0m\u001b[38;2;255;51;255m \u001b[0m│\n",
       "│\u001b[36m \u001b[0m\u001b[36m20      \u001b[0m\u001b[36m \u001b[0m│\u001b[35m \u001b[0m\u001b[35m1.000   \u001b[0m\u001b[35m \u001b[0m│\u001b[32m \u001b[0m\u001b[32m1143.012\u001b[0m\u001b[32m \u001b[0m│\u001b[38;2;255;51;255m \u001b[0m\u001b[38;2;255;51;255m           867522240           \u001b[0m\u001b[38;2;255;51;255m \u001b[0m│\n",
       "└──────────┴──────────┴──────────┴─────────────────────────────────┘\n"
      ]
     },
     "metadata": {},
     "output_type": "display_data"
    }
   ],
   "source": [
    "table = Table(title=\"LSH bin experiments results\")\n",
    "\n",
    "table.add_column(\"Bins No.\", style=\"cyan\")\n",
    "table.add_column(\"Accuracy\", style=\"magenta\")\n",
    "table.add_column(\"Runtime\", style=\"green\")\n",
    "table.add_column(\"Space Complexity (elements No.)\", justify=\"center\", style=\"#ff33ff\")\n",
    "\n",
    "for res_tuple in res_tuples:\n",
    "    table.add_row(*res_tuple)\n",
    "\n",
    "console = Console()\n",
    "console.print(table)"
   ]
  },
  {
   "attachments": {},
   "cell_type": "markdown",
   "metadata": {},
   "source": [
    "### 3b. Analysis and answers to the questions"
   ]
  },
  {
   "attachments": {},
   "cell_type": "markdown",
   "metadata": {},
   "source": [
    "From the results we can see that the accuracy of min-wise LSH remains consistently high at 1.000, indicating that the true nearest neighbor is always found using the LSH signatures. This is most likely because we chose only function hashes that have only prime numbers.\n",
    "\n",
    "It is good for this dataset to use LSH as it is pretty large and has high dimetionaloty as computing exact nearest neighbors can be computationally expensive or even infeasible. Min-wise LSH offers an approximate solution that can significantly reduce the computational cost while still providing more than reasonable accuracy."
   ]
  },
  {
   "attachments": {},
   "cell_type": "markdown",
   "metadata": {},
   "source": [
    "## 4.Botnet profiling and fingerprinting task – 1 A4 (5 Points)"
   ]
  },
  {
   "attachments": {},
   "cell_type": "markdown",
   "metadata": {},
   "source": [
    "### 4a. Learn a sequential model, profiling and fingerprinting"
   ]
  },
  {
   "attachments": {},
   "cell_type": "markdown",
   "metadata": {},
   "source": [
    "Functions used in profiling."
   ]
  },
  {
   "cell_type": "code",
   "execution_count": 62,
   "metadata": {
    "collapsed": false,
    "jupyter": {
     "outputs_hidden": false
    }
   },
   "outputs": [],
   "source": [
    "def process_df(df, feat1, feat2, feat_map):\n",
    "    \"\"\"Calculates codes for the flows in the given dataset and returns a single dataframe with the codes and the source addresses of the flows.\"\"\"\n",
    "\n",
    "    # Check if any of the values are not in the feature map keys and drop the rows if so\n",
    "    df = df[df[feat1].isin(feat_map[feature1].keys())]\n",
    "    df = df[df[feat2].isin(feat_map[feature2].keys())]\n",
    "    df_processed = df[[feat1, feat2]].copy()\n",
    "    df_processed = netflow_discretize(df_processed, feat_map)\n",
    "    df_processed.drop(columns=[feat1, feat2], inplace=True)\n",
    "    df_processed[\"SrcAddr\"] = df[\"SrcAddr\"]\n",
    "    df_processed.rename(columns={\"code\": \"symb\"}, inplace=True)\n",
    "    return df_processed\n",
    "\n",
    "\n",
    "def parse_predict_json(json_path):\n",
    "    \"\"\"\n",
    "    Parses the json file with the predictions and returns a dictionary with the predictions.\n",
    "    \"\"\"\n",
    "    # Parse the json file\n",
    "    with open(json_path) as f:\n",
    "        flexfringe_json = json.load(f)\n",
    "\n",
    "    counts_dict = {}\n",
    "\n",
    "    for node in flexfringe_json[\"nodes\"]:\n",
    "        data = node[\"data\"]\n",
    "        for symbol, count in data[\"trans_counts\"].items():\n",
    "            counts_dict[(node[\"id\"], float(symbol))] = int(count)\n",
    "\n",
    "    return counts_dict\n",
    "\n",
    "\n",
    "def print_counts_dict(counts_dict):\n",
    "    \"\"\"\n",
    "    Prints the counts of state-symbol combinations in a human-readable format.\n",
    "    \"\"\"\n",
    "    # Display sorted counts\n",
    "    sorted_counts = sorted(counts_dict.items(), key=lambda x: x[1], reverse=True)\n",
    "    print(\"Counts of state-symbol combinations: \")\n",
    "    for count in sorted_counts:\n",
    "        print(f\"{count[0]}: {count[1]}\")\n",
    "\n",
    "\n",
    "def get_state_counts(predictions):\n",
    "    \"\"\"\n",
    "    Returns a dictionary of state-transition counts.\n",
    "    :param predictions:\n",
    "    :return:\n",
    "    \"\"\"\n",
    "    state_count_dict = {}\n",
    "    for state, trace in zip(predictions[\"state sequence\"], predictions[\"abbadingo trace\"]):\n",
    "        for i, state in enumerate(state):\n",
    "            if (state, trace[i]) in state_count_dict:\n",
    "                state_count_dict[(state, trace[i])] += 1\n",
    "            else:\n",
    "                state_count_dict[(state, trace[i])] = 1\n",
    "    return state_count_dict\n",
    "\n",
    "\n",
    "def create_vectors(state_counts, host_state_counts):\n",
    "    \"\"\"Creates vectors for the host and the other hosts based on the state counts.\"\"\"\n",
    "\n",
    "    host_vector = []\n",
    "    other_vector = []\n",
    "    for state in state_counts.keys():\n",
    "        if state in host_state_counts:\n",
    "            host_vector.append(host_state_counts[state])\n",
    "        else:\n",
    "            host_vector.append(0)\n",
    "        other_vector.append(state_counts[state])\n",
    "    for state in host_state_counts.keys():\n",
    "        if state not in state_counts:\n",
    "            host_vector.append(host_state_counts[state])\n",
    "            other_vector.append(0)\n",
    "    return host_vector, other_vector\n",
    "\n",
    "\n",
    "def calculate_cos_similarity(vec1, vec2):\n",
    "    \"\"\"Calculates the cosine similarity between two vectors.\"\"\"\n",
    "\n",
    "    dot_product = np.dot(vec1, vec2)\n",
    "    norm1 = np.linalg.norm(vec1)\n",
    "    norm2 = np.linalg.norm(vec2)\n",
    "    return dot_product / (norm1 * norm2)\n",
    "\n",
    "\n",
    "def get_threshold(similarities, malicious_ids):\n",
    "    \"\"\"Calculates the threshold for the cosine similarity based on the 10th percentile of the malicious similarities.\"\"\"\n",
    "    malicious_similarities = []\n",
    "    benign_similarities = []\n",
    "    unique_malicious_hosts = np.unique(malicious_ids)\n",
    "    for host, similarity in similarities.items():\n",
    "        if host in unique_malicious_hosts:\n",
    "            malicious_similarities.append(similarity)\n",
    "        else:\n",
    "            benign_similarities.append(similarity)\n",
    "    # Set threshold to the 10th percentile of the malicious similarities\n",
    "    threshold = np.percentile(malicious_similarities, 10)\n",
    "    return threshold\n",
    "\n",
    "def classify_hosts(similarities, threshold):\n",
    "    \"\"\"Classifies the hosts as malicious or benign based on the threshold.\"\"\"\n",
    "    malicious_hosts = []\n",
    "    benign_hosts = []\n",
    "    for host, similarity in similarities.items():\n",
    "        if similarity > threshold:\n",
    "            malicious_hosts.append(host)\n",
    "        else:\n",
    "            benign_hosts.append(host)\n",
    "    return malicious_hosts, benign_hosts\n",
    "\n",
    "def get_tp_tn_fp_fn(predicted_malicious, predicted_benign, true_malicious, true_benign):\n",
    "    \"\"\"Returns lists containing the true positives, true negatives, false positives and false negatives.\"\"\"\n",
    "    true_positives = list(set(predicted_malicious) & set(true_malicious))\n",
    "    true_negatives = list(set(predicted_benign) & set(true_benign))\n",
    "    false_positives = list(set(predicted_malicious) & set(true_benign))\n",
    "    false_negatives = list(set(predicted_benign) & set(true_malicious))\n",
    "    return true_positives, true_negatives, false_positives, false_negatives\n",
    "\n",
    "def plot_occurrences(tp, tn, fp, fn):\n",
    "    \"\"\"Plots the occurrences of the states for the true positives, true negatives, false positives and false negatives.\"\"\"\n",
    "    host_vector_tp = tp[0]\n",
    "    vector_tp = tp[1]\n",
    "    tp_x = []\n",
    "    tp_y = []\n",
    "    for i in range(len(host_vector_tp)):\n",
    "        if host_vector_tp[i] == 0:\n",
    "            continue\n",
    "        tp_x.append(host_vector_tp[i])\n",
    "        tp_y.append(vector_tp[i])\n",
    "    plt.scatter(tp_x, tp_y, color=\"green\")\n",
    "    b, a = np.polyfit(tp_x, tp_y, deg=1)\n",
    "\n",
    "    # Plot the regression line\n",
    "    xseq = np.linspace(0, np.max(tp_x), num=100)\n",
    "    plt.plot(xseq, a + b * xseq, color=\"g\", lw=2.5, label = \"True positives\")\n",
    "\n",
    "    host_vector_tn = tn[0]\n",
    "    vector_tn = tn[1]\n",
    "    tn_x = []\n",
    "    tn_y = []\n",
    "    for i in range(len(host_vector_tn)):\n",
    "        if host_vector_tn[i] == 0:\n",
    "            continue\n",
    "        tn_x.append(host_vector_tn[i])\n",
    "        tn_y.append(vector_tn[i])\n",
    "\n",
    "    plt.scatter(tn_x, tn_y, color=\"blue\")\n",
    "    b, a = np.polyfit(tn_x, tn_y, deg=1)\n",
    "\n",
    "    # Plot the regression line\n",
    "    xseq = np.linspace(0, np.max(tn_x), num=100)\n",
    "    plt.plot(xseq, a + b * xseq, color=\"b\", lw=2.5, label = \"True negatives\")\n",
    "\n",
    "    host_vector_fp = fp[0]\n",
    "    vector_fp = fp[1]\n",
    "    fp_x = []\n",
    "    fp_y = []\n",
    "    for i in range(len(host_vector_fp)):\n",
    "        if host_vector_fp[i] == 0:\n",
    "            continue\n",
    "        fp_x.append(host_vector_fp[i])\n",
    "        fp_y.append(vector_fp[i])\n",
    "\n",
    "    plt.scatter(fp_x, fp_y, color=\"red\")\n",
    "    b, a = np.polyfit(fp_x, fp_y, deg=1)\n",
    "\n",
    "    # Plot the regression line\n",
    "    xseq = np.linspace(0, np.max(fp_x), num=100)\n",
    "    plt.plot(xseq, a + b * xseq, color=\"r\", lw=2.5, label = \"False positives\")\n",
    "\n",
    "    host_vector_fn = fn[0]\n",
    "    vector_fn = fn[1]\n",
    "    fn_x = []\n",
    "    fn_y = []\n",
    "    for i in range(len(host_vector_fn)):\n",
    "            if host_vector_fn[i] == 0:\n",
    "                continue\n",
    "            fn_x.append(host_vector_fn[i])\n",
    "            fn_y.append(vector_fn[i])\n",
    "\n",
    "    plt.scatter(fn_x, fn_y, color=\"orange\")\n",
    "    b, a = np.polyfit(fn_x, fn_y, deg=1)\n",
    "\n",
    "    # Plot the regression line\n",
    "    xseq = np.linspace(0, np.max(fn_x), num=100)\n",
    "    plt.plot(xseq, a + b * xseq, color=\"orange\", lw=2.5, label = \"False negatives\")\n",
    "\n",
    "\n",
    "    # Connect the scatteres points\n",
    "\n",
    "    plt.xlabel(\"Expected occurrences\")\n",
    "    plt.ylabel(\"Observed occurrences\")\n",
    "    plt.legend()\n",
    "    plt.show()\n",
    "\n",
    "def run_profiling(df_processed, host, dataset_name):\n",
    "    \"\"\"Runs profiling on the given dataset and host.\"\"\"\n",
    "\n",
    "    print(\"--------------------------\")\n",
    "    print(\"Running profiling on host: \" + host)\n",
    "    df_host = df_processed[df_processed[\"SrcAddr\"] == host].copy()\n",
    "    df_host.drop(columns=[\"SrcAddr\"], inplace=True)\n",
    "\n",
    "    flexfringe = FlexFringe(\n",
    "        flexfringe_path=FLEX_FRINGE_PATH,\n",
    "        heuristic_name=\"alergia\",\n",
    "        data_name=\"alergia_data\",\n",
    "        slidingwindow=1,\n",
    "        swsize=10\n",
    "    )\n",
    "\n",
    "    # Learn a state machine\n",
    "    flexfringe.fit(df_host,\n",
    "                   sinkson=1,\n",
    "                   sinkcount=100\n",
    "                   )\n",
    "\n",
    "    print(\"Flex fringe fitted\")\n",
    "    host_counts_dict = parse_predict_json(flexfringe.json_out)\n",
    "    print_counts_dict(host_counts_dict)\n",
    "    flexfringe.show()\n",
    "\n",
    "    predictions = {}\n",
    "    vectors = {}\n",
    "    similarities = {}\n",
    "\n",
    "    # Get the state counts for the host\n",
    "    host_prediction = flexfringe.predict(df_host)\n",
    "    host_counts = get_state_counts(host_prediction)\n",
    "\n",
    "    predictions[host] = host_prediction\n",
    "    # Get predictions and vectors for other hosts\n",
    "    other_hosts = df_processed[\"SrcAddr\"].unique()\n",
    "    other_hosts = other_hosts[other_hosts != host]\n",
    "\n",
    "    host_occurrences = df_processed[\"SrcAddr\"].value_counts()\n",
    "    # Calculate similarity for every host\n",
    "    for other_host in other_hosts:\n",
    "        # Skip host that occur last than 20 times\n",
    "        if host_occurrences[other_host] < 20:\n",
    "            continue\n",
    "        df_other = df_processed[df_processed[\"SrcAddr\"] == other_host]\n",
    "        predictions[other_host] = flexfringe.predict(df_other)\n",
    "        vectors[other_host] = create_vectors(get_state_counts(predictions[other_host]), host_counts)\n",
    "        similarities[other_host] = calculate_cos_similarity(vectors[other_host][0], vectors[other_host][1])\n",
    "\n",
    "    # Calculate the threshold\n",
    "    threshold = get_threshold(similarities, malicious_flows[\"SrcAddr\"].unique())\n",
    "\n",
    "    print(\"Threshold: \", threshold)\n",
    "\n",
    "    # Classify all hosts\n",
    "    malicious_hosts, benign_hosts = classify_hosts(similarities, threshold)\n",
    "\n",
    "    # Get the true positives, true negatives, false positives and false negatives\n",
    "    true_positives, true_negatives, false_positives, false_negatives = get_tp_tn_fp_fn(malicious_hosts, benign_hosts, malicious_flows[\"SrcAddr\"].unique(), benign_flows[\"SrcAddr\"].unique())\n",
    "\n",
    "    print(\"True positives: \", len(true_positives))\n",
    "    print(\"True negatives: \", len(true_negatives))\n",
    "    print(\"False positives: \", len(false_positives))\n",
    "    print(\"False negatives: \", len(false_negatives))\n",
    "\n",
    "    # Plot the occurrences of the hosts\n",
    "    plot_occurrences( vectors[true_positives[0]], vectors[true_negatives[0]], vectors[false_positives[0]], vectors[false_negatives[0]])\n",
    "\n",
    "    return  host_counts_dict, predictions, vectors, similarities\n",
    "\n",
    "def repeat_experiments(processed_dfs, host, dataset_names):\n",
    "    output = []\n",
    "    for i in range(len(processed_dfs)):\n",
    "        output.append(run_profiling(processed_dfs[i], host, dataset_names[i]))\n",
    "\n",
    "    return output"
   ]
  },
  {
   "cell_type": "code",
   "execution_count": 63,
   "metadata": {
    "collapsed": false,
    "jupyter": {
     "outputs_hidden": false
    }
   },
   "outputs": [],
   "source": [
    "selected_host = malicious_flows[\"SrcAddr\"].value_counts().index[0]"
   ]
  },
  {
   "cell_type": "code",
   "execution_count": 64,
   "metadata": {
    "collapsed": false,
    "jupyter": {
     "outputs_hidden": false
    }
   },
   "outputs": [],
   "source": [
    "# Preparing the data\n",
    "df9 = pd.read_csv(\"datasets/dataset_9/capture20110817.binetflow\")\n",
    "df9_processed = process_df(df9, feature1, feature2, feat_map)\n",
    "df10 = pd.read_csv(\"datasets/dataset_10/capture20110818.binetflow\")\n",
    "df10_processed = process_df(df10, feature1, feature2, feat_map)\n",
    "df11 = pd.read_csv(\"datasets/dataset_11/capture20110818-2.binetflow\")\n",
    "df11_processed = process_df(df11, feature1, feature2, feat_map)\n",
    "df12 = pd.read_csv(\"datasets/dataset_12/capture20110819.binetflow\")\n",
    "df12_processed = process_df(df12, feature1, feature2, feat_map)"
   ]
  },
  {
   "attachments": {},
   "cell_type": "markdown",
   "metadata": {},
   "source": [
    "Running profiling. This may take a while!!!"
   ]
  },
  {
   "cell_type": "code",
   "execution_count": 83,
   "metadata": {
    "collapsed": false,
    "jupyter": {
     "outputs_hidden": false
    }
   },
   "outputs": [
    {
     "name": "stdout",
     "output_type": "stream",
     "text": [
      "--------------------------\n",
      "Running profiling on host: 147.32.84.205\n",
      "Flex fringe fitted\n",
      "Counts of state-symbol combinations: \n",
      "(1, 0.0): 12456\n",
      "(1, 7.0): 5282\n",
      "(3, 7.0): 3659\n",
      "(3, 0.0): 2682\n",
      "(0, 0.0): 2194\n",
      "(9, 7.0): 1839\n",
      "(0, 7.0): 1512\n",
      "(9, 0.0): 1468\n",
      "(18, 7.0): 857\n",
      "(18, 0.0): 806\n",
      "(46, 7.0): 564\n",
      "(45, 0.0): 456\n",
      "(31, 7.0): 414\n",
      "(31, 0.0): 333\n",
      "(46, 0.0): 251\n",
      "(45, 7.0): 176\n",
      "(0, 1.0): 4\n",
      "(1, 1.0): 4\n",
      "(1, 13.0): 4\n",
      "(3, 1.0): 2\n",
      "(46, 1.0): 2\n",
      "(1, 8.0): 1\n",
      "(9, 1.0): 1\n",
      "(45, 8.0): 1\n",
      "(0, 8.0): 0\n",
      "(31, 1.0): 0\n"
     ]
    },
    {
     "name": "stderr",
     "output_type": "stream",
     "text": [
      "/usr/bin/xdg-open: 882: www-browser: not found\n",
      "/usr/bin/xdg-open: 882: links2: not found\n",
      "/usr/bin/xdg-open: 882: elinks: not found\n",
      "/usr/bin/xdg-open: 882: links: not found\n",
      "/usr/bin/xdg-open: 882: lynx: not found\n",
      "/usr/bin/xdg-open: 882: w3m: not found\n",
      "xdg-open: no method available for opening '/tmp/tmp79b1n6ys.PNG'\n"
     ]
    },
    {
     "name": "stdout",
     "output_type": "stream",
     "text": [
      "Threshold:  0.9854309467971561\n",
      "True positives:  8\n",
      "True negatives:  735\n",
      "False positives:  38\n",
      "False negatives:  1\n"
     ]
    },
    {
     "data": {
      "image/png": "[encoded data removed]",
      "text/plain": [
       "<Figure size 640x480 with 1 Axes>"
      ]
     },
     "metadata": {},
     "output_type": "display_data"
    }
   ],
   "source": [
    "# Run this cell to perform profiling on the dataset 9. In case something you want to run the full evaluation on the other datasets, uncomment and run the cell below. However, it does not contribute much and is not needed in the further analysis.\n",
    "host_counts_dict, predictions, vectors, similarities = run_profiling(df9_processed, selected_host, \"dataset_9\")"
   ]
  },
  {
   "cell_type": "code",
   "execution_count": null,
   "metadata": {
    "collapsed": false,
    "jupyter": {
     "outputs_hidden": false
    }
   },
   "outputs": [],
   "source": [
    "# results = repeat_experiments([df9_processed, df10_processed, df11_processed, df12_processed], selected_host, [\"dataset_9\", \"dataset_10\", \"dataset_11\", \"dataset_12\"])\n",
    "# host_counts_dict, predictions, vectors, similarities = results[0]"
   ]
  },
  {
   "attachments": {},
   "cell_type": "markdown",
   "metadata": {},
   "source": [
    "Fingerprinting is performed on the dataset 9."
   ]
  },
  {
   "cell_type": "code",
   "execution_count": 84,
   "metadata": {
    "collapsed": false,
    "jupyter": {
     "outputs_hidden": false
    }
   },
   "outputs": [
    {
     "name": "stdout",
     "output_type": "stream",
     "text": [
      "{(1, 0.0): 12456, (1, 7.0): 5282, (3, 7.0): 3659, (3, 0.0): 2682, (0, 0.0): 2194, (9, 7.0): 1839, (0, 7.0): 1512, (9, 0.0): 1468, (18, 7.0): 857, (18, 0.0): 806, (46, 7.0): 564, (45, 0.0): 456, (31, 7.0): 414, (31, 0.0): 333, (46, 0.0): 251, (45, 7.0): 176, (0, 1.0): 4, (1, 1.0): 4, (1, 13.0): 4, (3, 1.0): 2, (46, 1.0): 2, (1, 8.0): 1, (9, 1.0): 1, (45, 8.0): 1, (0, 8.0): 0, (31, 1.0): 0}\n",
      "Number of occurrences of (1, 7.0) in the malicious host:  5282\n"
     ]
    },
    {
     "data": {
      "image/png": "[encoded data removed]",
      "text/plain": [
       "<Figure size 640x480 with 1 Axes>"
      ]
     },
     "metadata": {},
     "output_type": "display_data"
    }
   ],
   "source": [
    "# Sort the host counts dict\n",
    "host_counts_dict = {k: v for k, v in sorted(host_counts_dict.items(), key=lambda item: item[1], reverse=True)}\n",
    "\n",
    "fingerprint = (1, 7.0)\n",
    "host_fingerprint_count = host_counts_dict[fingerprint]\n",
    "\n",
    "print(host_counts_dict)\n",
    "state_counts = []\n",
    "malicious_ids = malicious_flows[\"SrcAddr\"].unique()\n",
    "for key, prediction in predictions.items():\n",
    "    if key in malicious_ids:\n",
    "        continue\n",
    "    state_counts.append(get_state_counts(prediction))\n",
    "\n",
    "fingerprint_counts = []\n",
    "fingerprint_str = (str(fingerprint[0]), str(fingerprint[1]))\n",
    "\n",
    "for state_count in state_counts:\n",
    "    if fingerprint_str not in state_count:\n",
    "        fingerprint_counts.append(0)\n",
    "    else:\n",
    "        fingerprint_counts.append(state_count[fingerprint_str])\n",
    "# Sketch the fingerprint counts\n",
    "plt.boxplot((fingerprint_counts), labels=[\"(1, 7.0)\"])\n",
    "print(\"Number of occurrences of (1, 7.0) in the malicious host: \", host_fingerprint_count)"
   ]
  },
  {
   "attachments": {},
   "cell_type": "markdown",
   "metadata": {},
   "source": [
    "Some more plots in case everything was not printed correctly in the run_profiling function."
   ]
  },
  {
   "cell_type": "code",
   "execution_count": 86,
   "metadata": {
    "collapsed": false,
    "jupyter": {
     "outputs_hidden": false
    }
   },
   "outputs": [
    {
     "data": {
      "text/plain": [
       "Text(0.5, 1.0, 'Similarities between host and other hosts')"
      ]
     },
     "execution_count": 86,
     "metadata": {},
     "output_type": "execute_result"
    },
    {
     "data": {
      "image/png": "[encoded data removed]",
      "text/plain": [
       "<Figure size 640x480 with 1 Axes>"
      ]
     },
     "metadata": {},
     "output_type": "display_data"
    }
   ],
   "source": [
    "# Sketch similarities for malicous and benign hosts\n",
    "malicious_similarities = []\n",
    "benign_similarities = []\n",
    "unique_malicious_hosts = malicious_flows[\"SrcAddr\"].unique()\n",
    "for host, similarity in similarities.items():\n",
    "    if host in unique_malicious_hosts:\n",
    "        malicious_similarities.append(similarity)\n",
    "    else:\n",
    "        benign_similarities.append(similarity)\n",
    "plt.boxplot([malicious_similarities, benign_similarities], labels=[\"Malicious\", \"Benign\"])\n",
    "plt.title(\"Similarities between host and other hosts\")"
   ]
  },
  {
   "cell_type": "code",
   "execution_count": 87,
   "metadata": {
    "collapsed": false,
    "jupyter": {
     "outputs_hidden": false
    }
   },
   "outputs": [],
   "source": [
    "threshold = get_threshold(similarities, malicious_flows[\"SrcAddr\"].unique())"
   ]
  },
  {
   "cell_type": "code",
   "execution_count": 88,
   "metadata": {
    "collapsed": false,
    "jupyter": {
     "outputs_hidden": false
    }
   },
   "outputs": [
    {
     "name": "stdout",
     "output_type": "stream",
     "text": [
      "Threshold:  0.9854309467971561\n"
     ]
    }
   ],
   "source": [
    "print(\"Threshold: \", threshold)"
   ]
  },
  {
   "cell_type": "code",
   "execution_count": 89,
   "metadata": {
    "collapsed": false,
    "jupyter": {
     "outputs_hidden": false
    }
   },
   "outputs": [],
   "source": [
    "# Classify all hosts\n",
    "malicious_hosts, benign_hosts = classify_hosts(similarities, threshold)\n"
   ]
  },
  {
   "cell_type": "code",
   "execution_count": 90,
   "metadata": {
    "collapsed": false,
    "jupyter": {
     "outputs_hidden": false
    }
   },
   "outputs": [],
   "source": [
    "# Get the true positives, true negatives, false positives and false negatives\n",
    "true_positives, true_negatives, false_positives, false_negatives = get_tp_tn_fp_fn(malicious_hosts, benign_hosts, malicious_flows[\"SrcAddr\"].unique(), benign_flows[\"SrcAddr\"].unique())\n"
   ]
  },
  {
   "cell_type": "code",
   "execution_count": 91,
   "metadata": {
    "collapsed": false,
    "jupyter": {
     "outputs_hidden": false
    }
   },
   "outputs": [
    {
     "name": "stdout",
     "output_type": "stream",
     "text": [
      "True positives:  8\n",
      "True negatives:  735\n",
      "False positives:  38\n",
      "False negatives:  1\n"
     ]
    }
   ],
   "source": [
    "print(\"True positives: \", len(true_positives))\n",
    "print(\"True negatives: \", len(true_negatives))\n",
    "print(\"False positives: \", len(false_positives))\n",
    "print(\"False negatives: \", len(false_negatives))\n"
   ]
  },
  {
   "cell_type": "code",
   "execution_count": 92,
   "metadata": {
    "collapsed": false,
    "jupyter": {
     "outputs_hidden": false
    }
   },
   "outputs": [
    {
     "data": {
      "image/png": "[encoded data removed]",
      "text/plain": [
       "<Figure size 640x480 with 1 Axes>"
      ]
     },
     "metadata": {},
     "output_type": "display_data"
    }
   ],
   "source": [
    "# Plot the occurrences of the hosts\n",
    "plot_occurrences( vectors[true_positives[0]], vectors[true_negatives[0]], vectors[false_positives[0]], vectors[false_negatives[0]])"
   ]
  },
  {
   "attachments": {},
   "cell_type": "markdown",
   "metadata": {},
   "source": [
    "Checking if the fingerprint is present in one other true and one false positive."
   ]
  },
  {
   "cell_type": "code",
   "execution_count": 93,
   "metadata": {
    "collapsed": false,
    "jupyter": {
     "outputs_hidden": false
    }
   },
   "outputs": [
    {
     "name": "stdout",
     "output_type": "stream",
     "text": [
      "Number of occurrences of (1, 7.0) in the true positive host:  0\n",
      "Number of occurrences of (1, 7.0) in the false positive host:  0\n"
     ]
    }
   ],
   "source": [
    "tp_prediction_state_counts = get_state_counts(predictions[true_positives[3]])\n",
    "fp_prediction_state_counts = get_state_counts(predictions[false_positives[0]])\n",
    "\n",
    "print(\"Number of occurrences of (1, 7.0) in the true positive host: \", tp_prediction_state_counts[fingerprint_str] if fingerprint_str in tp_prediction_state_counts else 0)\n",
    "print(\"Number of occurrences of (1, 7.0) in the false positive host: \", fp_prediction_state_counts[fingerprint_str] if fingerprint_str in fp_prediction_state_counts else 0)"
   ]
  },
  {
   "attachments": {},
   "cell_type": "markdown",
   "metadata": {},
   "source": [
    "### 4b. Analysis and answers to the questions."
   ]
  },
  {
   "attachments": {},
   "cell_type": "markdown",
   "metadata": {},
   "source": [
    "The whole procedure for one dataset is implemented in the function `run_profiling`. Run `repeat_experiments` function with all processed dataframes to get the results for all datasets. The results include the  state-symbol counts of the selected host and true-false postivite and true-false negative scatter plot. It is clear from the scatter plot that our classifier works correctly.\n",
    "The found fingerprint is the state-symbol (0, 7.0). It occurs 5282 times in the selected infected times and not a single time in any of the benign hosts. The selected fingerprint seems to be specific to the selected host as neither true-positive nor false-positive predicted hosts have it.\n",
    "From the scatterplots we can see that the true-positive infected hosts have a number of occurrences of the state-symbols that align with the number of occurrences of the symbols in the host. On the other hand, false positives does not show this property. It might have been qualified as positive because of the cosine distance metric we used, in which only the direction of the vector mattered and not the magnitude.\n"
   ]
  },
  {
   "attachments": {},
   "cell_type": "markdown",
   "metadata": {},
   "source": []
  },
  {
   "attachments": {},
   "cell_type": "markdown",
   "metadata": {},
   "source": [
    "## 5. Bonus Task 1/2 A4 (5 Points)"
   ]
  },
  {
   "attachments": {},
   "cell_type": "markdown",
   "metadata": {},
   "source": [
    "### 5a. Provide implementation and analysis."
   ]
  },
  {
   "cell_type": "code",
   "execution_count": null,
   "metadata": {},
   "outputs": [],
   "source": []
  }
 ],
 "metadata": {
  "kernelspec": {
   "display_name": "Python 3 (ipykernel)",
   "language": "python",
   "name": "python3"
  },
  "language_info": {
   "codemirror_mode": {
    "name": "ipython",
    "version": 3
   },
   "file_extension": ".py",
   "mimetype": "text/x-python",
   "name": "python",
   "nbconvert_exporter": "python",
   "pygments_lexer": "ipython3",
   "version": "3.9.17"
  }
 },
 "nbformat": 4,
 "nbformat_minor": 4
}
