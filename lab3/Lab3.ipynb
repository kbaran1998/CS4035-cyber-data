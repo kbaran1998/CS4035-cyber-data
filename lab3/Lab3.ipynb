{
 "cells": [
  {
   "cell_type": "markdown",
   "metadata": {},
   "source": [
    "# CS4035 - Cyber Data Analytics\n",
    "## Lab 3 "
   ]
  },
  {
   "cell_type": "markdown",
   "metadata": {},
   "source": [
    "### Submit on brightspace (zip file with the name Group_xx.zip)\n",
    "(i) This jupyter file completed with code, plots, figures and report for each question. Additional plots and figures can be created for explanation before the end of each main question. Lab 3 contains 4 main questions + 1 bonus. Write the code or explanation below each sub question. For the explantions, include what you would normally include in the report for this lab assignment, for example data pre-processing, hypothesis tested, approach, results, etc.\n",
    "(ii) A PDF or a Word report for the assignment. Create a report from the plots, figures, tables and the write-up that you provide in this jupyter file. The report will be used as a proof for page limit. \n",
    "(iii) The libraries needed to run this file. \n",
    "\n",
    "Your peers should be able to use the readme section for instructions and be able to run this file. "
   ]
  },
  {
   "cell_type": "markdown",
   "metadata": {},
   "source": [
    "## Group Number :"
   ]
  },
  {
   "cell_type": "markdown",
   "metadata": {},
   "source": [
    "## Student 1 \n",
    "### Name :\n",
    "### ID :"
   ]
  },
  {
   "cell_type": "markdown",
   "metadata": {},
   "source": [
    "## Student 2\n",
    "### Name :\n",
    "### ID :"
   ]
  },
  {
   "cell_type": "markdown",
   "metadata": {},
   "source": [
    "## Readme - Provide instructions - libraries used, location of the data file, etc. Keep it short. Remember your peers will not debug your code and should be able to reproduce the exact output you provide."
   ]
  },
  {
   "cell_type": "code",
   "execution_count": null,
   "metadata": {},
   "outputs": [],
   "source": []
  },
  {
   "cell_type": "code",
   "execution_count": 56,
   "outputs": [],
   "source": [
    "import pandas as pd"
   ],
   "metadata": {
    "collapsed": false
   }
  },
  {
   "cell_type": "code",
   "execution_count": 57,
   "outputs": [
    {
     "ename": "FileNotFoundError",
     "evalue": "[Errno 2] No such file or directory: 'Lab1.ipynb'",
     "output_type": "error",
     "traceback": [
      "\u001B[1;31m---------------------------------------------------------------------------\u001B[0m",
      "\u001B[1;31mAttributeError\u001B[0m                            Traceback (most recent call last)",
      "File \u001B[1;32m~\\AppData\\Local\\Programs\\Python\\Python311\\Lib\\site-packages\\nbformat\\__init__.py:166\u001B[0m, in \u001B[0;36mread\u001B[1;34m(fp, as_version, capture_validation_error, **kwargs)\u001B[0m\n\u001B[0;32m    165\u001B[0m \u001B[38;5;28;01mtry\u001B[39;00m:\n\u001B[1;32m--> 166\u001B[0m     buf \u001B[38;5;241m=\u001B[39m \u001B[43mfp\u001B[49m\u001B[38;5;241;43m.\u001B[39;49m\u001B[43mread\u001B[49m()\n\u001B[0;32m    167\u001B[0m \u001B[38;5;28;01mexcept\u001B[39;00m \u001B[38;5;167;01mAttributeError\u001B[39;00m:\n",
      "\u001B[1;31mAttributeError\u001B[0m: 'str' object has no attribute 'read'",
      "\nDuring handling of the above exception, another exception occurred:\n",
      "\u001B[1;31mFileNotFoundError\u001B[0m                         Traceback (most recent call last)",
      "Cell \u001B[1;32mIn[57], line 6\u001B[0m\n\u001B[0;32m      3\u001B[0m \u001B[38;5;28;01mimport\u001B[39;00m \u001B[38;5;21;01mio\u001B[39;00m\n\u001B[0;32m      4\u001B[0m \u001B[38;5;28;01mimport\u001B[39;00m \u001B[38;5;21;01mnbformat\u001B[39;00m\n\u001B[1;32m----> 6\u001B[0m nb \u001B[38;5;241m=\u001B[39m \u001B[43mnbformat\u001B[49m\u001B[38;5;241;43m.\u001B[39;49m\u001B[43mread\u001B[49m\u001B[43m(\u001B[49m\u001B[38;5;124;43m\"\u001B[39;49m\u001B[38;5;124;43mLab1.ipynb\u001B[39;49m\u001B[38;5;124;43m\"\u001B[39;49m\u001B[43m,\u001B[49m\u001B[43m \u001B[49m\u001B[43mnbformat\u001B[49m\u001B[38;5;241;43m.\u001B[39;49m\u001B[43mNO_CONVERT\u001B[49m\u001B[43m)\u001B[49m\n\u001B[0;32m      7\u001B[0m word_count \u001B[38;5;241m=\u001B[39m \u001B[38;5;241m0\u001B[39m\n\u001B[0;32m      8\u001B[0m \u001B[38;5;28;01mfor\u001B[39;00m cell \u001B[38;5;129;01min\u001B[39;00m nb\u001B[38;5;241m.\u001B[39mcells:\n",
      "File \u001B[1;32m~\\AppData\\Local\\Programs\\Python\\Python311\\Lib\\site-packages\\nbformat\\__init__.py:168\u001B[0m, in \u001B[0;36mread\u001B[1;34m(fp, as_version, capture_validation_error, **kwargs)\u001B[0m\n\u001B[0;32m    166\u001B[0m     buf \u001B[38;5;241m=\u001B[39m fp\u001B[38;5;241m.\u001B[39mread()\n\u001B[0;32m    167\u001B[0m \u001B[38;5;28;01mexcept\u001B[39;00m \u001B[38;5;167;01mAttributeError\u001B[39;00m:\n\u001B[1;32m--> 168\u001B[0m     \u001B[38;5;28;01mwith\u001B[39;00m \u001B[38;5;28;43mopen\u001B[39;49m\u001B[43m(\u001B[49m\u001B[43mfp\u001B[49m\u001B[43m,\u001B[49m\u001B[43m \u001B[49m\u001B[43mencoding\u001B[49m\u001B[38;5;241;43m=\u001B[39;49m\u001B[38;5;124;43m\"\u001B[39;49m\u001B[38;5;124;43mutf-8\u001B[39;49m\u001B[38;5;124;43m\"\u001B[39;49m\u001B[43m)\u001B[49m \u001B[38;5;28;01mas\u001B[39;00m f:\n\u001B[0;32m    169\u001B[0m         \u001B[38;5;28;01mreturn\u001B[39;00m reads(f\u001B[38;5;241m.\u001B[39mread(), as_version, capture_validation_error, \u001B[38;5;241m*\u001B[39m\u001B[38;5;241m*\u001B[39mkwargs)\n\u001B[0;32m    171\u001B[0m \u001B[38;5;28;01mreturn\u001B[39;00m reads(buf, as_version, capture_validation_error, \u001B[38;5;241m*\u001B[39m\u001B[38;5;241m*\u001B[39mkwargs)\n",
      "\u001B[1;31mFileNotFoundError\u001B[0m: [Errno 2] No such file or directory: 'Lab1.ipynb'"
     ]
    }
   ],
   "source": [
    "# If this cell does not work try running ``\n",
    "\n",
    "import io\n",
    "import nbformat\n",
    "\n",
    "nb = nbformat.read(\"Lab1.ipynb\", nbformat.NO_CONVERT)\n",
    "word_count = 0\n",
    "for cell in nb.cells:\n",
    "    if cell.cell_type == \"markdown\":\n",
    "        word_count += len(cell['source'].replace('#', '').lstrip().split(' '))\n",
    "\n",
    "print(\"Word count:\", word_count)"
   ],
   "metadata": {
    "collapsed": false
   }
  },
  {
   "cell_type": "markdown",
   "metadata": {},
   "source": [
    "## 1. Familiarization and discretization task – 1 A4 (5 Points)"
   ]
  },
  {
   "cell_type": "markdown",
   "metadata": {},
   "source": [
    "### 1a. Plot visualizations - Select and visualize two features for modeling the behavior of the infected host."
   ]
  },
  {
   "cell_type": "code",
   "execution_count": 58,
   "metadata": {},
   "outputs": [
    {
     "name": "stdout",
     "output_type": "stream",
     "text": [
      "['flow=Background-TCP-Attempt' 'flow=Background-TCP-Established'\n",
      " 'flow=Background-Established-cmpgw-CVUT' 'flow=To-Background-CVUT-Proxy'\n",
      " 'flow=Background' 'flow=Background-UDP-Established'\n",
      " 'flow=Background-UDP-Attempt' 'flow=From-Background-CVUT-Proxy'\n",
      " 'flow=To-Background-UDP-CVUT-DNS-Server' 'flow=To-Background-Grill'\n",
      " 'flow=Background-Attempt-cmpgw-CVUT'\n",
      " 'flow=Background-UDP-NTP-Established-1' 'flow=Background-google-webmail'\n",
      " 'flow=Background-google-analytics11' 'flow=From-Normal-V51-Grill'\n",
      " 'flow=Background-google-analytics10' 'flow=From-Normal-V51-Stribrek'\n",
      " 'flow=Background-google-analytics6' 'flow=To-Background-Stribrek'\n",
      " 'flow=Background-google-analytics9' 'flow=To-Background-CVUT-WebServer'\n",
      " 'flow=Background-google-analytics15' 'flow=Background-google-analytics2'\n",
      " 'flow=From-Normal-V51-Jist' 'flow=Background-google-analytics8'\n",
      " 'flow=To-Background-Jist' 'flow=Background-google-analytics3'\n",
      " 'flow=Background-google-analytics14' 'flow=To-Background-MatLab-Server'\n",
      " 'flow=To-Normal-V51-UDP-NTP-server' 'flow=Background-google-analytics13'\n",
      " 'flow=Background-google-analytics12' 'flow=Background-ajax.google'\n",
      " 'flow=Background-google-analytics4' 'flow=Background-google-analytics1'\n",
      " 'flow=Background-google-analytics16' 'flow=Background-google-analytics7'\n",
      " 'flow=Background-google-pop' 'flow=Background-google-analytics5'\n",
      " 'flow=From-Normal-V51-CVUT-WebServer' 'flow=Background-www.fel.cvut.cz'\n",
      " 'flow=From-Botnet-V51-1-UDP-DNS'\n",
      " 'flow=From-Botnet-V51-1-TCP-HTTP-Google-Net-Established-6'\n",
      " 'flow=From-Botnet-V51-1-UDP-Attempt' 'flow=From-Botnet-V51-2-UDP-DNS'\n",
      " 'flow=From-Botnet-V51-2-TCP-HTTP-Google-Net-Established-6'\n",
      " 'flow=From-Botnet-V51-2-UDP-Attempt' 'flow=From-Normal-V51-MatLab-Server'\n",
      " 'flow=From-Normal-V51-UDP-CVUT-DNS-Server'\n",
      " 'flow=From-Botnet-V51-3-UDP-DNS'\n",
      " 'flow=From-Botnet-V51-3-TCP-HTTP-Google-Net-Established-6'\n",
      " 'flow=From-Botnet-V51-3-UDP-Attempt' 'flow=From-Botnet-V51-4-UDP-DNS'\n",
      " 'flow=From-Botnet-V51-4-TCP-HTTP-Google-Net-Established-6'\n",
      " 'flow=From-Botnet-V51-4-UDP-Attempt' 'flow=From-Botnet-V51-5-UDP-DNS'\n",
      " 'flow=From-Botnet-V51-5-TCP-HTTP-Google-Net-Established-6'\n",
      " 'flow=From-Botnet-V51-5-UDP-Attempt' 'flow=From-Botnet-V51-6-UDP-DNS'\n",
      " 'flow=From-Botnet-V51-6-TCP-HTTP-Google-Net-Established-6'\n",
      " 'flow=From-Botnet-V51-6-UDP-Attempt' 'flow=From-Botnet-V51-7-UDP-DNS'\n",
      " 'flow=From-Botnet-V51-7-TCP-HTTP-Google-Net-Established-6'\n",
      " 'flow=From-Botnet-V51-7-UDP-Attempt' 'flow=From-Botnet-V51-8-UDP-DNS'\n",
      " 'flow=From-Botnet-V51-8-TCP-HTTP-Google-Net-Established-6'\n",
      " 'flow=From-Botnet-V51-8-UDP-Attempt' 'flow=From-Botnet-V51-9-UDP-DNS'\n",
      " 'flow=From-Botnet-V51-9-TCP-HTTP-Google-Net-Established-6'\n",
      " 'flow=From-Botnet-V51-9-UDP-Attempt' 'flow=From-Botnet-V51-10-UDP-DNS'\n",
      " 'flow=From-Botnet-V51-10-TCP-HTTP-Google-Net-Established-6'\n",
      " 'flow=From-Botnet-V51-10-UDP-Attempt'\n",
      " 'flow=From-Botnet-V51-10-TCP-CC106-IRC-Not-Encrypted'\n",
      " 'flow=From-Botnet-V51-9-TCP-CC106-IRC-Not-Encrypted'\n",
      " 'flow=From-Botnet-V51-1-TCP-WEB-Established'\n",
      " 'flow=From-Botnet-V51-8-TCP-CC106-IRC-Not-Encrypted'\n",
      " 'flow=From-Botnet-V51-7-TCP-CC106-IRC-Not-Encrypted'\n",
      " 'flow=From-Botnet-V51-5-TCP-CC106-IRC-Not-Encrypted'\n",
      " 'flow=From-Botnet-V51-3-TCP-CC106-IRC-Not-Encrypted'\n",
      " 'flow=From-Botnet-V51-1-TCP-CC106-IRC-Not-Encrypted'\n",
      " 'flow=From-Botnet-V51-2-TCP-Established'\n",
      " 'flow=From-Botnet-V51-4-TCP-Established'\n",
      " 'flow=From-Botnet-V51-6-TCP-CC106-IRC-Not-Encrypted'\n",
      " 'flow=From-Botnet-V51-10-TCP-WEB-Established'\n",
      " 'flow=From-Botnet-V51-9-TCP-Established-HTTP-Ad-62'\n",
      " 'flow=From-Botnet-V51-8-TCP-WEB-Established'\n",
      " 'flow=From-Botnet-V51-7-TCP-WEB-Established'\n",
      " 'flow=From-Botnet-V51-5-TCP-Established-HTTP-Ad-62'\n",
      " 'flow=From-Botnet-V51-3-TCP-Established-HTTP-Ad-62'\n",
      " 'flow=From-Botnet-V51-4-TCP-Established-HTTP-Ad-62'\n",
      " 'flow=From-Botnet-V51-2-TCP-WEB-Established'\n",
      " 'flow=Normal-V51-HTTP-windowsupdate'\n",
      " 'flow=From-Botnet-V51-6-TCP-WEB-Established'\n",
      " 'flow=From-Botnet-V51-5-ICMP' 'flow=From-Botnet-V51-3-ICMP'\n",
      " 'flow=From-Botnet-V51-1-ICMP' 'flow=From-Botnet-V51-7-ICMP'\n",
      " 'flow=From-Botnet-V51-10-ICMP' 'flow=From-Botnet-V51-9-ICMP'\n",
      " 'flow=From-Botnet-V51-4-ICMP' 'flow=From-Botnet-V51-2-ICMP'\n",
      " 'flow=From-Botnet-V51-6-ICMP' 'flow=From-Botnet-V51-8-ICMP'\n",
      " 'flow=From-Botnet-V51-2-TCP-CC106-IRC-Not-Encrypted'\n",
      " 'flow=From-Botnet-V51-4-TCP-CC106-IRC-Not-Encrypted'\n",
      " 'flow=From-Botnet-V51-5-TCP-CC1-HTTP-Not-Encrypted'\n",
      " 'flow=From-Botnet-V51-8-TCP-Established'\n",
      " 'flow=From-Botnet-V51-9-TCP-CC1-HTTP-Not-Encrypted'\n",
      " 'flow=From-Botnet-V51-8-TCP-CC1-HTTP-Not-Encrypted'\n",
      " 'flow=From-Botnet-V51-1-TCP-Established']\n"
     ]
    }
   ],
   "source": [
    "df = pd.read_csv(\"datasets/dataset_10/capture20110818.binetflow\")\n",
    "df.head()\n",
    "\n",
    "# Print unique values of labels\n",
    "print(df.Label.unique())\n",
    "\n"
   ]
  },
  {
   "cell_type": "code",
   "execution_count": 59,
   "outputs": [
    {
     "name": "stdout",
     "output_type": "stream",
     "text": [
      "Number of Nan values:  StartTime         0\n",
      "Dur               0\n",
      "Proto             0\n",
      "SrcAddr           0\n",
      "Sport          6987\n",
      "Dir               0\n",
      "DstAddr           0\n",
      "Dport        104215\n",
      "State          1228\n",
      "sTos          12852\n",
      "dTos         186791\n",
      "TotPkts           0\n",
      "TotBytes          0\n",
      "SrcBytes          0\n",
      "Label             0\n",
      "dtype: int64\n",
      "Types of features: \n",
      "StartTime :  <class 'str'>\n",
      "Dur :  <class 'numpy.float64'>\n",
      "Proto :  <class 'str'>\n",
      "SrcAddr :  <class 'str'>\n",
      "Sport :  <class 'str'>\n",
      "Dir :  <class 'str'>\n",
      "DstAddr :  <class 'str'>\n",
      "Dport :  <class 'str'>\n",
      "State :  <class 'str'>\n",
      "sTos :  <class 'numpy.float64'>\n",
      "dTos :  <class 'numpy.float64'>\n",
      "TotPkts :  <class 'numpy.int64'>\n",
      "TotBytes :  <class 'numpy.int64'>\n",
      "SrcBytes :  <class 'numpy.int64'>\n",
      "Label :  <class 'str'>\n",
      "Number of unique values for each feature: \n",
      "StartTime :  1309789\n",
      "Dur :  515748\n",
      "Proto :  14\n",
      "SrcAddr :  151256\n",
      "Sport :  114793\n",
      "Dir :  6\n",
      "DstAddr :  72957\n",
      "Dport :  47046\n",
      "State :  332\n",
      "sTos :  6\n",
      "dTos :  5\n",
      "TotPkts :  3190\n",
      "TotBytes :  61767\n",
      "SrcBytes :  24267\n",
      "Label :  111\n"
     ]
    }
   ],
   "source": [
    "# Print the number of null values\n",
    "print(\"Number of Nan values: \", df.isnull().sum())\n",
    "\n",
    "\n",
    "# Print types of features\n",
    "print(\"Types of features: \")\n",
    "for col in df.columns:\n",
    "    print(col, \": \", type(df[col][0]))\n",
    "\n",
    "# Print the number of unique values for each feature\n",
    "print(\"Number of unique values for each feature: \")\n",
    "for col in df.columns:\n",
    "    print(col, \": \", len(df[col].unique()))"
   ],
   "metadata": {
    "collapsed": false
   }
  },
  {
   "cell_type": "code",
   "execution_count": 85,
   "outputs": [],
   "source": [
    "# Replace the Nan values of the sport and dport features with 0\n",
    "df['Sport'] = df['Sport'].fillna(\"-1\")\n",
    "df['Dport'] = df['Dport'].fillna(\"-1\")\n",
    "\n",
    "# Turn the hex values of the sport and dport features into int if it is a hex value\n",
    "df['Sport'] = df['Sport'].apply(lambda x: int(x, 16) if type(x) == str and x.startswith('0x') else x)\n",
    "df['Dport'] = df['Dport'].apply(lambda x: int(x, 16) if type(x) == str and x.startswith('0x') else x)\n",
    "\n",
    "\n",
    "# Change the type of the dport and sport features to int\n",
    "df['Sport'] = df['Sport'].astype(int)\n",
    "df['Dport'] = df['Dport'].astype(int)\n",
    "\n",
    "# Replace one NaN value of the State\n",
    "df['State'] = df['State'].fillna(\"None\")\n"
   ],
   "metadata": {
    "collapsed": false
   }
  },
  {
   "cell_type": "code",
   "execution_count": 61,
   "outputs": [
    {
     "name": "stdout",
     "output_type": "stream",
     "text": [
      "Range of values for each feature: \n",
      "Dur :  0.0  -  3600.019287\n",
      "Sport :  -1  -  65535\n",
      "Dport :  -1  -  539032744\n",
      "sTos :  0.0  -  192.0\n",
      "dTos :  0.0  -  3.0\n",
      "TotPkts :  1  -  1853001\n",
      "TotBytes :  60  -  1933022240\n",
      "SrcBytes :  0  -  1233899763\n"
     ]
    }
   ],
   "source": [
    "# Print the range of values for each feature\n",
    "print(\"Range of values for each feature: \")\n",
    "for col in df.columns:\n",
    "    if type(df[col][0]) == str:\n",
    "        continue\n",
    "    print(col, \": \", df[col].min(), \" - \", df[col].max())\n"
   ],
   "metadata": {
    "collapsed": false
   }
  },
  {
   "cell_type": "code",
   "execution_count": 62,
   "outputs": [
    {
     "name": "stdout",
     "output_type": "stream",
     "text": [
      "Number of malicious flows:  106352\n",
      "Number of benign flows:  1203439\n"
     ]
    }
   ],
   "source": [
    "# Group the df into malicious and benign flows\n",
    "# The label of malicious flows contain the string 'Botnet'\n",
    "malicious_flows = df[df.Label.str.contains('Botnet')]\n",
    "benign_flows = df[~df.Label.str.contains('Botnet')]\n",
    "\n",
    "# Print the number of malicious and benign flows\n",
    "print(\"Number of malicious flows: \", len(malicious_flows))\n",
    "print(\"Number of benign flows: \", len(benign_flows))\n"
   ],
   "metadata": {
    "collapsed": false
   }
  },
  {
   "cell_type": "code",
   "execution_count": 63,
   "outputs": [
    {
     "data": {
      "text/plain": "                        StartTime         Dur Proto        SrcAddr  Sport  \\\n90622  2011/08/18 10:37:58.448307    0.000342   udp  147.32.84.165   1025   \n90808  2011/08/18 10:38:00.695278    0.010278   udp  147.32.84.165   1025   \n90809  2011/08/18 10:38:00.706560    0.043726   tcp  147.32.84.165   1027   \n90965  2011/08/18 10:38:03.255934    0.010256   udp  147.32.84.165   1025   \n90968  2011/08/18 10:38:03.267222  581.516663   udp  147.32.84.165    123   \n\n         Dir         DstAddr  Dport     State  sTos  dTos  TotPkts  TotBytes  \\\n90622    <->     147.32.80.9     53       CON   0.0   0.0        2       203   \n90808    <->     147.32.80.9     53       CON   0.0   0.0        2       590   \n90809     ->  74.125.232.206     80  SRPA_SPA   0.0   0.0        7       882   \n90965    <->     147.32.80.9     53       CON   0.0   0.0        2       479   \n90968     ->     65.55.56.40    123       INT   0.0   NaN        4       360   \n\n       SrcBytes                                              Label  \n90622        64                     flow=From-Botnet-V51-1-UDP-DNS  \n90808        87                     flow=From-Botnet-V51-1-UDP-DNS  \n90809       629  flow=From-Botnet-V51-1-TCP-HTTP-Google-Net-Est...  \n90965        76                     flow=From-Botnet-V51-1-UDP-DNS  \n90968       360                 flow=From-Botnet-V51-1-UDP-Attempt  ",
      "text/html": "<div>\n<style scoped>\n    .dataframe tbody tr th:only-of-type {\n        vertical-align: middle;\n    }\n\n    .dataframe tbody tr th {\n        vertical-align: top;\n    }\n\n    .dataframe thead th {\n        text-align: right;\n    }\n</style>\n<table border=\"1\" class=\"dataframe\">\n  <thead>\n    <tr style=\"text-align: right;\">\n      <th></th>\n      <th>StartTime</th>\n      <th>Dur</th>\n      <th>Proto</th>\n      <th>SrcAddr</th>\n      <th>Sport</th>\n      <th>Dir</th>\n      <th>DstAddr</th>\n      <th>Dport</th>\n      <th>State</th>\n      <th>sTos</th>\n      <th>dTos</th>\n      <th>TotPkts</th>\n      <th>TotBytes</th>\n      <th>SrcBytes</th>\n      <th>Label</th>\n    </tr>\n  </thead>\n  <tbody>\n    <tr>\n      <th>90622</th>\n      <td>2011/08/18 10:37:58.448307</td>\n      <td>0.000342</td>\n      <td>udp</td>\n      <td>147.32.84.165</td>\n      <td>1025</td>\n      <td>&lt;-&gt;</td>\n      <td>147.32.80.9</td>\n      <td>53</td>\n      <td>CON</td>\n      <td>0.0</td>\n      <td>0.0</td>\n      <td>2</td>\n      <td>203</td>\n      <td>64</td>\n      <td>flow=From-Botnet-V51-1-UDP-DNS</td>\n    </tr>\n    <tr>\n      <th>90808</th>\n      <td>2011/08/18 10:38:00.695278</td>\n      <td>0.010278</td>\n      <td>udp</td>\n      <td>147.32.84.165</td>\n      <td>1025</td>\n      <td>&lt;-&gt;</td>\n      <td>147.32.80.9</td>\n      <td>53</td>\n      <td>CON</td>\n      <td>0.0</td>\n      <td>0.0</td>\n      <td>2</td>\n      <td>590</td>\n      <td>87</td>\n      <td>flow=From-Botnet-V51-1-UDP-DNS</td>\n    </tr>\n    <tr>\n      <th>90809</th>\n      <td>2011/08/18 10:38:00.706560</td>\n      <td>0.043726</td>\n      <td>tcp</td>\n      <td>147.32.84.165</td>\n      <td>1027</td>\n      <td>-&gt;</td>\n      <td>74.125.232.206</td>\n      <td>80</td>\n      <td>SRPA_SPA</td>\n      <td>0.0</td>\n      <td>0.0</td>\n      <td>7</td>\n      <td>882</td>\n      <td>629</td>\n      <td>flow=From-Botnet-V51-1-TCP-HTTP-Google-Net-Est...</td>\n    </tr>\n    <tr>\n      <th>90965</th>\n      <td>2011/08/18 10:38:03.255934</td>\n      <td>0.010256</td>\n      <td>udp</td>\n      <td>147.32.84.165</td>\n      <td>1025</td>\n      <td>&lt;-&gt;</td>\n      <td>147.32.80.9</td>\n      <td>53</td>\n      <td>CON</td>\n      <td>0.0</td>\n      <td>0.0</td>\n      <td>2</td>\n      <td>479</td>\n      <td>76</td>\n      <td>flow=From-Botnet-V51-1-UDP-DNS</td>\n    </tr>\n    <tr>\n      <th>90968</th>\n      <td>2011/08/18 10:38:03.267222</td>\n      <td>581.516663</td>\n      <td>udp</td>\n      <td>147.32.84.165</td>\n      <td>123</td>\n      <td>-&gt;</td>\n      <td>65.55.56.40</td>\n      <td>123</td>\n      <td>INT</td>\n      <td>0.0</td>\n      <td>NaN</td>\n      <td>4</td>\n      <td>360</td>\n      <td>360</td>\n      <td>flow=From-Botnet-V51-1-UDP-Attempt</td>\n    </tr>\n  </tbody>\n</table>\n</div>"
     },
     "metadata": {},
     "output_type": "display_data"
    },
    {
     "data": {
      "text/plain": "                    StartTime         Dur Proto         SrcAddr  Sport    Dir  \\\n0  2011/08/18 10:21:46.633335    1.060248   tcp    93.45.239.29   1611     ->   \n1  2011/08/18 10:19:49.027650  279.349152   tcp  62.240.166.118   1031    <?>   \n2  2011/08/18 10:22:07.160628  166.390015   tcp   147.32.86.148  58067     ->   \n3  2011/08/18 10:26:02.052163    1.187083   tcp     147.32.3.51   3130     ->   \n4  2011/08/18 10:26:52.226748    0.980571   tcp   88.212.37.169   3134     ->   \n\n          DstAddr  Dport    State  sTos  dTos  TotPkts  TotBytes  SrcBytes  \\\n0   147.32.84.118   6881     S_RA   0.0   0.0        4       252       132   \n1   147.32.84.229  13363  SRPA_PA   0.0   0.0       15      1318       955   \n2  66.235.132.232     80    SR_SA   0.0   0.0        3       212       134   \n3    147.32.84.46  10010     S_RA   0.0   0.0        4       244       124   \n4   147.32.84.118   6881     S_RA   0.0   0.0        4       244       124   \n\n                             Label  \n0      flow=Background-TCP-Attempt  \n1      flow=Background-TCP-Attempt  \n2  flow=Background-TCP-Established  \n3      flow=Background-TCP-Attempt  \n4      flow=Background-TCP-Attempt  ",
      "text/html": "<div>\n<style scoped>\n    .dataframe tbody tr th:only-of-type {\n        vertical-align: middle;\n    }\n\n    .dataframe tbody tr th {\n        vertical-align: top;\n    }\n\n    .dataframe thead th {\n        text-align: right;\n    }\n</style>\n<table border=\"1\" class=\"dataframe\">\n  <thead>\n    <tr style=\"text-align: right;\">\n      <th></th>\n      <th>StartTime</th>\n      <th>Dur</th>\n      <th>Proto</th>\n      <th>SrcAddr</th>\n      <th>Sport</th>\n      <th>Dir</th>\n      <th>DstAddr</th>\n      <th>Dport</th>\n      <th>State</th>\n      <th>sTos</th>\n      <th>dTos</th>\n      <th>TotPkts</th>\n      <th>TotBytes</th>\n      <th>SrcBytes</th>\n      <th>Label</th>\n    </tr>\n  </thead>\n  <tbody>\n    <tr>\n      <th>0</th>\n      <td>2011/08/18 10:21:46.633335</td>\n      <td>1.060248</td>\n      <td>tcp</td>\n      <td>93.45.239.29</td>\n      <td>1611</td>\n      <td>-&gt;</td>\n      <td>147.32.84.118</td>\n      <td>6881</td>\n      <td>S_RA</td>\n      <td>0.0</td>\n      <td>0.0</td>\n      <td>4</td>\n      <td>252</td>\n      <td>132</td>\n      <td>flow=Background-TCP-Attempt</td>\n    </tr>\n    <tr>\n      <th>1</th>\n      <td>2011/08/18 10:19:49.027650</td>\n      <td>279.349152</td>\n      <td>tcp</td>\n      <td>62.240.166.118</td>\n      <td>1031</td>\n      <td>&lt;?&gt;</td>\n      <td>147.32.84.229</td>\n      <td>13363</td>\n      <td>SRPA_PA</td>\n      <td>0.0</td>\n      <td>0.0</td>\n      <td>15</td>\n      <td>1318</td>\n      <td>955</td>\n      <td>flow=Background-TCP-Attempt</td>\n    </tr>\n    <tr>\n      <th>2</th>\n      <td>2011/08/18 10:22:07.160628</td>\n      <td>166.390015</td>\n      <td>tcp</td>\n      <td>147.32.86.148</td>\n      <td>58067</td>\n      <td>-&gt;</td>\n      <td>66.235.132.232</td>\n      <td>80</td>\n      <td>SR_SA</td>\n      <td>0.0</td>\n      <td>0.0</td>\n      <td>3</td>\n      <td>212</td>\n      <td>134</td>\n      <td>flow=Background-TCP-Established</td>\n    </tr>\n    <tr>\n      <th>3</th>\n      <td>2011/08/18 10:26:02.052163</td>\n      <td>1.187083</td>\n      <td>tcp</td>\n      <td>147.32.3.51</td>\n      <td>3130</td>\n      <td>-&gt;</td>\n      <td>147.32.84.46</td>\n      <td>10010</td>\n      <td>S_RA</td>\n      <td>0.0</td>\n      <td>0.0</td>\n      <td>4</td>\n      <td>244</td>\n      <td>124</td>\n      <td>flow=Background-TCP-Attempt</td>\n    </tr>\n    <tr>\n      <th>4</th>\n      <td>2011/08/18 10:26:52.226748</td>\n      <td>0.980571</td>\n      <td>tcp</td>\n      <td>88.212.37.169</td>\n      <td>3134</td>\n      <td>-&gt;</td>\n      <td>147.32.84.118</td>\n      <td>6881</td>\n      <td>S_RA</td>\n      <td>0.0</td>\n      <td>0.0</td>\n      <td>4</td>\n      <td>244</td>\n      <td>124</td>\n      <td>flow=Background-TCP-Attempt</td>\n    </tr>\n  </tbody>\n</table>\n</div>"
     },
     "metadata": {},
     "output_type": "display_data"
    }
   ],
   "source": [
    "display(malicious_flows.head())\n",
    "display(benign_flows.head())"
   ],
   "metadata": {
    "collapsed": false
   }
  },
  {
   "cell_type": "code",
   "execution_count": 64,
   "outputs": [
    {
     "name": "stdout",
     "output_type": "stream",
     "text": [
      "Number of Nan values in malicious flows:  StartTime         0\n",
      "Dur               0\n",
      "Proto             0\n",
      "SrcAddr           0\n",
      "Sport             0\n",
      "Dir               0\n",
      "DstAddr           0\n",
      "Dport             0\n",
      "State          1227\n",
      "sTos              0\n",
      "dTos         106116\n",
      "TotPkts           0\n",
      "TotBytes          0\n",
      "SrcBytes          0\n",
      "Label             0\n",
      "dtype: int64\n",
      "Number of Nan values in benign flows:  StartTime        0\n",
      "Dur              0\n",
      "Proto            0\n",
      "SrcAddr          0\n",
      "Sport            0\n",
      "Dir              0\n",
      "DstAddr          0\n",
      "Dport            0\n",
      "State            1\n",
      "sTos         12852\n",
      "dTos         80675\n",
      "TotPkts          0\n",
      "TotBytes         0\n",
      "SrcBytes         0\n",
      "Label            0\n",
      "dtype: int64\n"
     ]
    }
   ],
   "source": [
    "# Find Nan values\n",
    "print(\"Number of Nan values in malicious flows: \", malicious_flows.isnull().sum())\n",
    "print(\"Number of Nan values in benign flows: \", benign_flows.isnull().sum())"
   ],
   "metadata": {
    "collapsed": false
   }
  },
  {
   "cell_type": "code",
   "execution_count": 89,
   "outputs": [
    {
     "name": "stdout",
     "output_type": "stream",
     "text": [
      "Float values of state in malicious flows:                            StartTime  Dur Proto        SrcAddr  Sport    Dir  \\\n",
      "478704   2011/08/18 12:35:01.006027  0.0  icmp  147.32.84.204  33287     ->   \n",
      "478929   2011/08/18 12:33:24.308449  0.0  icmp  147.32.84.209  55041     ->   \n",
      "479233   2011/08/18 12:35:08.873504  0.0  icmp  147.32.84.204  23553     ->   \n",
      "479263   2011/08/18 12:34:54.903462  0.0  icmp  147.32.84.193   2306     ->   \n",
      "479336   2011/08/18 12:32:58.960725  0.0  icmp  147.32.84.209  59649     ->   \n",
      "...                             ...  ...   ...            ...    ...    ...   \n",
      "1227792  2011/08/18 15:01:28.550288  0.0  icmp  147.32.84.209  56322     ->   \n",
      "1227837  2011/08/18 15:04:55.645810  0.0  icmp  147.32.84.208  19975     ->   \n",
      "1227885  2011/08/18 15:01:24.451486  0.0  icmp  147.32.84.209  52737     ->   \n",
      "1229406  2011/08/18 15:03:54.340559  0.0  icmp  147.32.84.205  54786     ->   \n",
      "1230911  2011/08/18 14:50:25.427891  0.0  icmp  147.32.84.209  26119     ->   \n",
      "\n",
      "              DstAddr  Dport State  sTos  dTos  TotPkts  TotBytes  SrcBytes  \\\n",
      "478704   147.32.96.69     -1   NaN   0.0   NaN        1      1066      1066   \n",
      "478929   147.32.96.69     -1   NaN   0.0   NaN        1      1066      1066   \n",
      "479233   147.32.96.69     -1   NaN   0.0   NaN        1      1066      1066   \n",
      "479263   147.32.96.69     -1   NaN   0.0   NaN        1      1066      1066   \n",
      "479336   147.32.96.69     -1   NaN   0.0   NaN        1      1066      1066   \n",
      "...               ...    ...   ...   ...   ...      ...       ...       ...   \n",
      "1227792  147.32.96.69     -1   NaN   0.0   NaN        1      1066      1066   \n",
      "1227837  147.32.96.69     -1   NaN   0.0   NaN        1      1066      1066   \n",
      "1227885  147.32.96.69     -1   NaN   0.0   NaN        1      1066      1066   \n",
      "1229406  147.32.96.69     -1   NaN   0.0   NaN        1      1066      1066   \n",
      "1230911  147.32.96.69     -1   NaN   0.0   NaN        1      1066      1066   \n",
      "\n",
      "                                Label  \n",
      "478704    flow=From-Botnet-V51-5-ICMP  \n",
      "478929   flow=From-Botnet-V51-10-ICMP  \n",
      "479233    flow=From-Botnet-V51-5-ICMP  \n",
      "479263    flow=From-Botnet-V51-4-ICMP  \n",
      "479336   flow=From-Botnet-V51-10-ICMP  \n",
      "...                               ...  \n",
      "1227792  flow=From-Botnet-V51-10-ICMP  \n",
      "1227837   flow=From-Botnet-V51-9-ICMP  \n",
      "1227885  flow=From-Botnet-V51-10-ICMP  \n",
      "1229406   flow=From-Botnet-V51-6-ICMP  \n",
      "1230911  flow=From-Botnet-V51-10-ICMP  \n",
      "\n",
      "[1227 rows x 15 columns]\n"
     ]
    }
   ],
   "source": [
    "# Print out the float values of state\n",
    "print(\"Float values of state in malicious flows: \", malicious_flows[malicious_flows['State'].apply(lambda x: type(x) == float)])"
   ],
   "metadata": {
    "collapsed": false
   }
  },
  {
   "cell_type": "code",
   "execution_count": 94,
   "outputs": [
    {
     "name": "stderr",
     "output_type": "stream",
     "text": [
      "C:\\Users\\micha\\AppData\\Local\\Temp\\ipykernel_22872\\1871391738.py:2: SettingWithCopyWarning: \n",
      "A value is trying to be set on a copy of a slice from a DataFrame.\n",
      "Try using .loc[row_indexer,col_indexer] = value instead\n",
      "\n",
      "See the caveats in the documentation: https://pandas.pydata.org/pandas-docs/stable/user_guide/indexing.html#returning-a-view-versus-a-copy\n",
      "  malicious_flows['State'] = malicious_flows['State'].apply(lambda x: \"None\" if type(x) == float else x)\n"
     ]
    }
   ],
   "source": [
    "# Convert floats to None in state\n",
    "malicious_flows['State'] = malicious_flows['State'].apply(lambda x: \"None\" if type(x) == float else x)"
   ],
   "metadata": {
    "collapsed": false
   }
  },
  {
   "cell_type": "code",
   "execution_count": 97,
   "outputs": [
    {
     "data": {
      "text/plain": "<matplotlib.legend.Legend at 0x22ab8379950>"
     },
     "execution_count": 97,
     "metadata": {},
     "output_type": "execute_result"
    },
    {
     "data": {
      "text/plain": "<Figure size 1500x500 with 2 Axes>",
      "image/png": "[encoded data removed]"
     },
     "metadata": {},
     "output_type": "display_data"
    }
   ],
   "source": [
    "import numpy as np\n",
    "# Visualize the distribution of the features\n",
    "import matplotlib.pyplot as plt\n",
    "import seaborn as sns\n",
    "\n",
    "# Select two features\n",
    "feature1 = 'Proto'\n",
    "feature2 = 'Dir'\n",
    "\n",
    "# Plot the distribution of the features normalized\n",
    "fig, ax = plt.subplots(1, 2, figsize=(15, 5))\n",
    "# ax[0].hist(malicious_flows[feature1], bins=50, alpha=0.5, label='malicious flows', density=True)\n",
    "# ax[0].hist(benign_flows[feature1], bins=50, alpha=0.5, label='benign flows', density=True)\n",
    "ax[0].bar(malicious_flows[feature1].unique(), malicious_flows[feature1].value_counts(normalize=True), alpha=0.5, label='malicious flows')\n",
    "ax[0].bar(benign_flows[feature1].unique(), benign_flows[feature1].value_counts(normalize=True), alpha=0.5, label='benign flows')\n",
    "ax[1].bar(malicious_flows[feature2].unique(), malicious_flows[feature2].value_counts(normalize=True), alpha=0.5, label='malicious flows')\n",
    "ax[1].bar(benign_flows[feature2].unique(), benign_flows[feature2].value_counts(normalize=True), alpha=0.5, label='benign flows')\n",
    "ax[0].legend()\n",
    "ax[1].legend()\n",
    "\n"
   ],
   "metadata": {
    "collapsed": false
   }
  },
  {
   "cell_type": "markdown",
   "metadata": {},
   "source": [
    "### 1b. Discretize selected features"
   ]
  },
  {
   "cell_type": "code",
   "execution_count": null,
   "metadata": {},
   "outputs": [],
   "source": []
  },
  {
   "cell_type": "markdown",
   "metadata": {},
   "source": [
    "### 1c. Answers and explanation"
   ]
  },
  {
   "cell_type": "code",
   "execution_count": null,
   "metadata": {},
   "outputs": [],
   "source": []
  },
  {
   "cell_type": "markdown",
   "metadata": {},
   "source": [
    "## 2. Sketching task – 1/2 A4 (Individual, 10 Points)"
   ]
  },
  {
   "cell_type": "markdown",
   "metadata": {},
   "source": [
    "### 2a. COUNT-MIN sketch\n"
   ]
  },
  {
   "cell_type": "code",
   "execution_count": null,
   "metadata": {},
   "outputs": [],
   "source": []
  },
  {
   "cell_type": "markdown",
   "metadata": {},
   "source": [
    "### 2b. Analysis and answers to the questions"
   ]
  },
  {
   "cell_type": "code",
   "execution_count": null,
   "metadata": {},
   "outputs": [],
   "source": []
  },
  {
   "cell_type": "markdown",
   "metadata": {},
   "source": [
    "## 3. Min-wise locality sensitive hashing task – 1/2 A4 (Individual, 10 Points)"
   ]
  },
  {
   "cell_type": "markdown",
   "metadata": {},
   "source": [
    "### 3a. Implementation"
   ]
  },
  {
   "cell_type": "code",
   "execution_count": null,
   "metadata": {},
   "outputs": [],
   "source": []
  },
  {
   "cell_type": "markdown",
   "metadata": {},
   "source": [
    "### 3b. Analysis and answers to the questions"
   ]
  },
  {
   "cell_type": "code",
   "execution_count": null,
   "metadata": {},
   "outputs": [],
   "source": []
  },
  {
   "cell_type": "markdown",
   "metadata": {},
   "source": [
    "## 4.Botnet profiling and fingerprinting task – 1 A4 (5 Points)"
   ]
  },
  {
   "cell_type": "markdown",
   "metadata": {},
   "source": [
    "### 4a. Learn a sequential model, profiling and fingerprinting"
   ]
  },
  {
   "cell_type": "code",
   "execution_count": null,
   "metadata": {},
   "outputs": [],
   "source": []
  },
  {
   "cell_type": "markdown",
   "metadata": {},
   "source": [
    "### 4b. Analysis and answers to the questions."
   ]
  },
  {
   "cell_type": "code",
   "execution_count": null,
   "metadata": {},
   "outputs": [],
   "source": []
  },
  {
   "cell_type": "markdown",
   "metadata": {},
   "source": [
    "## 5. Bonus Task 1/2 A4 (5 Points)"
   ]
  },
  {
   "cell_type": "markdown",
   "metadata": {},
   "source": [
    "### 5a. Provide implementation and analysis."
   ]
  },
  {
   "cell_type": "code",
   "execution_count": null,
   "metadata": {},
   "outputs": [],
   "source": []
  }
 ],
 "metadata": {
  "kernelspec": {
   "display_name": "Python 3 (ipykernel)",
   "language": "python",
   "name": "python3"
  },
  "language_info": {
   "codemirror_mode": {
    "name": "ipython",
    "version": 3
   },
   "file_extension": ".py",
   "mimetype": "text/x-python",
   "name": "python",
   "nbconvert_exporter": "python",
   "pygments_lexer": "ipython3",
   "version": "3.9.7"
  }
 },
 "nbformat": 4,
 "nbformat_minor": 2
}
