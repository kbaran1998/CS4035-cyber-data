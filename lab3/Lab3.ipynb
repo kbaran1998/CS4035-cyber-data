{
 "cells": [
  {
   "cell_type": "markdown",
   "metadata": {},
   "source": [
    "# CS4035 - Cyber Data Analytics\n",
    "## Lab 3 "
   ]
  },
  {
   "cell_type": "markdown",
   "metadata": {},
   "source": [
    "### Submit on brightspace (zip file with the name Group_xx.zip)\n",
    "(i) This jupyter file completed with code, plots, figures and report for each question. Additional plots and figures can be created for explanation before the end of each main question. Lab 3 contains 4 main questions + 1 bonus. Write the code or explanation below each sub question. For the explantions, include what you would normally include in the report for this lab assignment, for example data pre-processing, hypothesis tested, approach, results, etc.\n",
    "(ii) A PDF or a Word report for the assignment. Create a report from the plots, figures, tables and the write-up that you provide in this jupyter file. The report will be used as a proof for page limit. \n",
    "(iii) The libraries needed to run this file. \n",
    "\n",
    "Your peers should be able to use the readme section for instructions and be able to run this file. "
   ]
  },
  {
   "cell_type": "markdown",
   "metadata": {},
   "source": [
    "## Group Number :"
   ]
  },
  {
   "cell_type": "markdown",
   "metadata": {},
   "source": [
    "## Student 1 \n",
    "### Name : Krzysztof Baran\n",
    "### ID : 4662148"
   ]
  },
  {
   "cell_type": "markdown",
   "metadata": {},
   "source": [
    "## Student 2\n",
    "### Name : Michał Okoń\n",
    "### ID : 5056640"
   ]
  },
  {
   "cell_type": "markdown",
   "metadata": {},
   "source": [
    "## Readme - Provide instructions - libraries used, location of the data file, etc. Keep it short. Remember your peers will not debug your code and should be able to reproduce the exact output you provide."
   ]
  },
  {
   "cell_type": "code",
   "execution_count": 31,
   "metadata": {
    "collapsed": false,
    "jupyter": {
     "outputs_hidden": false
    },
    "tags": []
   },
   "outputs": [],
   "source": [
    "import nbformat\n",
    "import pandas as pd\n",
    "import numpy as np\n",
    "import matplotlib.pyplot as plt\n",
    "import seaborn as sns\n",
    "from sklearn.preprocessing import KBinsDiscretizer\n",
    "from sklearn.preprocessing import LabelEncoder"
   ]
  },
  {
   "cell_type": "code",
   "execution_count": 2,
   "metadata": {
    "collapsed": false,
    "jupyter": {
     "outputs_hidden": false
    },
    "tags": []
   },
   "outputs": [
    {
     "name": "stdout",
     "output_type": "stream",
     "text": [
      "Word count: 324\n"
     ]
    }
   ],
   "source": [
    "# If this cell does not work try running ``\n",
    "nb = nbformat.read(\"Lab3.ipynb\", nbformat.NO_CONVERT)\n",
    "word_count = 0\n",
    "for cell in nb.cells:\n",
    "    if cell.cell_type == \"markdown\":\n",
    "        word_count += len(cell['source'].replace('#', '').lstrip().split(' '))\n",
    "\n",
    "print(\"Word count:\", word_count)"
   ]
  },
  {
   "cell_type": "markdown",
   "metadata": {},
   "source": [
    "## 1. Familiarization and discretization task – 1 A4 (5 Points)"
   ]
  },
  {
   "cell_type": "markdown",
   "metadata": {},
   "source": [
    "### 1a. Plot visualizations - Select and visualize two features for modeling the behavior of the infected host."
   ]
  },
  {
   "cell_type": "code",
   "execution_count": 3,
   "metadata": {
    "tags": []
   },
   "outputs": [
    {
     "data": {
      "text/plain": [
       "array(['flow=Background-TCP-Attempt', 'flow=Background-TCP-Established',\n",
       "       'flow=Background-Established-cmpgw-CVUT',\n",
       "       'flow=To-Background-CVUT-Proxy', 'flow=Background',\n",
       "       'flow=Background-UDP-Established', 'flow=Background-UDP-Attempt',\n",
       "       'flow=From-Background-CVUT-Proxy',\n",
       "       'flow=To-Background-UDP-CVUT-DNS-Server',\n",
       "       'flow=To-Background-Grill', 'flow=Background-Attempt-cmpgw-CVUT',\n",
       "       'flow=Background-UDP-NTP-Established-1',\n",
       "       'flow=Background-google-webmail',\n",
       "       'flow=Background-google-analytics11', 'flow=From-Normal-V51-Grill',\n",
       "       'flow=Background-google-analytics10',\n",
       "       'flow=From-Normal-V51-Stribrek',\n",
       "       'flow=Background-google-analytics6', 'flow=To-Background-Stribrek',\n",
       "       'flow=Background-google-analytics9',\n",
       "       'flow=To-Background-CVUT-WebServer',\n",
       "       'flow=Background-google-analytics15',\n",
       "       'flow=Background-google-analytics2', 'flow=From-Normal-V51-Jist',\n",
       "       'flow=Background-google-analytics8', 'flow=To-Background-Jist',\n",
       "       'flow=Background-google-analytics3',\n",
       "       'flow=Background-google-analytics14',\n",
       "       'flow=To-Background-MatLab-Server',\n",
       "       'flow=To-Normal-V51-UDP-NTP-server',\n",
       "       'flow=Background-google-analytics13',\n",
       "       'flow=Background-google-analytics12',\n",
       "       'flow=Background-ajax.google', 'flow=Background-google-analytics4',\n",
       "       'flow=Background-google-analytics1',\n",
       "       'flow=Background-google-analytics16',\n",
       "       'flow=Background-google-analytics7', 'flow=Background-google-pop',\n",
       "       'flow=Background-google-analytics5',\n",
       "       'flow=From-Normal-V51-CVUT-WebServer',\n",
       "       'flow=Background-www.fel.cvut.cz',\n",
       "       'flow=From-Botnet-V51-1-UDP-DNS',\n",
       "       'flow=From-Botnet-V51-1-TCP-HTTP-Google-Net-Established-6',\n",
       "       'flow=From-Botnet-V51-1-UDP-Attempt',\n",
       "       'flow=From-Botnet-V51-2-UDP-DNS',\n",
       "       'flow=From-Botnet-V51-2-TCP-HTTP-Google-Net-Established-6',\n",
       "       'flow=From-Botnet-V51-2-UDP-Attempt',\n",
       "       'flow=From-Normal-V51-MatLab-Server',\n",
       "       'flow=From-Normal-V51-UDP-CVUT-DNS-Server',\n",
       "       'flow=From-Botnet-V51-3-UDP-DNS',\n",
       "       'flow=From-Botnet-V51-3-TCP-HTTP-Google-Net-Established-6',\n",
       "       'flow=From-Botnet-V51-3-UDP-Attempt',\n",
       "       'flow=From-Botnet-V51-4-UDP-DNS',\n",
       "       'flow=From-Botnet-V51-4-TCP-HTTP-Google-Net-Established-6',\n",
       "       'flow=From-Botnet-V51-4-UDP-Attempt',\n",
       "       'flow=From-Botnet-V51-5-UDP-DNS',\n",
       "       'flow=From-Botnet-V51-5-TCP-HTTP-Google-Net-Established-6',\n",
       "       'flow=From-Botnet-V51-5-UDP-Attempt',\n",
       "       'flow=From-Botnet-V51-6-UDP-DNS',\n",
       "       'flow=From-Botnet-V51-6-TCP-HTTP-Google-Net-Established-6',\n",
       "       'flow=From-Botnet-V51-6-UDP-Attempt',\n",
       "       'flow=From-Botnet-V51-7-UDP-DNS',\n",
       "       'flow=From-Botnet-V51-7-TCP-HTTP-Google-Net-Established-6',\n",
       "       'flow=From-Botnet-V51-7-UDP-Attempt',\n",
       "       'flow=From-Botnet-V51-8-UDP-DNS',\n",
       "       'flow=From-Botnet-V51-8-TCP-HTTP-Google-Net-Established-6',\n",
       "       'flow=From-Botnet-V51-8-UDP-Attempt',\n",
       "       'flow=From-Botnet-V51-9-UDP-DNS',\n",
       "       'flow=From-Botnet-V51-9-TCP-HTTP-Google-Net-Established-6',\n",
       "       'flow=From-Botnet-V51-9-UDP-Attempt',\n",
       "       'flow=From-Botnet-V51-10-UDP-DNS',\n",
       "       'flow=From-Botnet-V51-10-TCP-HTTP-Google-Net-Established-6',\n",
       "       'flow=From-Botnet-V51-10-UDP-Attempt',\n",
       "       'flow=From-Botnet-V51-10-TCP-CC106-IRC-Not-Encrypted',\n",
       "       'flow=From-Botnet-V51-9-TCP-CC106-IRC-Not-Encrypted',\n",
       "       'flow=From-Botnet-V51-1-TCP-WEB-Established',\n",
       "       'flow=From-Botnet-V51-8-TCP-CC106-IRC-Not-Encrypted',\n",
       "       'flow=From-Botnet-V51-7-TCP-CC106-IRC-Not-Encrypted',\n",
       "       'flow=From-Botnet-V51-5-TCP-CC106-IRC-Not-Encrypted',\n",
       "       'flow=From-Botnet-V51-3-TCP-CC106-IRC-Not-Encrypted',\n",
       "       'flow=From-Botnet-V51-1-TCP-CC106-IRC-Not-Encrypted',\n",
       "       'flow=From-Botnet-V51-2-TCP-Established',\n",
       "       'flow=From-Botnet-V51-4-TCP-Established',\n",
       "       'flow=From-Botnet-V51-6-TCP-CC106-IRC-Not-Encrypted',\n",
       "       'flow=From-Botnet-V51-10-TCP-WEB-Established',\n",
       "       'flow=From-Botnet-V51-9-TCP-Established-HTTP-Ad-62',\n",
       "       'flow=From-Botnet-V51-8-TCP-WEB-Established',\n",
       "       'flow=From-Botnet-V51-7-TCP-WEB-Established',\n",
       "       'flow=From-Botnet-V51-5-TCP-Established-HTTP-Ad-62',\n",
       "       'flow=From-Botnet-V51-3-TCP-Established-HTTP-Ad-62',\n",
       "       'flow=From-Botnet-V51-4-TCP-Established-HTTP-Ad-62',\n",
       "       'flow=From-Botnet-V51-2-TCP-WEB-Established',\n",
       "       'flow=Normal-V51-HTTP-windowsupdate',\n",
       "       'flow=From-Botnet-V51-6-TCP-WEB-Established',\n",
       "       'flow=From-Botnet-V51-5-ICMP', 'flow=From-Botnet-V51-3-ICMP',\n",
       "       'flow=From-Botnet-V51-1-ICMP', 'flow=From-Botnet-V51-7-ICMP',\n",
       "       'flow=From-Botnet-V51-10-ICMP', 'flow=From-Botnet-V51-9-ICMP',\n",
       "       'flow=From-Botnet-V51-4-ICMP', 'flow=From-Botnet-V51-2-ICMP',\n",
       "       'flow=From-Botnet-V51-6-ICMP', 'flow=From-Botnet-V51-8-ICMP',\n",
       "       'flow=From-Botnet-V51-2-TCP-CC106-IRC-Not-Encrypted',\n",
       "       'flow=From-Botnet-V51-4-TCP-CC106-IRC-Not-Encrypted',\n",
       "       'flow=From-Botnet-V51-5-TCP-CC1-HTTP-Not-Encrypted',\n",
       "       'flow=From-Botnet-V51-8-TCP-Established',\n",
       "       'flow=From-Botnet-V51-9-TCP-CC1-HTTP-Not-Encrypted',\n",
       "       'flow=From-Botnet-V51-8-TCP-CC1-HTTP-Not-Encrypted',\n",
       "       'flow=From-Botnet-V51-1-TCP-Established'], dtype=object)"
      ]
     },
     "execution_count": 3,
     "metadata": {},
     "output_type": "execute_result"
    }
   ],
   "source": [
    "df = pd.read_csv(\"data/dataset_10/capture20110818.binetflow\")\n",
    "df.head()\n",
    "\n",
    "# Print unique values of labels\n",
    "df.Label.unique()"
   ]
  },
  {
   "cell_type": "code",
   "execution_count": 4,
   "metadata": {
    "collapsed": false,
    "jupyter": {
     "outputs_hidden": false
    },
    "tags": []
   },
   "outputs": [
    {
     "name": "stdout",
     "output_type": "stream",
     "text": [
      "Number of Nan values: \n",
      "StartTime         0\n",
      "Dur               0\n",
      "Proto             0\n",
      "SrcAddr           0\n",
      "Sport          6987\n",
      "Dir               0\n",
      "DstAddr           0\n",
      "Dport        104215\n",
      "State          1228\n",
      "sTos          12852\n",
      "dTos         186791\n",
      "TotPkts           0\n",
      "TotBytes          0\n",
      "SrcBytes          0\n",
      "Label             0\n",
      "dtype: int64\n",
      "####################################\n",
      "Types of features: \n",
      "StartTime :  <class 'str'>\n",
      "Dur :  <class 'numpy.float64'>\n",
      "Proto :  <class 'str'>\n",
      "SrcAddr :  <class 'str'>\n",
      "Sport :  <class 'str'>\n",
      "Dir :  <class 'str'>\n",
      "DstAddr :  <class 'str'>\n",
      "Dport :  <class 'str'>\n",
      "State :  <class 'str'>\n",
      "sTos :  <class 'numpy.float64'>\n",
      "dTos :  <class 'numpy.float64'>\n",
      "TotPkts :  <class 'numpy.int64'>\n",
      "TotBytes :  <class 'numpy.int64'>\n",
      "SrcBytes :  <class 'numpy.int64'>\n",
      "Label :  <class 'str'>\n",
      "####################################\n",
      "Number of unique values for each feature: \n",
      "StartTime :  1309789\n",
      "Dur :  515748\n",
      "Proto :  14\n",
      "SrcAddr :  151256\n",
      "Sport :  114793\n",
      "Dir :  6\n",
      "DstAddr :  72957\n",
      "Dport :  47046\n",
      "State :  332\n",
      "sTos :  6\n",
      "dTos :  5\n",
      "TotPkts :  3190\n",
      "TotBytes :  61767\n",
      "SrcBytes :  24267\n",
      "Label :  111\n"
     ]
    }
   ],
   "source": [
    "# Print the number of null values\n",
    "print(\"Number of Nan values: \")\n",
    "print(df.isnull().sum())\n",
    "print(\"####################################\")\n",
    "\n",
    "# Print types of features\n",
    "print(\"Types of features: \")\n",
    "for col in df.columns:\n",
    "    print(col, \": \", type(df[col][0]))\n",
    "print(\"####################################\")\n",
    "\n",
    "# Print the number of unique values for each feature\n",
    "print(\"Number of unique values for each feature: \")\n",
    "for col in df.columns:\n",
    "    print(col, \": \", len(df[col].unique()))"
   ]
  },
  {
   "cell_type": "code",
   "execution_count": 5,
   "metadata": {
    "collapsed": false,
    "jupyter": {
     "outputs_hidden": false
    },
    "tags": []
   },
   "outputs": [],
   "source": [
    "# Replace the Nan values of the sport and dport features with 0\n",
    "df['Sport'] = df['Sport'].fillna(\"-1\")\n",
    "df['Dport'] = df['Dport'].fillna(\"-1\")\n",
    "\n",
    "# Turn the hex values of the sport and dport features into int if it is a hex value\n",
    "df['Sport'] = df['Sport'].apply(lambda x: int(x, 16) if type(x) == str and x.startswith('0x') else x)\n",
    "df['Dport'] = df['Dport'].apply(lambda x: int(x, 16) if type(x) == str and x.startswith('0x') else x)\n",
    "\n",
    "\n",
    "# Change the type of the dport and sport features to int\n",
    "df['Sport'] = df['Sport'].astype(int)\n",
    "df['Dport'] = df['Dport'].astype(int)\n",
    "\n",
    "# Replace one NaN value of the State\n",
    "df['State'] = df['State'].fillna(\"None\")"
   ]
  },
  {
   "cell_type": "code",
   "execution_count": 6,
   "metadata": {
    "collapsed": false,
    "jupyter": {
     "outputs_hidden": false
    },
    "tags": []
   },
   "outputs": [
    {
     "name": "stdout",
     "output_type": "stream",
     "text": [
      "Range of values for each feature: \n",
      "Dur :  0.0  -  3600.019287\n",
      "Sport :  -1  -  65535\n",
      "Dport :  -1  -  539032744\n",
      "sTos :  0.0  -  192.0\n",
      "dTos :  0.0  -  3.0\n",
      "TotPkts :  1  -  1853001\n",
      "TotBytes :  60  -  1933022240\n",
      "SrcBytes :  0  -  1233899763\n"
     ]
    }
   ],
   "source": [
    "# Print the range of values for each feature\n",
    "print(\"Range of values for each feature: \")\n",
    "for col in df.columns:\n",
    "    if type(df[col][0]) == str:\n",
    "        continue\n",
    "    print(col, \": \", df[col].min(), \" - \", df[col].max())"
   ]
  },
  {
   "cell_type": "code",
   "execution_count": 7,
   "metadata": {
    "tags": []
   },
   "outputs": [
    {
     "name": "stdout",
     "output_type": "stream",
     "text": [
      "Unique values for each string feature: \n",
      "StartTime :  ['2011/08/18 10:21:46.633335' '2011/08/18 10:19:49.027650'\n",
      " '2011/08/18 10:22:07.160628' ... '2011/08/18 15:04:59.686325'\n",
      " '2011/08/18 15:04:59.690632' '2011/08/18 15:04:59.703972']\n",
      "Proto :  ['tcp' 'udp' 'icmp' 'pim' 'arp' 'ipx/spx' 'rtp' 'rtcp' 'igmp' 'ipv6-icmp'\n",
      " 'ipv6' 'esp' 'llc' 'udt']\n",
      "SrcAddr :  ['93.45.239.29' '62.240.166.118' '147.32.86.148' ... '197.252.19.173'\n",
      " '83.183.55.171' '177.16.175.252']\n",
      "Dir :  ['   ->' '  <?>' '   ?>' '  <->' '  who' '  <-']\n",
      "DstAddr :  ['147.32.84.118' '147.32.84.229' '66.235.132.232' ... '213.102.121.139'\n",
      " '60.234.51.66' '173.21.49.153']\n",
      "State :  ['S_RA' 'SRPA_PA' 'SR_SA' 'SRA_SA' 'SR_A' 'SRPA_FSPA' 'SRPA_SA' 'RA_'\n",
      " 'S_SRA' 'FSPA_FSRPA' 'FSA_FSA' 'FRPA_FPA' 'CON' 'PA_PA' 'A_FPA' 'FPA_FPA'\n",
      " 'INT' 'URP' 'RPA_FPA' 'FPA_FA' 'PA_FRA' 'FPA_FSPA' 'PA_A' 'A_PA' 'RA_FPA'\n",
      " 'PA_RPA' 'FRPAC_FPA' 'A_' 'S_' 'FSPA_FSPA' 'FA_A' 'RPA_PA' 'SRPA_SPA'\n",
      " 'FPA_FRA' 'R_' 'RSP' 'FA_FA' 'RED' 'SA_' 'FA_RA' 'FA_R' 'FPA_PA'\n",
      " 'SRPA_FSRPA' 'URN' 'FPA_FRPA' 'RA_FA' 'FA_' 'SPA_SPA' 'FPA_R' 'FA_FPA'\n",
      " 'FPA_RA' 'ECO' 'FRPA_RPA' 'FRA_FA' 'FA_FSA' 'FSRPA_FSPA' 'URFIL' 'PA_FPA'\n",
      " 'URH' 'FA_FRA' 'FPA_' 'FRA_' 'SPA_FSPA' 'S_SA' 'FSPA_FSA' '_FSPA'\n",
      " 'FSRPA_FSRPA' 'FRPA_' 'FS_SA' 'A_RA' 'FPA_RPA' 'SA_R' 'ECR' 'A_A' 'TXD'\n",
      " 'FSPA_SRPA' 'SPA_SRPA' 'FRPA_PA' 'PA_' 'FSRPA_SA' 'FSRPA_SPA' 'PA_RA'\n",
      " 'FRPA_FRPA' 'PA_FA' 'FSA_FSPA' 'SEC_RA' '_SPA' 'FSRA_FSA' 'SA_SA'\n",
      " 'FSPA_FSRA' 'FSA_SRA' 'FSA_FSRA' 'F_' 'URHPRO' 'NNS' 'FS_' 'SPA_FSRPA'\n",
      " 'A_R' 'SR_RA' '_SRA' 'FRPA_FA' 'RA_A' 'SRC' 'PA_R' 'SRPA_FSA' 'SPA_SRA'\n",
      " 'SA_SRA' '_FSA' 'SRPA_SRPA' 'FSPA_SPA' 'FSRPA_SRPA' 'SRA_FSA' 'SR_'\n",
      " 'FRA_FPA' 'NRS' 'SRA_RA' 'FSPA_SRA' 'SA_FSA' 'PA_PAC' 'FSPA_SA' 'SA_RA'\n",
      " 'FSPAC_FSPA' 'FSRA_SA' 'SPAC_SRPA' 'S_SPA' 'FSA_' 'FSAU_FSA' 'DCE'\n",
      " 'FSRA_FSPA' 'S_FRA' 'SRA_SPA' 'FSRPA_FSA' 'FSA_SA' 'FSRPAC_FSPA'\n",
      " 'SRA_FSPA' 'SRPA_FSPAC' 'SPAC_SPA' 'URO' '_SA' 'SA_RPA' 'SPA_FSRA'\n",
      " 'FSR_SA' 'FSRPA_FSRPAC' 'SA_SPA' 'URNPRO' 'RPA_RA' 'SPA_FSA' 'SRA_SRA'\n",
      " 'FSPAC_FSRA' 'URF' 'FSA_FPA' 'SEC_' 'SPA_SA' 'SPAC_FSPA' 'FSPA_FSPAC'\n",
      " 'PA_FSA' 'RA_S' 'PA_FSPA' 'FSPAEC_SPA' 'SRA_' 'FSPAEC_FSPA' 'FSRPA_SRA'\n",
      " 'None' 'REQ' 'PA_FRPA' 'FSRPA_FPA' 'RPA_FSRPA' 'FPA_A' 'RPA_A'\n",
      " 'FSPA_FRPA' 'PA_FSRPA' 'FPA_FSRPA' 'SR_SRA' 'SRPAC_FSRPA' 'SRPAC_FSPA'\n",
      " '_R' 'S_RPA' '_PA' 'SRPA_FSRA' '_RA' 'SA_FSRA' 'FSRPAC_SPA' 'A_FA' '_FPA'\n",
      " 'R_PA' 'FA_SA' 'SRPA_SRA' 'FPA_SRPA' 'FSA_A' 'FSPAC_FSRPA' 'SRPA_FRPA'\n",
      " 'S_R' 'SPAC_FSRPA' 'IRQ' 'SPA_' 'FSRPA_FSRA' 'UNK' 'MAS' 'TST' 'IRR'\n",
      " 'NRA' 'RTS' 'DNQ' 'RTA' 'ROB' 'MSR' 'TSR' 'SKP' 'SEC' 'PAR' 'AHA' 'MRP'\n",
      " 'DNP' 'MRQ' 'WAY' 'IAH' 'PTB' 'MHR' 'TRC' 'PHO' 'UR' 'NNA' 'URNU' 'URISO'\n",
      " 'URPRE' 'SPA_PA' 'PA_SPA' 'URHU' 'FSA_SPA' 'FSPA_FPA' 'URCUT' 'A_SPA'\n",
      " 'SRPA_FPA' 'SPA_A' 'URS' 'PA_SA' 'URHTOS' 'S_FA' 'FA_FSPA' 'FA_PA'\n",
      " 'FSA_FA' 'A_SA' 'SA_PA' 'S_A' 'SA_A' 'A_SRPA' 'RPA_FA' 'FSPA_PA' 'FSA_PA'\n",
      " 'RA_SA' 'RPA_FSPA' 'FPA_SA' 'FPA_SPA' 'SPA_FPA' 'FRPA_A' 'FPA_FSA'\n",
      " 'RPA_SPA' 'A_SRA' 'RPA_SA' 'SA_FPA' 'FRA_SPA' 'RA_PA' 'S_FSA' 'SA_FSPA'\n",
      " 'SPA_RA' 'SRA_FA' 'S_FPA' 'SA_FA' 'FRPA_FSPA' 'A_FRA' 'FA_RPA' 'SRA_FPA'\n",
      " 'SPA_RPA' 'SRA_PA' 'A_FSA' 'SA_FRA' 'S_PA' 'FRA_A' 'SA_SRPA' 'PA_SRA'\n",
      " 'PA_SRPA' 'FSPA_FA' 'FSPA_RPA' 'SRPA_RPA' 'PA_FSRA' 'FRA_PA' 'FSPAC_FA'\n",
      " '_' 'RPA_' 'FA_SRA' '_S' 'SPA_FA' 'FSA_FRA' 'FSPA_A' 'S_FSPA' 'FSRA_SRPA'\n",
      " 'RA_SPA' 'RPA_FSA' 'FSRA_FPA' 'FA_FRPA' 'SR_FPA' 'FSRA_PA' 'A_FSPA'\n",
      " 'FPA_SRA' 'SRA_A' 'RPA_RPA' 'RPA_FRPA' '_FRPA' 'FSRA_SPA' 'FSPAC_FSA'\n",
      " 'SRA_FSRA' 'FSPAC_SRPA' 'R_FPA' 'SRA_R' 'FRPA_R' 'SRPA_FSRPAC'\n",
      " 'FSRA_FSRA' 'RA_RA' 'SRC_SA' 'FSAU_SA' 'SRPAC_SPA' 'A_RPE' 'FSAU_FSRA'\n",
      " 'SA_S' 'PAC_PA' 'FRPA_SPA' 'FPA_FSRA' 'FRA_FRPA' 'RPA_SRPA' 'FAU_RA'\n",
      " 'SPA_FRPA' 'FRPA_FPAC']\n",
      "Label :  ['flow=Background-TCP-Attempt' 'flow=Background-TCP-Established'\n",
      " 'flow=Background-Established-cmpgw-CVUT' 'flow=To-Background-CVUT-Proxy'\n",
      " 'flow=Background' 'flow=Background-UDP-Established'\n",
      " 'flow=Background-UDP-Attempt' 'flow=From-Background-CVUT-Proxy'\n",
      " 'flow=To-Background-UDP-CVUT-DNS-Server' 'flow=To-Background-Grill'\n",
      " 'flow=Background-Attempt-cmpgw-CVUT'\n",
      " 'flow=Background-UDP-NTP-Established-1' 'flow=Background-google-webmail'\n",
      " 'flow=Background-google-analytics11' 'flow=From-Normal-V51-Grill'\n",
      " 'flow=Background-google-analytics10' 'flow=From-Normal-V51-Stribrek'\n",
      " 'flow=Background-google-analytics6' 'flow=To-Background-Stribrek'\n",
      " 'flow=Background-google-analytics9' 'flow=To-Background-CVUT-WebServer'\n",
      " 'flow=Background-google-analytics15' 'flow=Background-google-analytics2'\n",
      " 'flow=From-Normal-V51-Jist' 'flow=Background-google-analytics8'\n",
      " 'flow=To-Background-Jist' 'flow=Background-google-analytics3'\n",
      " 'flow=Background-google-analytics14' 'flow=To-Background-MatLab-Server'\n",
      " 'flow=To-Normal-V51-UDP-NTP-server' 'flow=Background-google-analytics13'\n",
      " 'flow=Background-google-analytics12' 'flow=Background-ajax.google'\n",
      " 'flow=Background-google-analytics4' 'flow=Background-google-analytics1'\n",
      " 'flow=Background-google-analytics16' 'flow=Background-google-analytics7'\n",
      " 'flow=Background-google-pop' 'flow=Background-google-analytics5'\n",
      " 'flow=From-Normal-V51-CVUT-WebServer' 'flow=Background-www.fel.cvut.cz'\n",
      " 'flow=From-Botnet-V51-1-UDP-DNS'\n",
      " 'flow=From-Botnet-V51-1-TCP-HTTP-Google-Net-Established-6'\n",
      " 'flow=From-Botnet-V51-1-UDP-Attempt' 'flow=From-Botnet-V51-2-UDP-DNS'\n",
      " 'flow=From-Botnet-V51-2-TCP-HTTP-Google-Net-Established-6'\n",
      " 'flow=From-Botnet-V51-2-UDP-Attempt' 'flow=From-Normal-V51-MatLab-Server'\n",
      " 'flow=From-Normal-V51-UDP-CVUT-DNS-Server'\n",
      " 'flow=From-Botnet-V51-3-UDP-DNS'\n",
      " 'flow=From-Botnet-V51-3-TCP-HTTP-Google-Net-Established-6'\n",
      " 'flow=From-Botnet-V51-3-UDP-Attempt' 'flow=From-Botnet-V51-4-UDP-DNS'\n",
      " 'flow=From-Botnet-V51-4-TCP-HTTP-Google-Net-Established-6'\n",
      " 'flow=From-Botnet-V51-4-UDP-Attempt' 'flow=From-Botnet-V51-5-UDP-DNS'\n",
      " 'flow=From-Botnet-V51-5-TCP-HTTP-Google-Net-Established-6'\n",
      " 'flow=From-Botnet-V51-5-UDP-Attempt' 'flow=From-Botnet-V51-6-UDP-DNS'\n",
      " 'flow=From-Botnet-V51-6-TCP-HTTP-Google-Net-Established-6'\n",
      " 'flow=From-Botnet-V51-6-UDP-Attempt' 'flow=From-Botnet-V51-7-UDP-DNS'\n",
      " 'flow=From-Botnet-V51-7-TCP-HTTP-Google-Net-Established-6'\n",
      " 'flow=From-Botnet-V51-7-UDP-Attempt' 'flow=From-Botnet-V51-8-UDP-DNS'\n",
      " 'flow=From-Botnet-V51-8-TCP-HTTP-Google-Net-Established-6'\n",
      " 'flow=From-Botnet-V51-8-UDP-Attempt' 'flow=From-Botnet-V51-9-UDP-DNS'\n",
      " 'flow=From-Botnet-V51-9-TCP-HTTP-Google-Net-Established-6'\n",
      " 'flow=From-Botnet-V51-9-UDP-Attempt' 'flow=From-Botnet-V51-10-UDP-DNS'\n",
      " 'flow=From-Botnet-V51-10-TCP-HTTP-Google-Net-Established-6'\n",
      " 'flow=From-Botnet-V51-10-UDP-Attempt'\n",
      " 'flow=From-Botnet-V51-10-TCP-CC106-IRC-Not-Encrypted'\n",
      " 'flow=From-Botnet-V51-9-TCP-CC106-IRC-Not-Encrypted'\n",
      " 'flow=From-Botnet-V51-1-TCP-WEB-Established'\n",
      " 'flow=From-Botnet-V51-8-TCP-CC106-IRC-Not-Encrypted'\n",
      " 'flow=From-Botnet-V51-7-TCP-CC106-IRC-Not-Encrypted'\n",
      " 'flow=From-Botnet-V51-5-TCP-CC106-IRC-Not-Encrypted'\n",
      " 'flow=From-Botnet-V51-3-TCP-CC106-IRC-Not-Encrypted'\n",
      " 'flow=From-Botnet-V51-1-TCP-CC106-IRC-Not-Encrypted'\n",
      " 'flow=From-Botnet-V51-2-TCP-Established'\n",
      " 'flow=From-Botnet-V51-4-TCP-Established'\n",
      " 'flow=From-Botnet-V51-6-TCP-CC106-IRC-Not-Encrypted'\n",
      " 'flow=From-Botnet-V51-10-TCP-WEB-Established'\n",
      " 'flow=From-Botnet-V51-9-TCP-Established-HTTP-Ad-62'\n",
      " 'flow=From-Botnet-V51-8-TCP-WEB-Established'\n",
      " 'flow=From-Botnet-V51-7-TCP-WEB-Established'\n",
      " 'flow=From-Botnet-V51-5-TCP-Established-HTTP-Ad-62'\n",
      " 'flow=From-Botnet-V51-3-TCP-Established-HTTP-Ad-62'\n",
      " 'flow=From-Botnet-V51-4-TCP-Established-HTTP-Ad-62'\n",
      " 'flow=From-Botnet-V51-2-TCP-WEB-Established'\n",
      " 'flow=Normal-V51-HTTP-windowsupdate'\n",
      " 'flow=From-Botnet-V51-6-TCP-WEB-Established'\n",
      " 'flow=From-Botnet-V51-5-ICMP' 'flow=From-Botnet-V51-3-ICMP'\n",
      " 'flow=From-Botnet-V51-1-ICMP' 'flow=From-Botnet-V51-7-ICMP'\n",
      " 'flow=From-Botnet-V51-10-ICMP' 'flow=From-Botnet-V51-9-ICMP'\n",
      " 'flow=From-Botnet-V51-4-ICMP' 'flow=From-Botnet-V51-2-ICMP'\n",
      " 'flow=From-Botnet-V51-6-ICMP' 'flow=From-Botnet-V51-8-ICMP'\n",
      " 'flow=From-Botnet-V51-2-TCP-CC106-IRC-Not-Encrypted'\n",
      " 'flow=From-Botnet-V51-4-TCP-CC106-IRC-Not-Encrypted'\n",
      " 'flow=From-Botnet-V51-5-TCP-CC1-HTTP-Not-Encrypted'\n",
      " 'flow=From-Botnet-V51-8-TCP-Established'\n",
      " 'flow=From-Botnet-V51-9-TCP-CC1-HTTP-Not-Encrypted'\n",
      " 'flow=From-Botnet-V51-8-TCP-CC1-HTTP-Not-Encrypted'\n",
      " 'flow=From-Botnet-V51-1-TCP-Established']\n"
     ]
    }
   ],
   "source": [
    "# Print unique strings of each feature\n",
    "print(\"Unique values for each string feature: \")\n",
    "for col in df.columns:\n",
    "    if type(df[col][0]) == str:\n",
    "        print(col, \": \", df[col].unique())"
   ]
  },
  {
   "cell_type": "code",
   "execution_count": 8,
   "metadata": {
    "collapsed": false,
    "jupyter": {
     "outputs_hidden": false
    },
    "tags": []
   },
   "outputs": [
    {
     "name": "stdout",
     "output_type": "stream",
     "text": [
      "Number of malicious flows:  106352\n",
      "Number of benign flows:  1203439\n"
     ]
    }
   ],
   "source": [
    "# Group the df into malicious and benign flows\n",
    "# The label of malicious flows contain the string 'Botnet'\n",
    "malicious_flows = df[df.Label.str.contains('Botnet')]\n",
    "benign_flows = df[~df.Label.str.contains('Botnet')]\n",
    "\n",
    "# Print the number of malicious and benign flows\n",
    "print(\"Number of malicious flows: \", len(malicious_flows))\n",
    "print(\"Number of benign flows: \", len(benign_flows))"
   ]
  },
  {
   "cell_type": "code",
   "execution_count": 9,
   "metadata": {
    "collapsed": false,
    "jupyter": {
     "outputs_hidden": false
    },
    "tags": []
   },
   "outputs": [
    {
     "data": {
      "text/html": [
       "<div>\n",
       "<style scoped>\n",
       "    .dataframe tbody tr th:only-of-type {\n",
       "        vertical-align: middle;\n",
       "    }\n",
       "\n",
       "    .dataframe tbody tr th {\n",
       "        vertical-align: top;\n",
       "    }\n",
       "\n",
       "    .dataframe thead th {\n",
       "        text-align: right;\n",
       "    }\n",
       "</style>\n",
       "<table border=\"1\" class=\"dataframe\">\n",
       "  <thead>\n",
       "    <tr style=\"text-align: right;\">\n",
       "      <th></th>\n",
       "      <th>StartTime</th>\n",
       "      <th>Dur</th>\n",
       "      <th>Proto</th>\n",
       "      <th>SrcAddr</th>\n",
       "      <th>Sport</th>\n",
       "      <th>Dir</th>\n",
       "      <th>DstAddr</th>\n",
       "      <th>Dport</th>\n",
       "      <th>State</th>\n",
       "      <th>sTos</th>\n",
       "      <th>dTos</th>\n",
       "      <th>TotPkts</th>\n",
       "      <th>TotBytes</th>\n",
       "      <th>SrcBytes</th>\n",
       "      <th>Label</th>\n",
       "    </tr>\n",
       "  </thead>\n",
       "  <tbody>\n",
       "    <tr>\n",
       "      <th>90622</th>\n",
       "      <td>2011/08/18 10:37:58.448307</td>\n",
       "      <td>0.000342</td>\n",
       "      <td>udp</td>\n",
       "      <td>147.32.84.165</td>\n",
       "      <td>1025</td>\n",
       "      <td>&lt;-&gt;</td>\n",
       "      <td>147.32.80.9</td>\n",
       "      <td>53</td>\n",
       "      <td>CON</td>\n",
       "      <td>0.0</td>\n",
       "      <td>0.0</td>\n",
       "      <td>2</td>\n",
       "      <td>203</td>\n",
       "      <td>64</td>\n",
       "      <td>flow=From-Botnet-V51-1-UDP-DNS</td>\n",
       "    </tr>\n",
       "    <tr>\n",
       "      <th>90808</th>\n",
       "      <td>2011/08/18 10:38:00.695278</td>\n",
       "      <td>0.010278</td>\n",
       "      <td>udp</td>\n",
       "      <td>147.32.84.165</td>\n",
       "      <td>1025</td>\n",
       "      <td>&lt;-&gt;</td>\n",
       "      <td>147.32.80.9</td>\n",
       "      <td>53</td>\n",
       "      <td>CON</td>\n",
       "      <td>0.0</td>\n",
       "      <td>0.0</td>\n",
       "      <td>2</td>\n",
       "      <td>590</td>\n",
       "      <td>87</td>\n",
       "      <td>flow=From-Botnet-V51-1-UDP-DNS</td>\n",
       "    </tr>\n",
       "    <tr>\n",
       "      <th>90809</th>\n",
       "      <td>2011/08/18 10:38:00.706560</td>\n",
       "      <td>0.043726</td>\n",
       "      <td>tcp</td>\n",
       "      <td>147.32.84.165</td>\n",
       "      <td>1027</td>\n",
       "      <td>-&gt;</td>\n",
       "      <td>74.125.232.206</td>\n",
       "      <td>80</td>\n",
       "      <td>SRPA_SPA</td>\n",
       "      <td>0.0</td>\n",
       "      <td>0.0</td>\n",
       "      <td>7</td>\n",
       "      <td>882</td>\n",
       "      <td>629</td>\n",
       "      <td>flow=From-Botnet-V51-1-TCP-HTTP-Google-Net-Est...</td>\n",
       "    </tr>\n",
       "    <tr>\n",
       "      <th>90965</th>\n",
       "      <td>2011/08/18 10:38:03.255934</td>\n",
       "      <td>0.010256</td>\n",
       "      <td>udp</td>\n",
       "      <td>147.32.84.165</td>\n",
       "      <td>1025</td>\n",
       "      <td>&lt;-&gt;</td>\n",
       "      <td>147.32.80.9</td>\n",
       "      <td>53</td>\n",
       "      <td>CON</td>\n",
       "      <td>0.0</td>\n",
       "      <td>0.0</td>\n",
       "      <td>2</td>\n",
       "      <td>479</td>\n",
       "      <td>76</td>\n",
       "      <td>flow=From-Botnet-V51-1-UDP-DNS</td>\n",
       "    </tr>\n",
       "    <tr>\n",
       "      <th>90968</th>\n",
       "      <td>2011/08/18 10:38:03.267222</td>\n",
       "      <td>581.516663</td>\n",
       "      <td>udp</td>\n",
       "      <td>147.32.84.165</td>\n",
       "      <td>123</td>\n",
       "      <td>-&gt;</td>\n",
       "      <td>65.55.56.40</td>\n",
       "      <td>123</td>\n",
       "      <td>INT</td>\n",
       "      <td>0.0</td>\n",
       "      <td>NaN</td>\n",
       "      <td>4</td>\n",
       "      <td>360</td>\n",
       "      <td>360</td>\n",
       "      <td>flow=From-Botnet-V51-1-UDP-Attempt</td>\n",
       "    </tr>\n",
       "  </tbody>\n",
       "</table>\n",
       "</div>"
      ],
      "text/plain": [
       "                        StartTime         Dur Proto        SrcAddr  Sport  \\\n",
       "90622  2011/08/18 10:37:58.448307    0.000342   udp  147.32.84.165   1025   \n",
       "90808  2011/08/18 10:38:00.695278    0.010278   udp  147.32.84.165   1025   \n",
       "90809  2011/08/18 10:38:00.706560    0.043726   tcp  147.32.84.165   1027   \n",
       "90965  2011/08/18 10:38:03.255934    0.010256   udp  147.32.84.165   1025   \n",
       "90968  2011/08/18 10:38:03.267222  581.516663   udp  147.32.84.165    123   \n",
       "\n",
       "         Dir         DstAddr  Dport     State  sTos  dTos  TotPkts  TotBytes  \\\n",
       "90622    <->     147.32.80.9     53       CON   0.0   0.0        2       203   \n",
       "90808    <->     147.32.80.9     53       CON   0.0   0.0        2       590   \n",
       "90809     ->  74.125.232.206     80  SRPA_SPA   0.0   0.0        7       882   \n",
       "90965    <->     147.32.80.9     53       CON   0.0   0.0        2       479   \n",
       "90968     ->     65.55.56.40    123       INT   0.0   NaN        4       360   \n",
       "\n",
       "       SrcBytes                                              Label  \n",
       "90622        64                     flow=From-Botnet-V51-1-UDP-DNS  \n",
       "90808        87                     flow=From-Botnet-V51-1-UDP-DNS  \n",
       "90809       629  flow=From-Botnet-V51-1-TCP-HTTP-Google-Net-Est...  \n",
       "90965        76                     flow=From-Botnet-V51-1-UDP-DNS  \n",
       "90968       360                 flow=From-Botnet-V51-1-UDP-Attempt  "
      ]
     },
     "metadata": {},
     "output_type": "display_data"
    },
    {
     "data": {
      "text/html": [
       "<div>\n",
       "<style scoped>\n",
       "    .dataframe tbody tr th:only-of-type {\n",
       "        vertical-align: middle;\n",
       "    }\n",
       "\n",
       "    .dataframe tbody tr th {\n",
       "        vertical-align: top;\n",
       "    }\n",
       "\n",
       "    .dataframe thead th {\n",
       "        text-align: right;\n",
       "    }\n",
       "</style>\n",
       "<table border=\"1\" class=\"dataframe\">\n",
       "  <thead>\n",
       "    <tr style=\"text-align: right;\">\n",
       "      <th></th>\n",
       "      <th>StartTime</th>\n",
       "      <th>Dur</th>\n",
       "      <th>Proto</th>\n",
       "      <th>SrcAddr</th>\n",
       "      <th>Sport</th>\n",
       "      <th>Dir</th>\n",
       "      <th>DstAddr</th>\n",
       "      <th>Dport</th>\n",
       "      <th>State</th>\n",
       "      <th>sTos</th>\n",
       "      <th>dTos</th>\n",
       "      <th>TotPkts</th>\n",
       "      <th>TotBytes</th>\n",
       "      <th>SrcBytes</th>\n",
       "      <th>Label</th>\n",
       "    </tr>\n",
       "  </thead>\n",
       "  <tbody>\n",
       "    <tr>\n",
       "      <th>0</th>\n",
       "      <td>2011/08/18 10:21:46.633335</td>\n",
       "      <td>1.060248</td>\n",
       "      <td>tcp</td>\n",
       "      <td>93.45.239.29</td>\n",
       "      <td>1611</td>\n",
       "      <td>-&gt;</td>\n",
       "      <td>147.32.84.118</td>\n",
       "      <td>6881</td>\n",
       "      <td>S_RA</td>\n",
       "      <td>0.0</td>\n",
       "      <td>0.0</td>\n",
       "      <td>4</td>\n",
       "      <td>252</td>\n",
       "      <td>132</td>\n",
       "      <td>flow=Background-TCP-Attempt</td>\n",
       "    </tr>\n",
       "    <tr>\n",
       "      <th>1</th>\n",
       "      <td>2011/08/18 10:19:49.027650</td>\n",
       "      <td>279.349152</td>\n",
       "      <td>tcp</td>\n",
       "      <td>62.240.166.118</td>\n",
       "      <td>1031</td>\n",
       "      <td>&lt;?&gt;</td>\n",
       "      <td>147.32.84.229</td>\n",
       "      <td>13363</td>\n",
       "      <td>SRPA_PA</td>\n",
       "      <td>0.0</td>\n",
       "      <td>0.0</td>\n",
       "      <td>15</td>\n",
       "      <td>1318</td>\n",
       "      <td>955</td>\n",
       "      <td>flow=Background-TCP-Attempt</td>\n",
       "    </tr>\n",
       "    <tr>\n",
       "      <th>2</th>\n",
       "      <td>2011/08/18 10:22:07.160628</td>\n",
       "      <td>166.390015</td>\n",
       "      <td>tcp</td>\n",
       "      <td>147.32.86.148</td>\n",
       "      <td>58067</td>\n",
       "      <td>-&gt;</td>\n",
       "      <td>66.235.132.232</td>\n",
       "      <td>80</td>\n",
       "      <td>SR_SA</td>\n",
       "      <td>0.0</td>\n",
       "      <td>0.0</td>\n",
       "      <td>3</td>\n",
       "      <td>212</td>\n",
       "      <td>134</td>\n",
       "      <td>flow=Background-TCP-Established</td>\n",
       "    </tr>\n",
       "    <tr>\n",
       "      <th>3</th>\n",
       "      <td>2011/08/18 10:26:02.052163</td>\n",
       "      <td>1.187083</td>\n",
       "      <td>tcp</td>\n",
       "      <td>147.32.3.51</td>\n",
       "      <td>3130</td>\n",
       "      <td>-&gt;</td>\n",
       "      <td>147.32.84.46</td>\n",
       "      <td>10010</td>\n",
       "      <td>S_RA</td>\n",
       "      <td>0.0</td>\n",
       "      <td>0.0</td>\n",
       "      <td>4</td>\n",
       "      <td>244</td>\n",
       "      <td>124</td>\n",
       "      <td>flow=Background-TCP-Attempt</td>\n",
       "    </tr>\n",
       "    <tr>\n",
       "      <th>4</th>\n",
       "      <td>2011/08/18 10:26:52.226748</td>\n",
       "      <td>0.980571</td>\n",
       "      <td>tcp</td>\n",
       "      <td>88.212.37.169</td>\n",
       "      <td>3134</td>\n",
       "      <td>-&gt;</td>\n",
       "      <td>147.32.84.118</td>\n",
       "      <td>6881</td>\n",
       "      <td>S_RA</td>\n",
       "      <td>0.0</td>\n",
       "      <td>0.0</td>\n",
       "      <td>4</td>\n",
       "      <td>244</td>\n",
       "      <td>124</td>\n",
       "      <td>flow=Background-TCP-Attempt</td>\n",
       "    </tr>\n",
       "  </tbody>\n",
       "</table>\n",
       "</div>"
      ],
      "text/plain": [
       "                    StartTime         Dur Proto         SrcAddr  Sport    Dir  \\\n",
       "0  2011/08/18 10:21:46.633335    1.060248   tcp    93.45.239.29   1611     ->   \n",
       "1  2011/08/18 10:19:49.027650  279.349152   tcp  62.240.166.118   1031    <?>   \n",
       "2  2011/08/18 10:22:07.160628  166.390015   tcp   147.32.86.148  58067     ->   \n",
       "3  2011/08/18 10:26:02.052163    1.187083   tcp     147.32.3.51   3130     ->   \n",
       "4  2011/08/18 10:26:52.226748    0.980571   tcp   88.212.37.169   3134     ->   \n",
       "\n",
       "          DstAddr  Dport    State  sTos  dTos  TotPkts  TotBytes  SrcBytes  \\\n",
       "0   147.32.84.118   6881     S_RA   0.0   0.0        4       252       132   \n",
       "1   147.32.84.229  13363  SRPA_PA   0.0   0.0       15      1318       955   \n",
       "2  66.235.132.232     80    SR_SA   0.0   0.0        3       212       134   \n",
       "3    147.32.84.46  10010     S_RA   0.0   0.0        4       244       124   \n",
       "4   147.32.84.118   6881     S_RA   0.0   0.0        4       244       124   \n",
       "\n",
       "                             Label  \n",
       "0      flow=Background-TCP-Attempt  \n",
       "1      flow=Background-TCP-Attempt  \n",
       "2  flow=Background-TCP-Established  \n",
       "3      flow=Background-TCP-Attempt  \n",
       "4      flow=Background-TCP-Attempt  "
      ]
     },
     "metadata": {},
     "output_type": "display_data"
    }
   ],
   "source": [
    "display(malicious_flows.head())\n",
    "display(benign_flows.head())"
   ]
  },
  {
   "cell_type": "code",
   "execution_count": 10,
   "metadata": {
    "collapsed": false,
    "jupyter": {
     "outputs_hidden": false
    },
    "tags": []
   },
   "outputs": [
    {
     "name": "stdout",
     "output_type": "stream",
     "text": [
      "Number of Nan values in malicious flows: \n",
      "StartTime         0\n",
      "Dur               0\n",
      "Proto             0\n",
      "SrcAddr           0\n",
      "Sport             0\n",
      "Dir               0\n",
      "DstAddr           0\n",
      "Dport             0\n",
      "State             0\n",
      "sTos              0\n",
      "dTos         106116\n",
      "TotPkts           0\n",
      "TotBytes          0\n",
      "SrcBytes          0\n",
      "Label             0\n",
      "dtype: int64\n",
      "Number of Nan values in benign flows: \n",
      "StartTime        0\n",
      "Dur              0\n",
      "Proto            0\n",
      "SrcAddr          0\n",
      "Sport            0\n",
      "Dir              0\n",
      "DstAddr          0\n",
      "Dport            0\n",
      "State            0\n",
      "sTos         12852\n",
      "dTos         80675\n",
      "TotPkts          0\n",
      "TotBytes         0\n",
      "SrcBytes         0\n",
      "Label            0\n",
      "dtype: int64\n"
     ]
    }
   ],
   "source": [
    "# Find Nan values\n",
    "print(\"Number of Nan values in malicious flows: \")\n",
    "print(malicious_flows.isnull().sum())\n",
    "print(\"Number of Nan values in benign flows: \")\n",
    "print(benign_flows.isnull().sum())"
   ]
  },
  {
   "cell_type": "code",
   "execution_count": 11,
   "metadata": {
    "collapsed": false,
    "jupyter": {
     "outputs_hidden": false
    },
    "tags": []
   },
   "outputs": [
    {
     "name": "stdout",
     "output_type": "stream",
     "text": [
      "Float values of state in malicious flows: \n",
      "Empty DataFrame\n",
      "Columns: [StartTime, Dur, Proto, SrcAddr, Sport, Dir, DstAddr, Dport, State, sTos, dTos, TotPkts, TotBytes, SrcBytes, Label]\n",
      "Index: []\n"
     ]
    }
   ],
   "source": [
    "# Print out the float values of state\n",
    "print(\"Float values of state in malicious flows: \")\n",
    "print(malicious_flows[malicious_flows['State'].apply(lambda x: type(x) == float)])"
   ]
  },
  {
   "cell_type": "code",
   "execution_count": 12,
   "metadata": {
    "collapsed": false,
    "jupyter": {
     "outputs_hidden": false
    },
    "tags": []
   },
   "outputs": [
    {
     "name": "stderr",
     "output_type": "stream",
     "text": [
      "/tmp/ipykernel_32/3458801520.py:2: SettingWithCopyWarning: \n",
      "A value is trying to be set on a copy of a slice from a DataFrame.\n",
      "Try using .loc[row_indexer,col_indexer] = value instead\n",
      "\n",
      "See the caveats in the documentation: https://pandas.pydata.org/pandas-docs/stable/user_guide/indexing.html#returning-a-view-versus-a-copy\n",
      "  malicious_flows['State'] = malicious_flows['State'].apply(lambda x: \"None\" if type(x) == float else x)\n"
     ]
    }
   ],
   "source": [
    "# Convert floats to None in state\n",
    "malicious_flows['State'] = malicious_flows['State'].apply(lambda x: \"None\" if type(x) == float else x)"
   ]
  },
  {
   "cell_type": "code",
   "execution_count": 13,
   "metadata": {
    "collapsed": false,
    "jupyter": {
     "outputs_hidden": false
    },
    "tags": []
   },
   "outputs": [
    {
     "data": {
      "text/plain": [
       "<matplotlib.legend.Legend at 0x7f4e8d30c040>"
      ]
     },
     "execution_count": 13,
     "metadata": {},
     "output_type": "execute_result"
    },
    {
     "data": {
      "image/png": "[encoded data removed]",
      "text/plain": [
       "<Figure size 1500x500 with 2 Axes>"
      ]
     },
     "metadata": {},
     "output_type": "display_data"
    }
   ],
   "source": [
    "# Visualize the distribution of the features\n",
    "\n",
    "# Select two features\n",
    "feature1 = 'Proto'\n",
    "feature2 = 'Dir'\n",
    "\n",
    "# Plot the distribution of the features normalized\n",
    "fig, ax = plt.subplots(1, 2, figsize=(15, 5))\n",
    "# ax[0].hist(malicious_flows[feature1], bins=50, alpha=0.5, label='malicious flows', density=True)\n",
    "# ax[0].hist(benign_flows[feature1], bins=50, alpha=0.5, label='benign flows', density=True)\n",
    "ax[0].bar(malicious_flows[feature1].unique(), malicious_flows[feature1].value_counts(normalize=True), alpha=0.5, label='malicious flows')\n",
    "ax[0].bar(benign_flows[feature1].unique(), benign_flows[feature1].value_counts(normalize=True), alpha=0.5, label='benign flows')\n",
    "ax[1].bar(malicious_flows[feature2].unique(), malicious_flows[feature2].value_counts(normalize=True), alpha=0.5, label='malicious flows')\n",
    "ax[1].bar(benign_flows[feature2].unique(), benign_flows[feature2].value_counts(normalize=True), alpha=0.5, label='benign flows')\n",
    "ax[0].set_yscale(\"log\")\n",
    "ax[1].set_yscale(\"log\")\n",
    "ax[0].legend()\n",
    "ax[1].legend()"
   ]
  },
  {
   "cell_type": "markdown",
   "metadata": {},
   "source": [
    "### 1b. Discretize selected features"
   ]
  },
  {
   "cell_type": "code",
   "execution_count": 77,
   "metadata": {
    "tags": []
   },
   "outputs": [],
   "source": [
    "def netflow_discretize(data_df, feature_maps):\n",
    "    \"\"\"Netflow encoding using attribute mappings.\n",
    "\n",
    "    Attribues:\n",
    "        data_df (pd.DataFrame): data with features used in discretization\n",
    "        feature_maps (Dict[str, LabelEncoder]): map of attributes to their encoders\n",
    "    \"\"\"\n",
    "    attr_count = np.prod([len(feature_maps[attr].classes_) for attr in feature_maps])\n",
    "    codes = []\n",
    "    for index, row in data_df.iterrows():\n",
    "        code = 0\n",
    "        space_size = attr_count\n",
    "        for col, val in row.items():\n",
    "            new_space_size = (float(space_size) / float(len(feature_maps[col].classes_)))\n",
    "            code += feature_maps[col].transform([val])[0] * new_space_size\n",
    "            space_size = new_space_size\n",
    "        codes.append(code)\n",
    "    data_df['code'] = codes\n",
    "    return data_df"
   ]
  },
  {
   "cell_type": "code",
   "execution_count": 78,
   "metadata": {
    "tags": []
   },
   "outputs": [
    {
     "data": {
      "text/plain": [
       "'147.32.84.205'"
      ]
     },
     "execution_count": 78,
     "metadata": {},
     "output_type": "execute_result"
    }
   ],
   "source": [
    "most_evil_host = malicious_flows[\"SrcAddr\"].value_counts().index[0]\n",
    "most_evil_host"
   ]
  },
  {
   "cell_type": "code",
   "execution_count": 79,
   "metadata": {
    "tags": []
   },
   "outputs": [
    {
     "data": {
      "text/html": [
       "<div>\n",
       "<style scoped>\n",
       "    .dataframe tbody tr th:only-of-type {\n",
       "        vertical-align: middle;\n",
       "    }\n",
       "\n",
       "    .dataframe tbody tr th {\n",
       "        vertical-align: top;\n",
       "    }\n",
       "\n",
       "    .dataframe thead th {\n",
       "        text-align: right;\n",
       "    }\n",
       "</style>\n",
       "<table border=\"1\" class=\"dataframe\">\n",
       "  <thead>\n",
       "    <tr style=\"text-align: right;\">\n",
       "      <th></th>\n",
       "      <th>Proto</th>\n",
       "      <th>Dir</th>\n",
       "    </tr>\n",
       "  </thead>\n",
       "  <tbody>\n",
       "    <tr>\n",
       "      <th>172713</th>\n",
       "      <td>udp</td>\n",
       "      <td>&lt;-&gt;</td>\n",
       "    </tr>\n",
       "    <tr>\n",
       "      <th>172838</th>\n",
       "      <td>udp</td>\n",
       "      <td>&lt;-&gt;</td>\n",
       "    </tr>\n",
       "    <tr>\n",
       "      <th>172839</th>\n",
       "      <td>tcp</td>\n",
       "      <td>-&gt;</td>\n",
       "    </tr>\n",
       "    <tr>\n",
       "      <th>172971</th>\n",
       "      <td>udp</td>\n",
       "      <td>&lt;-&gt;</td>\n",
       "    </tr>\n",
       "    <tr>\n",
       "      <th>172972</th>\n",
       "      <td>udp</td>\n",
       "      <td>-&gt;</td>\n",
       "    </tr>\n",
       "    <tr>\n",
       "      <th>...</th>\n",
       "      <td>...</td>\n",
       "      <td>...</td>\n",
       "    </tr>\n",
       "    <tr>\n",
       "      <th>1279287</th>\n",
       "      <td>tcp</td>\n",
       "      <td>-&gt;</td>\n",
       "    </tr>\n",
       "    <tr>\n",
       "      <th>1279536</th>\n",
       "      <td>udp</td>\n",
       "      <td>&lt;-&gt;</td>\n",
       "    </tr>\n",
       "    <tr>\n",
       "      <th>1279537</th>\n",
       "      <td>tcp</td>\n",
       "      <td>-&gt;</td>\n",
       "    </tr>\n",
       "    <tr>\n",
       "      <th>1279773</th>\n",
       "      <td>udp</td>\n",
       "      <td>&lt;-&gt;</td>\n",
       "    </tr>\n",
       "    <tr>\n",
       "      <th>1279774</th>\n",
       "      <td>udp</td>\n",
       "      <td>-&gt;</td>\n",
       "    </tr>\n",
       "  </tbody>\n",
       "</table>\n",
       "<p>11875 rows × 2 columns</p>\n",
       "</div>"
      ],
      "text/plain": [
       "        Proto    Dir\n",
       "172713    udp    <->\n",
       "172838    udp    <->\n",
       "172839    tcp     ->\n",
       "172971    udp    <->\n",
       "172972    udp     ->\n",
       "...       ...    ...\n",
       "1279287   tcp     ->\n",
       "1279536   udp    <->\n",
       "1279537   tcp     ->\n",
       "1279773   udp    <->\n",
       "1279774   udp     ->\n",
       "\n",
       "[11875 rows x 2 columns]"
      ]
     },
     "execution_count": 79,
     "metadata": {},
     "output_type": "execute_result"
    }
   ],
   "source": [
    "feat1_enc = LabelEncoder().fit(df[feature1])\n",
    "feat2_enc = LabelEncoder().fit(df[feature2])\n",
    "feat_map = {feature1:feat1_enc, feature2:feat2_enc}\n",
    "\n",
    "host_df = df[df[\"SrcAddr\"] == most_evil_host][[feature1, feature2]]\n",
    "host_df"
   ]
  },
  {
   "cell_type": "code",
   "execution_count": 80,
   "metadata": {
    "tags": []
   },
   "outputs": [
    {
     "name": "stdout",
     "output_type": "stream",
     "text": [
      "[['udp' '  <->']\n",
      " ['udp' '  <->']\n",
      " ['tcp' '   ->']\n",
      " ...\n",
      " ['tcp' '   ->']\n",
      " ['udp' '  <->']\n",
      " ['udp' '   ->']]\n"
     ]
    },
    {
     "data": {
      "text/html": [
       "<div>\n",
       "<style scoped>\n",
       "    .dataframe tbody tr th:only-of-type {\n",
       "        vertical-align: middle;\n",
       "    }\n",
       "\n",
       "    .dataframe tbody tr th {\n",
       "        vertical-align: top;\n",
       "    }\n",
       "\n",
       "    .dataframe thead th {\n",
       "        text-align: right;\n",
       "    }\n",
       "</style>\n",
       "<table border=\"1\" class=\"dataframe\">\n",
       "  <thead>\n",
       "    <tr style=\"text-align: right;\">\n",
       "      <th></th>\n",
       "      <th>Proto</th>\n",
       "      <th>Dir</th>\n",
       "      <th>code</th>\n",
       "    </tr>\n",
       "  </thead>\n",
       "  <tbody>\n",
       "    <tr>\n",
       "      <th>172713</th>\n",
       "      <td>udp</td>\n",
       "      <td>&lt;-&gt;</td>\n",
       "      <td>75.0</td>\n",
       "    </tr>\n",
       "    <tr>\n",
       "      <th>172838</th>\n",
       "      <td>udp</td>\n",
       "      <td>&lt;-&gt;</td>\n",
       "      <td>75.0</td>\n",
       "    </tr>\n",
       "    <tr>\n",
       "      <th>172839</th>\n",
       "      <td>tcp</td>\n",
       "      <td>-&gt;</td>\n",
       "      <td>66.0</td>\n",
       "    </tr>\n",
       "    <tr>\n",
       "      <th>172971</th>\n",
       "      <td>udp</td>\n",
       "      <td>&lt;-&gt;</td>\n",
       "      <td>75.0</td>\n",
       "    </tr>\n",
       "    <tr>\n",
       "      <th>172972</th>\n",
       "      <td>udp</td>\n",
       "      <td>-&gt;</td>\n",
       "      <td>72.0</td>\n",
       "    </tr>\n",
       "    <tr>\n",
       "      <th>...</th>\n",
       "      <td>...</td>\n",
       "      <td>...</td>\n",
       "      <td>...</td>\n",
       "    </tr>\n",
       "    <tr>\n",
       "      <th>1279287</th>\n",
       "      <td>tcp</td>\n",
       "      <td>-&gt;</td>\n",
       "      <td>66.0</td>\n",
       "    </tr>\n",
       "    <tr>\n",
       "      <th>1279536</th>\n",
       "      <td>udp</td>\n",
       "      <td>&lt;-&gt;</td>\n",
       "      <td>75.0</td>\n",
       "    </tr>\n",
       "    <tr>\n",
       "      <th>1279537</th>\n",
       "      <td>tcp</td>\n",
       "      <td>-&gt;</td>\n",
       "      <td>66.0</td>\n",
       "    </tr>\n",
       "    <tr>\n",
       "      <th>1279773</th>\n",
       "      <td>udp</td>\n",
       "      <td>&lt;-&gt;</td>\n",
       "      <td>75.0</td>\n",
       "    </tr>\n",
       "    <tr>\n",
       "      <th>1279774</th>\n",
       "      <td>udp</td>\n",
       "      <td>-&gt;</td>\n",
       "      <td>72.0</td>\n",
       "    </tr>\n",
       "  </tbody>\n",
       "</table>\n",
       "<p>11875 rows × 3 columns</p>\n",
       "</div>"
      ],
      "text/plain": [
       "        Proto    Dir  code\n",
       "172713    udp    <->  75.0\n",
       "172838    udp    <->  75.0\n",
       "172839    tcp     ->  66.0\n",
       "172971    udp    <->  75.0\n",
       "172972    udp     ->  72.0\n",
       "...       ...    ...   ...\n",
       "1279287   tcp     ->  66.0\n",
       "1279536   udp    <->  75.0\n",
       "1279537   tcp     ->  66.0\n",
       "1279773   udp    <->  75.0\n",
       "1279774   udp     ->  72.0\n",
       "\n",
       "[11875 rows x 3 columns]"
      ]
     },
     "execution_count": 80,
     "metadata": {},
     "output_type": "execute_result"
    }
   ],
   "source": [
    "discretized_malicious_df = netflow_discretize(host_df, feat_map)\n",
    "discretized_malicious_df"
   ]
  },
  {
   "cell_type": "code",
   "execution_count": 76,
   "metadata": {
    "tags": []
   },
   "outputs": [
    {
     "ename": "KeyboardInterrupt",
     "evalue": "",
     "output_type": "error",
     "traceback": [
      "\u001b[0;31m---------------------------------------------------------------------------\u001b[0m",
      "\u001b[0;31mKeyboardInterrupt\u001b[0m                         Traceback (most recent call last)",
      "Cell \u001b[0;32mIn[76], line 2\u001b[0m\n\u001b[1;32m      1\u001b[0m benign_hosts_df \u001b[38;5;241m=\u001b[39m benign_flows[[feature1, feature2]]\n\u001b[0;32m----> 2\u001b[0m discretized_benign_df \u001b[38;5;241m=\u001b[39m \u001b[43mnetflow_discretize\u001b[49m\u001b[43m(\u001b[49m\u001b[43mbenign_hosts_df\u001b[49m\u001b[43m,\u001b[49m\u001b[43m \u001b[49m\u001b[43mfeat_map\u001b[49m\u001b[43m)\u001b[49m\n\u001b[1;32m      3\u001b[0m discretized_benign_df\n",
      "Cell \u001b[0;32mIn[68], line 15\u001b[0m, in \u001b[0;36mnetflow_discretize\u001b[0;34m(data_df, feature_maps)\u001b[0m\n\u001b[1;32m     13\u001b[0m \u001b[38;5;28;01mfor\u001b[39;00m col, val \u001b[38;5;129;01min\u001b[39;00m row\u001b[38;5;241m.\u001b[39mitems():\n\u001b[1;32m     14\u001b[0m     new_space_size \u001b[38;5;241m=\u001b[39m (\u001b[38;5;28mfloat\u001b[39m(space_size) \u001b[38;5;241m/\u001b[39m \u001b[38;5;28mfloat\u001b[39m(\u001b[38;5;28mlen\u001b[39m(feature_maps[col]\u001b[38;5;241m.\u001b[39mclasses_)))\n\u001b[0;32m---> 15\u001b[0m     code \u001b[38;5;241m+\u001b[39m\u001b[38;5;241m=\u001b[39m \u001b[43mfeature_maps\u001b[49m\u001b[43m[\u001b[49m\u001b[43mcol\u001b[49m\u001b[43m]\u001b[49m\u001b[38;5;241;43m.\u001b[39;49m\u001b[43mtransform\u001b[49m\u001b[43m(\u001b[49m\u001b[43m[\u001b[49m\u001b[43mval\u001b[49m\u001b[43m]\u001b[49m\u001b[43m)\u001b[49m\u001b[43m[\u001b[49m\u001b[38;5;241;43m0\u001b[39;49m\u001b[43m]\u001b[49m\u001b[43m \u001b[49m\u001b[38;5;241;43m*\u001b[39;49m\u001b[43m \u001b[49m\u001b[43mnew_space_size\u001b[49m\n\u001b[1;32m     16\u001b[0m     space_size \u001b[38;5;241m=\u001b[39m new_space_size\n\u001b[1;32m     17\u001b[0m codes\u001b[38;5;241m.\u001b[39mappend(code)\n",
      "\u001b[0;31mKeyboardInterrupt\u001b[0m: "
     ]
    }
   ],
   "source": [
    "benign_hosts_df = benign_flows[[feature1, feature2]]\n",
    "discretized_benign_df = netflow_discretize(benign_hosts_df, feat_map)\n",
    "discretized_benign_df"
   ]
  },
  {
   "cell_type": "markdown",
   "metadata": {},
   "source": [
    "### 1c. Answers and explanation"
   ]
  },
  {
   "cell_type": "code",
   "execution_count": null,
   "metadata": {},
   "outputs": [],
   "source": []
  },
  {
   "cell_type": "markdown",
   "metadata": {},
   "source": [
    "## 2. Sketching task – 1/2 A4 (Individual, 10 Points)"
   ]
  },
  {
   "cell_type": "markdown",
   "metadata": {},
   "source": [
    "### 2a. COUNT-MIN sketch\n"
   ]
  },
  {
   "cell_type": "code",
   "execution_count": null,
   "metadata": {},
   "outputs": [],
   "source": []
  },
  {
   "cell_type": "markdown",
   "metadata": {},
   "source": [
    "### 2b. Analysis and answers to the questions"
   ]
  },
  {
   "cell_type": "code",
   "execution_count": null,
   "metadata": {},
   "outputs": [],
   "source": []
  },
  {
   "cell_type": "markdown",
   "metadata": {},
   "source": [
    "## 3. Min-wise locality sensitive hashing task – 1/2 A4 (Individual, 10 Points)"
   ]
  },
  {
   "cell_type": "markdown",
   "metadata": {},
   "source": [
    "### 3a. Implementation"
   ]
  },
  {
   "cell_type": "code",
   "execution_count": null,
   "metadata": {},
   "outputs": [],
   "source": []
  },
  {
   "cell_type": "markdown",
   "metadata": {},
   "source": [
    "### 3b. Analysis and answers to the questions"
   ]
  },
  {
   "cell_type": "code",
   "execution_count": null,
   "metadata": {},
   "outputs": [],
   "source": []
  },
  {
   "cell_type": "markdown",
   "metadata": {},
   "source": [
    "## 4.Botnet profiling and fingerprinting task – 1 A4 (5 Points)"
   ]
  },
  {
   "cell_type": "markdown",
   "metadata": {},
   "source": [
    "### 4a. Learn a sequential model, profiling and fingerprinting"
   ]
  },
  {
   "cell_type": "code",
   "execution_count": null,
   "metadata": {},
   "outputs": [],
   "source": []
  },
  {
   "cell_type": "markdown",
   "metadata": {},
   "source": [
    "### 4b. Analysis and answers to the questions."
   ]
  },
  {
   "cell_type": "code",
   "execution_count": null,
   "metadata": {},
   "outputs": [],
   "source": []
  },
  {
   "cell_type": "markdown",
   "metadata": {},
   "source": [
    "## 5. Bonus Task 1/2 A4 (5 Points)"
   ]
  },
  {
   "cell_type": "markdown",
   "metadata": {},
   "source": [
    "### 5a. Provide implementation and analysis."
   ]
  },
  {
   "cell_type": "code",
   "execution_count": null,
   "metadata": {},
   "outputs": [],
   "source": []
  }
 ],
 "metadata": {
  "kernelspec": {
   "display_name": "Python 3 (ipykernel)",
   "language": "python",
   "name": "python3"
  },
  "language_info": {
   "codemirror_mode": {
    "name": "ipython",
    "version": 3
   },
   "file_extension": ".py",
   "mimetype": "text/x-python",
   "name": "python",
   "nbconvert_exporter": "python",
   "pygments_lexer": "ipython3",
   "version": "3.9.16"
  }
 },
 "nbformat": 4,
 "nbformat_minor": 4
}
