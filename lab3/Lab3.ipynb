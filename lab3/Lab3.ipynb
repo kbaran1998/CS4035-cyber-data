{
 "cells": [
  {
   "cell_type": "markdown",
   "metadata": {},
   "source": [
    "# CS4035 - Cyber Data Analytics\n",
    "## Lab 3 "
   ]
  },
  {
   "cell_type": "markdown",
   "metadata": {},
   "source": [
    "## Group Number : 27"
   ]
  },
  {
   "cell_type": "markdown",
   "metadata": {},
   "source": [
    "## Student 1 \n",
    "### Name : Krzysztof Baran\n",
    "### ID : 4662148"
   ]
  },
  {
   "cell_type": "markdown",
   "metadata": {},
   "source": [
    "## Student 2\n",
    "### Name : Michał Okoń\n",
    "### ID : 5056640"
   ]
  },
  {
   "cell_type": "markdown",
   "metadata": {},
   "source": [
    "## 0. Data and import"
   ]
  },
  {
   "cell_type": "code",
   "execution_count": 1,
   "metadata": {},
   "outputs": [],
   "source": [
    "import os\n",
    "import nbformat\n",
    "import numpy as np\n",
    "import pandas as pd\n",
    "import seaborn as sns\n",
    "from tqdm import tqdm\n",
    "from collections import Counter\n",
    "import matplotlib.pyplot as plt\n",
    "from sklearn.decomposition import PCA\n",
    "from statsmodels.tsa.stattools import acf\n",
    "from statsmodels.tsa.stattools import ccf\n",
    "from sklearn.linear_model import ARDRegression\n",
    "from sklearn.preprocessing import KBinsDiscretizer\n",
    "from statsmodels.graphics.tsaplots import plot_pacf, plot_acf\n",
    "from sklearn.neighbors import LocalOutlierFactor, NearestNeighbors\n",
    "\n",
    "%matplotlib inline"
   ]
  },
  {
   "cell_type": "code",
   "execution_count": 2,
   "metadata": {},
   "outputs": [
    {
     "name": "stdout",
     "output_type": "stream",
     "text": [
      "Word count: 147\n"
     ]
    }
   ],
   "source": [
    "# If this cell does not work try running ``\n",
    "nb = nbformat.read(\"Lab3.ipynb\", nbformat.NO_CONVERT)\n",
    "word_count = 0\n",
    "for cell in nb.cells:\n",
    "    if cell.cell_type == \"markdown\":\n",
    "        word_count += len(cell['source'].replace('#', '').lstrip().split(' '))\n",
    "print(\"Word count:\", word_count)"
   ]
  },
  {
   "cell_type": "markdown",
   "metadata": {},
   "source": [
    "## 1. Familiarization and discretization task – 1 A4 (5 Points)"
   ]
  },
  {
   "cell_type": "markdown",
   "metadata": {},
   "source": [
    "### 1a. Plot visualizations - Select and visualize two features for modeling the behavior of the infected host."
   ]
  },
  {
   "cell_type": "code",
   "execution_count": 3,
   "metadata": {},
   "outputs": [
    {
     "data": {
      "text/html": [
       "<div>\n",
       "<style scoped>\n",
       "    .dataframe tbody tr th:only-of-type {\n",
       "        vertical-align: middle;\n",
       "    }\n",
       "\n",
       "    .dataframe tbody tr th {\n",
       "        vertical-align: top;\n",
       "    }\n",
       "\n",
       "    .dataframe thead th {\n",
       "        text-align: right;\n",
       "    }\n",
       "</style>\n",
       "<table border=\"1\" class=\"dataframe\">\n",
       "  <thead>\n",
       "    <tr style=\"text-align: right;\">\n",
       "      <th></th>\n",
       "      <th>StartTime</th>\n",
       "      <th>Dur</th>\n",
       "      <th>Proto</th>\n",
       "      <th>SrcAddr</th>\n",
       "      <th>Sport</th>\n",
       "      <th>Dir</th>\n",
       "      <th>DstAddr</th>\n",
       "      <th>Dport</th>\n",
       "      <th>State</th>\n",
       "      <th>sTos</th>\n",
       "      <th>dTos</th>\n",
       "      <th>TotPkts</th>\n",
       "      <th>TotBytes</th>\n",
       "      <th>SrcBytes</th>\n",
       "      <th>Label</th>\n",
       "    </tr>\n",
       "  </thead>\n",
       "  <tbody>\n",
       "    <tr>\n",
       "      <th>0</th>\n",
       "      <td>2011/08/18 10:21:46.633335</td>\n",
       "      <td>1.060248</td>\n",
       "      <td>tcp</td>\n",
       "      <td>93.45.239.29</td>\n",
       "      <td>1611</td>\n",
       "      <td>-&gt;</td>\n",
       "      <td>147.32.84.118</td>\n",
       "      <td>6881</td>\n",
       "      <td>S_RA</td>\n",
       "      <td>0.0</td>\n",
       "      <td>0.0</td>\n",
       "      <td>4</td>\n",
       "      <td>252</td>\n",
       "      <td>132</td>\n",
       "      <td>flow=Background-TCP-Attempt</td>\n",
       "    </tr>\n",
       "    <tr>\n",
       "      <th>1</th>\n",
       "      <td>2011/08/18 10:19:49.027650</td>\n",
       "      <td>279.349152</td>\n",
       "      <td>tcp</td>\n",
       "      <td>62.240.166.118</td>\n",
       "      <td>1031</td>\n",
       "      <td>&lt;?&gt;</td>\n",
       "      <td>147.32.84.229</td>\n",
       "      <td>13363</td>\n",
       "      <td>SRPA_PA</td>\n",
       "      <td>0.0</td>\n",
       "      <td>0.0</td>\n",
       "      <td>15</td>\n",
       "      <td>1318</td>\n",
       "      <td>955</td>\n",
       "      <td>flow=Background-TCP-Attempt</td>\n",
       "    </tr>\n",
       "    <tr>\n",
       "      <th>2</th>\n",
       "      <td>2011/08/18 10:22:07.160628</td>\n",
       "      <td>166.390015</td>\n",
       "      <td>tcp</td>\n",
       "      <td>147.32.86.148</td>\n",
       "      <td>58067</td>\n",
       "      <td>-&gt;</td>\n",
       "      <td>66.235.132.232</td>\n",
       "      <td>80</td>\n",
       "      <td>SR_SA</td>\n",
       "      <td>0.0</td>\n",
       "      <td>0.0</td>\n",
       "      <td>3</td>\n",
       "      <td>212</td>\n",
       "      <td>134</td>\n",
       "      <td>flow=Background-TCP-Established</td>\n",
       "    </tr>\n",
       "    <tr>\n",
       "      <th>3</th>\n",
       "      <td>2011/08/18 10:26:02.052163</td>\n",
       "      <td>1.187083</td>\n",
       "      <td>tcp</td>\n",
       "      <td>147.32.3.51</td>\n",
       "      <td>3130</td>\n",
       "      <td>-&gt;</td>\n",
       "      <td>147.32.84.46</td>\n",
       "      <td>10010</td>\n",
       "      <td>S_RA</td>\n",
       "      <td>0.0</td>\n",
       "      <td>0.0</td>\n",
       "      <td>4</td>\n",
       "      <td>244</td>\n",
       "      <td>124</td>\n",
       "      <td>flow=Background-TCP-Attempt</td>\n",
       "    </tr>\n",
       "    <tr>\n",
       "      <th>4</th>\n",
       "      <td>2011/08/18 10:26:52.226748</td>\n",
       "      <td>0.980571</td>\n",
       "      <td>tcp</td>\n",
       "      <td>88.212.37.169</td>\n",
       "      <td>3134</td>\n",
       "      <td>-&gt;</td>\n",
       "      <td>147.32.84.118</td>\n",
       "      <td>6881</td>\n",
       "      <td>S_RA</td>\n",
       "      <td>0.0</td>\n",
       "      <td>0.0</td>\n",
       "      <td>4</td>\n",
       "      <td>244</td>\n",
       "      <td>124</td>\n",
       "      <td>flow=Background-TCP-Attempt</td>\n",
       "    </tr>\n",
       "    <tr>\n",
       "      <th>...</th>\n",
       "      <td>...</td>\n",
       "      <td>...</td>\n",
       "      <td>...</td>\n",
       "      <td>...</td>\n",
       "      <td>...</td>\n",
       "      <td>...</td>\n",
       "      <td>...</td>\n",
       "      <td>...</td>\n",
       "      <td>...</td>\n",
       "      <td>...</td>\n",
       "      <td>...</td>\n",
       "      <td>...</td>\n",
       "      <td>...</td>\n",
       "      <td>...</td>\n",
       "      <td>...</td>\n",
       "    </tr>\n",
       "    <tr>\n",
       "      <th>1309786</th>\n",
       "      <td>2011/08/18 15:04:59.579762</td>\n",
       "      <td>0.000158</td>\n",
       "      <td>tcp</td>\n",
       "      <td>219.129.213.146</td>\n",
       "      <td>25463</td>\n",
       "      <td>-&gt;</td>\n",
       "      <td>147.32.87.44</td>\n",
       "      <td>80</td>\n",
       "      <td>S_SA</td>\n",
       "      <td>0.0</td>\n",
       "      <td>0.0</td>\n",
       "      <td>2</td>\n",
       "      <td>152</td>\n",
       "      <td>78</td>\n",
       "      <td>flow=Background-TCP-Established</td>\n",
       "    </tr>\n",
       "    <tr>\n",
       "      <th>1309787</th>\n",
       "      <td>2011/08/18 15:04:59.626719</td>\n",
       "      <td>0.000688</td>\n",
       "      <td>udp</td>\n",
       "      <td>213.220.104.152</td>\n",
       "      <td>64126</td>\n",
       "      <td>&lt;-&gt;</td>\n",
       "      <td>147.32.84.229</td>\n",
       "      <td>13363</td>\n",
       "      <td>CON</td>\n",
       "      <td>0.0</td>\n",
       "      <td>0.0</td>\n",
       "      <td>2</td>\n",
       "      <td>306</td>\n",
       "      <td>244</td>\n",
       "      <td>flow=Background-UDP-Established</td>\n",
       "    </tr>\n",
       "    <tr>\n",
       "      <th>1309788</th>\n",
       "      <td>2011/08/18 15:04:59.686325</td>\n",
       "      <td>0.000689</td>\n",
       "      <td>udp</td>\n",
       "      <td>59.22.11.248</td>\n",
       "      <td>44432</td>\n",
       "      <td>&lt;-&gt;</td>\n",
       "      <td>147.32.84.229</td>\n",
       "      <td>13363</td>\n",
       "      <td>CON</td>\n",
       "      <td>0.0</td>\n",
       "      <td>0.0</td>\n",
       "      <td>2</td>\n",
       "      <td>144</td>\n",
       "      <td>83</td>\n",
       "      <td>flow=Background-UDP-Established</td>\n",
       "    </tr>\n",
       "    <tr>\n",
       "      <th>1309789</th>\n",
       "      <td>2011/08/18 15:04:59.690632</td>\n",
       "      <td>0.000000</td>\n",
       "      <td>udp</td>\n",
       "      <td>95.102.170.66</td>\n",
       "      <td>16978</td>\n",
       "      <td>-&gt;</td>\n",
       "      <td>147.32.84.229</td>\n",
       "      <td>13363</td>\n",
       "      <td>INT</td>\n",
       "      <td>0.0</td>\n",
       "      <td>NaN</td>\n",
       "      <td>1</td>\n",
       "      <td>172</td>\n",
       "      <td>172</td>\n",
       "      <td>flow=Background-UDP-Attempt</td>\n",
       "    </tr>\n",
       "    <tr>\n",
       "      <th>1309790</th>\n",
       "      <td>2011/08/18 15:04:59.703972</td>\n",
       "      <td>0.001252</td>\n",
       "      <td>tcp</td>\n",
       "      <td>147.32.86.223</td>\n",
       "      <td>52836</td>\n",
       "      <td>-&gt;</td>\n",
       "      <td>89.221.217.12</td>\n",
       "      <td>1935</td>\n",
       "      <td>SA_SA</td>\n",
       "      <td>0.0</td>\n",
       "      <td>0.0</td>\n",
       "      <td>3</td>\n",
       "      <td>192</td>\n",
       "      <td>126</td>\n",
       "      <td>flow=Background-TCP-Established</td>\n",
       "    </tr>\n",
       "  </tbody>\n",
       "</table>\n",
       "<p>1309791 rows × 15 columns</p>\n",
       "</div>"
      ],
      "text/plain": [
       "                          StartTime         Dur Proto          SrcAddr  Sport  \\\n",
       "0        2011/08/18 10:21:46.633335    1.060248   tcp     93.45.239.29   1611   \n",
       "1        2011/08/18 10:19:49.027650  279.349152   tcp   62.240.166.118   1031   \n",
       "2        2011/08/18 10:22:07.160628  166.390015   tcp    147.32.86.148  58067   \n",
       "3        2011/08/18 10:26:02.052163    1.187083   tcp      147.32.3.51   3130   \n",
       "4        2011/08/18 10:26:52.226748    0.980571   tcp    88.212.37.169   3134   \n",
       "...                             ...         ...   ...              ...    ...   \n",
       "1309786  2011/08/18 15:04:59.579762    0.000158   tcp  219.129.213.146  25463   \n",
       "1309787  2011/08/18 15:04:59.626719    0.000688   udp  213.220.104.152  64126   \n",
       "1309788  2011/08/18 15:04:59.686325    0.000689   udp     59.22.11.248  44432   \n",
       "1309789  2011/08/18 15:04:59.690632    0.000000   udp    95.102.170.66  16978   \n",
       "1309790  2011/08/18 15:04:59.703972    0.001252   tcp    147.32.86.223  52836   \n",
       "\n",
       "           Dir         DstAddr  Dport    State  sTos  dTos  TotPkts  TotBytes  \\\n",
       "0           ->   147.32.84.118   6881     S_RA   0.0   0.0        4       252   \n",
       "1          <?>   147.32.84.229  13363  SRPA_PA   0.0   0.0       15      1318   \n",
       "2           ->  66.235.132.232     80    SR_SA   0.0   0.0        3       212   \n",
       "3           ->    147.32.84.46  10010     S_RA   0.0   0.0        4       244   \n",
       "4           ->   147.32.84.118   6881     S_RA   0.0   0.0        4       244   \n",
       "...        ...             ...    ...      ...   ...   ...      ...       ...   \n",
       "1309786     ->    147.32.87.44     80     S_SA   0.0   0.0        2       152   \n",
       "1309787    <->   147.32.84.229  13363      CON   0.0   0.0        2       306   \n",
       "1309788    <->   147.32.84.229  13363      CON   0.0   0.0        2       144   \n",
       "1309789     ->   147.32.84.229  13363      INT   0.0   NaN        1       172   \n",
       "1309790     ->   89.221.217.12   1935    SA_SA   0.0   0.0        3       192   \n",
       "\n",
       "         SrcBytes                            Label  \n",
       "0             132      flow=Background-TCP-Attempt  \n",
       "1             955      flow=Background-TCP-Attempt  \n",
       "2             134  flow=Background-TCP-Established  \n",
       "3             124      flow=Background-TCP-Attempt  \n",
       "4             124      flow=Background-TCP-Attempt  \n",
       "...           ...                              ...  \n",
       "1309786        78  flow=Background-TCP-Established  \n",
       "1309787       244  flow=Background-UDP-Established  \n",
       "1309788        83  flow=Background-UDP-Established  \n",
       "1309789       172      flow=Background-UDP-Attempt  \n",
       "1309790       126  flow=Background-TCP-Established  \n",
       "\n",
       "[1309791 rows x 15 columns]"
      ]
     },
     "execution_count": 3,
     "metadata": {},
     "output_type": "execute_result"
    }
   ],
   "source": [
    "scenario_10_path = os.path.join(os.getcwd(), \"data\", \"dataset_10\", \"capture20110818.binetflow\")\n",
    "\n",
    "scenario_10_df = pd.read_csv(scenario_10_path)\n",
    "scenario_10_df"
   ]
  },
  {
   "cell_type": "markdown",
   "metadata": {},
   "source": [
    "### 1b. Discretize selected features"
   ]
  },
  {
   "cell_type": "code",
   "execution_count": null,
   "metadata": {},
   "outputs": [],
   "source": []
  },
  {
   "cell_type": "markdown",
   "metadata": {},
   "source": [
    "### 1c. Answers and explanation"
   ]
  },
  {
   "cell_type": "code",
   "execution_count": null,
   "metadata": {},
   "outputs": [],
   "source": []
  },
  {
   "cell_type": "markdown",
   "metadata": {},
   "source": [
    "## 2. Sketching task – 1/2 A4 (Individual, 10 Points)"
   ]
  },
  {
   "cell_type": "markdown",
   "metadata": {},
   "source": [
    "### 2a. COUNT-MIN sketch\n"
   ]
  },
  {
   "cell_type": "code",
   "execution_count": null,
   "metadata": {},
   "outputs": [],
   "source": []
  },
  {
   "cell_type": "markdown",
   "metadata": {},
   "source": [
    "### 2b. Analysis and answers to the questions"
   ]
  },
  {
   "cell_type": "code",
   "execution_count": null,
   "metadata": {},
   "outputs": [],
   "source": []
  },
  {
   "cell_type": "markdown",
   "metadata": {},
   "source": [
    "## 3. Min-wise locality sensitive hashing task – 1/2 A4 (Individual, 10 Points)"
   ]
  },
  {
   "cell_type": "markdown",
   "metadata": {},
   "source": [
    "### 3a. Implementation"
   ]
  },
  {
   "cell_type": "code",
   "execution_count": null,
   "metadata": {},
   "outputs": [],
   "source": []
  },
  {
   "cell_type": "markdown",
   "metadata": {},
   "source": [
    "### 3b. Analysis and answers to the questions"
   ]
  },
  {
   "cell_type": "code",
   "execution_count": null,
   "metadata": {},
   "outputs": [],
   "source": []
  },
  {
   "cell_type": "markdown",
   "metadata": {},
   "source": [
    "## 4.Botnet profiling and fingerprinting task – 1 A4 (5 Points)"
   ]
  },
  {
   "cell_type": "markdown",
   "metadata": {},
   "source": [
    "### 4a. Learn a sequential model, profiling and fingerprinting"
   ]
  },
  {
   "cell_type": "code",
   "execution_count": null,
   "metadata": {},
   "outputs": [],
   "source": []
  },
  {
   "cell_type": "markdown",
   "metadata": {},
   "source": [
    "### 4b. Analysis and answers to the questions."
   ]
  },
  {
   "cell_type": "code",
   "execution_count": null,
   "metadata": {},
   "outputs": [],
   "source": []
  },
  {
   "cell_type": "markdown",
   "metadata": {},
   "source": [
    "## 5. Bonus Task 1/2 A4 (5 Points)"
   ]
  },
  {
   "cell_type": "markdown",
   "metadata": {},
   "source": [
    "### 5a. Provide implementation and analysis."
   ]
  },
  {
   "cell_type": "code",
   "execution_count": null,
   "metadata": {},
   "outputs": [],
   "source": []
  }
 ],
 "metadata": {
  "kernelspec": {
   "display_name": "Python 3 (ipykernel)",
   "language": "python",
   "name": "python3"
  },
  "language_info": {
   "codemirror_mode": {
    "name": "ipython",
    "version": 3
   },
   "file_extension": ".py",
   "mimetype": "text/x-python",
   "name": "python",
   "nbconvert_exporter": "python",
   "pygments_lexer": "ipython3",
   "version": "3.9.16"
  }
 },
 "nbformat": 4,
 "nbformat_minor": 4
}
